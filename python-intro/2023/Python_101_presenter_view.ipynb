{
  "nbformat": 4,
  "nbformat_minor": 0,
  "metadata": {
    "colab": {
      "provenance": [],
      "collapsed_sections": [
        "FGts7vqfaEaS",
        "Gdy4Ws97aSb8",
        "kNrh1g-FadxZ",
        "wmT91apTaT65",
        "3gLuxzDNe2z5",
        "aawaKOAm-OGQ",
        "cNt1BzQy-Pn1",
        "5MSLMEVI-WPo",
        "_-Smct1S-tOw",
        "5_gGOxyebxfZ",
        "Wioio5YbbxZ-",
        "W_9VfZZdBRq_"
      ],
      "toc_visible": true
    },
    "kernelspec": {
      "name": "python3",
      "display_name": "Python 3"
    },
    "language_info": {
      "name": "python"
    }
  },
  "cells": [
    {
      "cell_type": "markdown",
      "source": [
        "Most of this tutorial is cobbled together from parts of \"How to think like a computer scientist: Learning with Python.\" This is a great resource that goes a lot more in depth than I will."
      ],
      "metadata": {
        "id": "ngrnd0KudEop"
      }
    },
    {
      "cell_type": "markdown",
      "source": [
        "# First Step: Hello, World!"
      ],
      "metadata": {
        "id": "FGts7vqfaEaS"
      }
    },
    {
      "cell_type": "code",
      "source": [
        "print(\"Hello, World!\")"
      ],
      "metadata": {
        "colab": {
          "base_uri": "https://localhost:8080/"
        },
        "id": "yHCVTTD0W0Bn",
        "outputId": "98524b5f-7961-4d0d-b0d9-b91ff23a631f"
      },
      "execution_count": null,
      "outputs": [
        {
          "output_type": "stream",
          "name": "stdout",
          "text": [
            "Hello, World!\n"
          ]
        }
      ]
    },
    {
      "cell_type": "markdown",
      "source": [
        "# Basic math\n"
      ],
      "metadata": {
        "id": "Gdy4Ws97aSb8"
      }
    },
    {
      "cell_type": "code",
      "source": [
        "1 + 2 "
      ],
      "metadata": {
        "colab": {
          "base_uri": "https://localhost:8080/"
        },
        "id": "TKTtwEeHaV-v",
        "outputId": "2285d25c-af9e-4a6a-f77c-27ddee12ce34"
      },
      "execution_count": null,
      "outputs": [
        {
          "output_type": "execute_result",
          "data": {
            "text/plain": [
              "3"
            ]
          },
          "metadata": {},
          "execution_count": 5
        }
      ]
    },
    {
      "cell_type": "markdown",
      "source": [
        "Jupyter will only print the output of the last line in each cell."
      ],
      "metadata": {
        "id": "LVQZOqVeafWW"
      }
    },
    {
      "cell_type": "code",
      "source": [
        "1 + 2\n",
        "6 / 3"
      ],
      "metadata": {
        "colab": {
          "base_uri": "https://localhost:8080/"
        },
        "id": "W4wGj7_FakEe",
        "outputId": "cb01c2a8-3a6e-4855-9a61-0aba10a77687"
      },
      "execution_count": null,
      "outputs": [
        {
          "output_type": "execute_result",
          "data": {
            "text/plain": [
              "2.0"
            ]
          },
          "metadata": {},
          "execution_count": 6
        }
      ]
    },
    {
      "cell_type": "markdown",
      "source": [
        "## 1"
      ],
      "metadata": {
        "id": "kNrh1g-FadxZ"
      }
    },
    {
      "cell_type": "markdown",
      "source": [
        "$$6 \\times 5 - 6 \\times 3^2 \\times \\frac{2^3}{4} \\times 7 = -726.0$$"
      ],
      "metadata": {
        "id": "ZMHIBzxZ93AS"
      }
    },
    {
      "cell_type": "markdown",
      "source": [
        "### answer"
      ],
      "metadata": {
        "id": "wmT91apTaT65"
      }
    },
    {
      "cell_type": "code",
      "source": [
        "6*5-6*3**2*2**3/4*7"
      ],
      "metadata": {
        "colab": {
          "base_uri": "https://localhost:8080/"
        },
        "id": "7z6y01bV9v9e",
        "outputId": "856520f8-d8f1-4965-d376-0ab40be3eb94"
      },
      "execution_count": null,
      "outputs": [
        {
          "output_type": "execute_result",
          "data": {
            "text/plain": [
              "-726.0"
            ]
          },
          "metadata": {},
          "execution_count": 3
        }
      ]
    },
    {
      "cell_type": "markdown",
      "source": [
        "## 2\n",
        "$$(6 \\times 5 - (6 \\times 3))^2 \\times (\\frac{(2^3)}{4} \\times 7)$$\n"
      ],
      "metadata": {
        "id": "VTJPtdDR910K"
      }
    },
    {
      "cell_type": "markdown",
      "source": [
        "### answer"
      ],
      "metadata": {
        "id": "bHJLYdE4ajJa"
      }
    },
    {
      "cell_type": "code",
      "source": [
        "(6*5-(6*3))**2*((2**3)/4*7)"
      ],
      "metadata": {
        "colab": {
          "base_uri": "https://localhost:8080/"
        },
        "id": "hgNyfTdk9yhw",
        "outputId": "7a554be7-da0f-417d-b659-bf49749514de"
      },
      "execution_count": null,
      "outputs": [
        {
          "output_type": "execute_result",
          "data": {
            "text/plain": [
              "2016.0"
            ]
          },
          "metadata": {},
          "execution_count": 2
        }
      ]
    },
    {
      "cell_type": "markdown",
      "source": [
        "Much like order of operations, Python has rules for evaluating expressions. As we saw, for math, this means following pemdas."
      ],
      "metadata": {
        "id": "zRdz-prUZL0J"
      }
    },
    {
      "cell_type": "code",
      "source": [
        "# First, evaluate what's inside the parentheses. Then, run `abs` on that value. \n",
        "abs(1.11 - 12.3)"
      ],
      "metadata": {
        "colab": {
          "base_uri": "https://localhost:8080/"
        },
        "id": "17vK7S82ZQnp",
        "outputId": "b349fa74-30f5-4082-c846-e9edd06bdf4b"
      },
      "execution_count": null,
      "outputs": [
        {
          "output_type": "execute_result",
          "data": {
            "text/plain": [
              "11.190000000000001"
            ]
          },
          "metadata": {},
          "execution_count": 1
        }
      ]
    },
    {
      "cell_type": "markdown",
      "source": [
        "# Variables and Types"
      ],
      "metadata": {
        "id": "T9NwpGwcaqNy"
      }
    },
    {
      "cell_type": "code",
      "source": [
        "x = 10\n",
        "x + 4"
      ],
      "metadata": {
        "colab": {
          "base_uri": "https://localhost:8080/"
        },
        "id": "paWjrdAqat40",
        "outputId": "d30d4c61-6f98-4136-c92b-71659ec9c5ce"
      },
      "execution_count": null,
      "outputs": [
        {
          "output_type": "execute_result",
          "data": {
            "text/plain": [
              "14"
            ]
          },
          "metadata": {},
          "execution_count": 7
        }
      ]
    },
    {
      "cell_type": "markdown",
      "source": [
        "Variables are carried across cells."
      ],
      "metadata": {
        "id": "gbkUxHMLa0Ir"
      }
    },
    {
      "cell_type": "code",
      "source": [
        "x + 2"
      ],
      "metadata": {
        "colab": {
          "base_uri": "https://localhost:8080/"
        },
        "id": "pT2zuOkvayXe",
        "outputId": "7d641737-f9ce-4ef0-dbf9-247d84826475"
      },
      "execution_count": null,
      "outputs": [
        {
          "output_type": "execute_result",
          "data": {
            "text/plain": [
              "12"
            ]
          },
          "metadata": {},
          "execution_count": 8
        }
      ]
    },
    {
      "cell_type": "markdown",
      "source": [
        "Variable names in Python are traditionally lowercase, with underscores seperating the words. Variables should be descriptive and unique."
      ],
      "metadata": {
        "id": "hOEJscFObIMO"
      }
    },
    {
      "cell_type": "code",
      "source": [
        "starting_value = 2\n",
        "difference = 4\n",
        "ending_value = starting_value - difference\n",
        "print(ending_value)"
      ],
      "metadata": {
        "colab": {
          "base_uri": "https://localhost:8080/"
        },
        "id": "_UmFDZi4bAkA",
        "outputId": "d10b3659-424b-476b-dd32-67fd5fcd8ae5"
      },
      "execution_count": null,
      "outputs": [
        {
          "output_type": "stream",
          "name": "stdout",
          "text": [
            "-2\n"
          ]
        }
      ]
    },
    {
      "cell_type": "markdown",
      "source": [
        "You can update a variables value"
      ],
      "metadata": {
        "id": "-KTgiLaUayjd"
      }
    },
    {
      "cell_type": "code",
      "source": [
        "x = 3\n",
        "print(x)\n",
        "\n",
        "x = 4\n",
        "print(x)\n",
        "\n",
        "x = x + 1\n",
        "print(x)"
      ],
      "metadata": {
        "colab": {
          "base_uri": "https://localhost:8080/"
        },
        "id": "LEUk3zTta1JH",
        "outputId": "e93e4492-0482-465b-c1ef-c4dde74ace89"
      },
      "execution_count": null,
      "outputs": [
        {
          "output_type": "stream",
          "name": "stdout",
          "text": [
            "3\n",
            "4\n",
            "5\n"
          ]
        }
      ]
    },
    {
      "cell_type": "markdown",
      "source": [
        "Variable names cannot collide with certain protected values in Python. These values will be distinguished with a different color."
      ],
      "metadata": {
        "id": "OLsGiGSiX4wM"
      }
    },
    {
      "cell_type": "code",
      "source": [
        "# INVALID\n",
        "assert = 1\n",
        "type = 1"
      ],
      "metadata": {
        "colab": {
          "base_uri": "https://localhost:8080/",
          "height": 134
        },
        "id": "sXrfW7IiYB8R",
        "outputId": "4d1fadd4-e150-48fb-93b8-4f92a1b6727f"
      },
      "execution_count": null,
      "outputs": [
        {
          "output_type": "error",
          "ename": "SyntaxError",
          "evalue": "ignored",
          "traceback": [
            "\u001b[0;36m  File \u001b[0;32m\"<ipython-input-4-cbf83dc59c74>\"\u001b[0;36m, line \u001b[0;32m2\u001b[0m\n\u001b[0;31m    assert = 1\u001b[0m\n\u001b[0m           ^\u001b[0m\n\u001b[0;31mSyntaxError\u001b[0m\u001b[0;31m:\u001b[0m invalid syntax\n"
          ]
        }
      ]
    },
    {
      "cell_type": "code",
      "source": [
        "biweekly_salary = 1240\n",
        "monthly_salary = 2 * biweekly_salary\n",
        "number_of_months_in_a_year = 12\n",
        "yearly_salary = number_of_months_in_a_year * monthly_salary\n",
        "yearly_salary"
      ],
      "metadata": {
        "id": "vSMnYWZ_WZbg"
      },
      "execution_count": null,
      "outputs": []
    },
    {
      "cell_type": "markdown",
      "source": [
        "Each variable has a type associated with it. For example, numbers without a decimal are called integers, and numbers with a decimal are called floats. Other types include things like Strings, lists, or Pandas Dataframes.\n",
        "\n",
        "To go from one type to another, or to enforce a type, you can _cast_ values from one type to another.\n",
        "\n",
        "Python handles most type managment, but it can come up with errors occasionally."
      ],
      "metadata": {
        "id": "e6chiMZzWeL9"
      }
    },
    {
      "cell_type": "code",
      "source": [
        "print(type(2.3))\n",
        "\n",
        "print(type(1))\n",
        "print(type(float(1)))\n",
        "\n",
        "decimal = 2.3\n",
        "whole_number = int(decimal)\n",
        "\n",
        "print(\"Decimal types:\")\n",
        "print(decimal)\n",
        "print(type(decimal))\n",
        "\n",
        "print(\"Whole number types:\")\n",
        "print(whole_number)\n",
        "print(type(whole_number))"
      ],
      "metadata": {
        "colab": {
          "base_uri": "https://localhost:8080/"
        },
        "id": "8eS9_i8wWx2O",
        "outputId": "64d28b59-7a1c-4fc2-ba48-806b7c7f5ab9"
      },
      "execution_count": null,
      "outputs": [
        {
          "output_type": "stream",
          "name": "stdout",
          "text": [
            "<class 'float'>\n",
            "<class 'int'>\n",
            "<class 'float'>\n",
            "Decimal types:\n",
            "2.3\n",
            "<class 'float'>\n",
            "Whole number types:\n",
            "2\n",
            "<class 'int'>\n"
          ]
        }
      ]
    },
    {
      "cell_type": "code",
      "source": [
        "# You can also convert from a string to a float or integer. \n",
        "number_str = \"1\"\n",
        "number_int = int(number_str)\n",
        "\n",
        "print(\"String version: \", number_str, \" string version type: \", type(number_str))\n",
        "print(\"Int version: \", number_int, \" Int version type: \", type(number_int))\n"
      ],
      "metadata": {
        "colab": {
          "base_uri": "https://localhost:8080/"
        },
        "id": "dQzedphLXgBc",
        "outputId": "9a2f7fad-310b-49da-9594-c9d9f8d7c002"
      },
      "execution_count": null,
      "outputs": [
        {
          "output_type": "stream",
          "name": "stdout",
          "text": [
            "String version:  1  string version type:  <class 'str'>\n",
            "Int version:  1  Int version type:  <class 'int'>\n"
          ]
        }
      ]
    },
    {
      "cell_type": "markdown",
      "source": [
        "A snippet of text is represented by a string value in Python. The word \"string\" is a computer science term for a sequence of characters. A string might contain a single character, a word, a sentence, or a whole book.\n",
        "\n",
        "To distinguish text data from actual code, we demarcate strings by putting quotation marks around them. Single quotes (') and double quotes (\") are both valid. The contents can be any sequence of characters, including numbers and symbols. "
      ],
      "metadata": {
        "id": "fvl_nAh4krEr"
      }
    },
    {
      "cell_type": "code",
      "source": [
        "print(\"This is an example \", \"of a string\")"
      ],
      "metadata": {
        "colab": {
          "base_uri": "https://localhost:8080/"
        },
        "id": "FzsWEn98k8H5",
        "outputId": "61c26cfb-45a5-4072-cd21-158a46df05bf"
      },
      "execution_count": null,
      "outputs": [
        {
          "output_type": "stream",
          "name": "stdout",
          "text": [
            "This is an example  of a string\n"
          ]
        }
      ]
    },
    {
      "cell_type": "markdown",
      "source": [
        "There are some methods you can call on strings."
      ],
      "metadata": {
        "id": "snE2sAJdkxsq"
      }
    },
    {
      "cell_type": "code",
      "source": [
        "# Replace one letter\n",
        "'Hello'.replace('o', 'a')"
      ],
      "metadata": {
        "colab": {
          "base_uri": "https://localhost:8080/",
          "height": 36
        },
        "id": "kG-IN7oYlHfp",
        "outputId": "dd4b812e-a37f-414c-e916-4bd504cef809"
      },
      "execution_count": null,
      "outputs": [
        {
          "output_type": "execute_result",
          "data": {
            "text/plain": [
              "'Hella'"
            ],
            "application/vnd.google.colaboratory.intrinsic+json": {
              "type": "string"
            }
          },
          "metadata": {},
          "execution_count": 20
        }
      ]
    },
    {
      "cell_type": "code",
      "source": [
        "'hitchhiker'.replace('hi', 'ma')"
      ],
      "metadata": {
        "colab": {
          "base_uri": "https://localhost:8080/",
          "height": 36
        },
        "id": "ZSMwHKO2lKtc",
        "outputId": "cabd2fdb-2842-47dd-a73a-3dbd65218727"
      },
      "execution_count": null,
      "outputs": [
        {
          "output_type": "execute_result",
          "data": {
            "text/plain": [
              "'matchmaker'"
            ],
            "application/vnd.google.colaboratory.intrinsic+json": {
              "type": "string"
            }
          },
          "metadata": {},
          "execution_count": 21
        }
      ]
    },
    {
      "cell_type": "markdown",
      "source": [
        "# If statements and booleans"
      ],
      "metadata": {
        "id": "3gLuxzDNe2z5"
      }
    },
    {
      "cell_type": "markdown",
      "source": [
        "A boolean is true or false. This can also be represented as 1 (true) or 0 (false). At the lowest level, all computer programs are eventually reduced down to 1s and 0s. At a high level, booleans are very useful for branching logic. "
      ],
      "metadata": {
        "id": "k_THLOAnjUyG"
      }
    },
    {
      "cell_type": "code",
      "source": [
        "true = True\n",
        "false = False\n",
        "\n",
        "if (true):\n",
        "  print(\"This is true\")\n",
        "\n",
        "if (false):\n",
        "  print(\"Since this is false, this line will not get printed\")\n",
        "\n",
        "if (not false):\n",
        "  print(\"This is not false\")"
      ],
      "metadata": {
        "colab": {
          "base_uri": "https://localhost:8080/"
        },
        "id": "8oRiANuwkdF5",
        "outputId": "45d79c08-d4e6-4f60-cca4-c577b17dcf7d"
      },
      "execution_count": null,
      "outputs": [
        {
          "output_type": "stream",
          "name": "stdout",
          "text": [
            "This is true\n",
            "This is not false\n"
          ]
        }
      ]
    },
    {
      "cell_type": "code",
      "source": [
        "# Change me\n",
        "a = True\n",
        "b = False\n",
        "\n",
        "if (a and b):\n",
        "  print(\"Both a and b are true\")\n",
        "\n",
        "if (a or b):\n",
        "  print(\"Either a or b is true (or both)\")\n",
        "\n",
        "if (a == b):\n",
        "  print(\"A and b are equal\")\n",
        "\n",
        "if (a != b):\n",
        "  print(\"a and b are not equal\")\n",
        "\n",
        "c = True\n",
        "\n",
        "if (a == b and c):\n",
        "  print(\"a and b are equal and c is true\")"
      ],
      "metadata": {
        "colab": {
          "base_uri": "https://localhost:8080/"
        },
        "id": "aCG3b7N7k5RK",
        "outputId": "79b50ae5-8b8f-47c6-8e1b-feaab93645b4"
      },
      "execution_count": null,
      "outputs": [
        {
          "output_type": "stream",
          "name": "stdout",
          "text": [
            "Either a or b is true (or both)\n",
            "a and b are not equal\n"
          ]
        }
      ]
    },
    {
      "cell_type": "code",
      "source": [
        "is_a_bird = False\n",
        "is_a_plane = False\n",
        "\n",
        "if (not is_a_bird):\n",
        "  print(\"Is it a bird? No\")\n",
        "\n",
        "if (not is_a_plane):\n",
        "  print(\"Is it a plane? No\")\n",
        "\n",
        "if (not is_a_bird and not is_a_plane):\n",
        "  print(\"It's superman!\")\n"
      ],
      "metadata": {
        "colab": {
          "base_uri": "https://localhost:8080/"
        },
        "id": "7yXiqjnfe5o5",
        "outputId": "9e46e060-4d9f-4203-fe5f-9dc9d7d7d9db"
      },
      "execution_count": null,
      "outputs": [
        {
          "output_type": "stream",
          "name": "stdout",
          "text": [
            "Is it a bird? No\n",
            "Is it a plane? No\n",
            "It's superman!\n"
          ]
        }
      ]
    },
    {
      "cell_type": "markdown",
      "source": [
        "Booleans can also be created through equality statements with numbers (and lots of other ways.)"
      ],
      "metadata": {
        "id": "mYlBkDjolxVD"
      }
    },
    {
      "cell_type": "code",
      "source": [
        "x = 1\n",
        "y = 3\n",
        "c = True\n",
        "\n",
        "if(x <= 10):\n",
        "  print(\"x is less than or equal to 10\")\n",
        "if(x > -10 and x < 10):\n",
        "  print(\"X is between -10 and 10\")\n",
        "\n",
        "  "
      ],
      "metadata": {
        "colab": {
          "base_uri": "https://localhost:8080/"
        },
        "id": "fKR5S1H2lwmQ",
        "outputId": "fd26e101-4f80-455b-f26f-656b7d1da383"
      },
      "execution_count": null,
      "outputs": [
        {
          "output_type": "stream",
          "name": "stdout",
          "text": [
            "x is less than or equal to 10\n",
            "X is between -10 and 10\n"
          ]
        }
      ]
    },
    {
      "cell_type": "markdown",
      "source": [
        "# Errors"
      ],
      "metadata": {
        "id": "aawaKOAm-OGQ"
      }
    },
    {
      "cell_type": "markdown",
      "source": [
        "## Syntax errors"
      ],
      "metadata": {
        "id": "cNt1BzQy-Pn1"
      }
    },
    {
      "cell_type": "markdown",
      "source": [
        "A Syntax error is an error in the way the program is written. **Syntax** refers to the structure of a program and the rules about that structure. For example, in English, a sentence must begin with a capital letter and end with a period. this sentence contains a syntax error. So does this one\n",
        "\n",
        "When these syntax errors are encountered in Python, the program will throw an error and stop."
      ],
      "metadata": {
        "id": "Ud_PBcs6-ziK"
      }
    },
    {
      "cell_type": "code",
      "source": [
        "x = 3\n",
        "if (x = 9:\n",
        "    print(\"x is 9\")"
      ],
      "metadata": {
        "colab": {
          "base_uri": "https://localhost:8080/",
          "height": 134
        },
        "id": "7VWWn4uq_P0Z",
        "outputId": "9e83be96-2558-4425-a406-78a5bd9a6427"
      },
      "execution_count": null,
      "outputs": [
        {
          "output_type": "error",
          "ename": "SyntaxError",
          "evalue": "ignored",
          "traceback": [
            "\u001b[0;36m  File \u001b[0;32m\"<ipython-input-2-3bfc938f35a2>\"\u001b[0;36m, line \u001b[0;32m2\u001b[0m\n\u001b[0;31m    if (x = 9:\u001b[0m\n\u001b[0m        ^\u001b[0m\n\u001b[0;31mSyntaxError\u001b[0m\u001b[0;31m:\u001b[0m invalid syntax. Maybe you meant '==' or ':=' instead of '='?\n"
          ]
        }
      ]
    },
    {
      "cell_type": "markdown",
      "source": [
        "## Logic Errors"
      ],
      "metadata": {
        "id": "5MSLMEVI-WPo"
      }
    },
    {
      "cell_type": "markdown",
      "source": [
        "Logic errors can be difficult to track down. The program may run without errors, but behave in unexpected or incorrect ways. "
      ],
      "metadata": {
        "id": "s4OFQ0nZ_ZLH"
      }
    },
    {
      "cell_type": "code",
      "source": [
        "# This computes (2 + 4) / 3 = 2.\n",
        "print(2 + 4 / 3)"
      ],
      "metadata": {
        "colab": {
          "base_uri": "https://localhost:8080/"
        },
        "id": "KEeoL-hV_jja",
        "outputId": "bc951ad4-14d1-477c-bce0-b9accea83299"
      },
      "execution_count": null,
      "outputs": [
        {
          "output_type": "stream",
          "name": "stdout",
          "text": [
            "3.333333333333333\n"
          ]
        }
      ]
    },
    {
      "cell_type": "code",
      "source": [
        "width = int(input(\"Please enter the width of a rectangle \"))\n",
        "height = int(input(\"Please enter the height of a rectangle \"))\n",
        "\n",
        "area = width * height\n",
        "print(\"The area of the rectangle is \" + str(area))\n",
        "\n",
        "perimeter = width + width + height\n",
        "print(\"The perimeter of the rectangle is \" + str(area))\n"
      ],
      "metadata": {
        "colab": {
          "base_uri": "https://localhost:8080/"
        },
        "id": "CvOuZpUW_5zl",
        "outputId": "43d77939-99ae-452a-da0a-268f5a0a46cf"
      },
      "execution_count": null,
      "outputs": [
        {
          "output_type": "stream",
          "name": "stdout",
          "text": [
            "Please enter the width of a rectangle 1\n",
            "Please enter the height of a rectangle 22\n",
            "The area of the rectangle is 22\n",
            "The perimeter of the rectangle is 22\n"
          ]
        }
      ]
    },
    {
      "cell_type": "markdown",
      "source": [
        "## Runtime Errors"
      ],
      "metadata": {
        "id": "_-Smct1S-tOw"
      }
    },
    {
      "cell_type": "markdown",
      "source": [
        "Finally, there are runtime errors, so called because the error does not appear until you run the program. These errors are also called exceptions because they usually indicate that something exceptional (and bad) has happened."
      ],
      "metadata": {
        "id": "6ciiCmsTAA2q"
      }
    },
    {
      "cell_type": "code",
      "source": [
        "width = int(input(\"Please enter the width of a rectangle \"))\n",
        "height = int(input(\"Please enter the height of a rectangle \"))\n",
        "\n",
        "area = width * height\n",
        "print(\"The area of the rectangle is \" + str(area))\n",
        "\n",
        "perimeter = width + width + height\n",
        "print(\"The perimeter of the rectangle is \" + str(area))\n"
      ],
      "metadata": {
        "colab": {
          "base_uri": "https://localhost:8080/",
          "height": 262
        },
        "id": "okofttTZAiFP",
        "outputId": "e1a16cd7-16c6-4be4-dabb-702a248e3be9"
      },
      "execution_count": null,
      "outputs": [
        {
          "name": "stdout",
          "output_type": "stream",
          "text": [
            "Please enter the width of a rectangle st\n"
          ]
        },
        {
          "output_type": "error",
          "ename": "ValueError",
          "evalue": "ignored",
          "traceback": [
            "\u001b[0;31m---------------------------------------------------------------------------\u001b[0m",
            "\u001b[0;31mValueError\u001b[0m                                Traceback (most recent call last)",
            "\u001b[0;32m<ipython-input-6-76b87d5766ac>\u001b[0m in \u001b[0;36m<cell line: 1>\u001b[0;34m()\u001b[0m\n\u001b[0;32m----> 1\u001b[0;31m \u001b[0mwidth\u001b[0m \u001b[0;34m=\u001b[0m \u001b[0mint\u001b[0m\u001b[0;34m(\u001b[0m\u001b[0minput\u001b[0m\u001b[0;34m(\u001b[0m\u001b[0;34m\"Please enter the width of a rectangle \"\u001b[0m\u001b[0;34m)\u001b[0m\u001b[0;34m)\u001b[0m\u001b[0;34m\u001b[0m\u001b[0;34m\u001b[0m\u001b[0m\n\u001b[0m\u001b[1;32m      2\u001b[0m \u001b[0mheight\u001b[0m \u001b[0;34m=\u001b[0m \u001b[0mint\u001b[0m\u001b[0;34m(\u001b[0m\u001b[0minput\u001b[0m\u001b[0;34m(\u001b[0m\u001b[0;34m\"Please enter the height of a rectangle \"\u001b[0m\u001b[0;34m)\u001b[0m\u001b[0;34m)\u001b[0m\u001b[0;34m\u001b[0m\u001b[0;34m\u001b[0m\u001b[0m\n\u001b[1;32m      3\u001b[0m \u001b[0;34m\u001b[0m\u001b[0m\n\u001b[1;32m      4\u001b[0m \u001b[0marea\u001b[0m \u001b[0;34m=\u001b[0m \u001b[0mwidth\u001b[0m \u001b[0;34m*\u001b[0m \u001b[0mheight\u001b[0m\u001b[0;34m\u001b[0m\u001b[0;34m\u001b[0m\u001b[0m\n\u001b[1;32m      5\u001b[0m \u001b[0mprint\u001b[0m\u001b[0;34m(\u001b[0m\u001b[0;34m\"The area of the rectangle is \"\u001b[0m \u001b[0;34m+\u001b[0m \u001b[0mstr\u001b[0m\u001b[0;34m(\u001b[0m\u001b[0marea\u001b[0m\u001b[0;34m)\u001b[0m\u001b[0;34m)\u001b[0m\u001b[0;34m\u001b[0m\u001b[0;34m\u001b[0m\u001b[0m\n",
            "\u001b[0;31mValueError\u001b[0m: invalid literal for int() with base 10: 'st'"
          ]
        }
      ]
    },
    {
      "cell_type": "markdown",
      "source": [
        "# Application: Manhattan Distance"
      ],
      "metadata": {
        "id": "lD-e3d6RBdBp"
      }
    },
    {
      "cell_type": "markdown",
      "metadata": {
        "id": "ulEwtUP_NpvJ"
      },
      "source": [
        "Chunhua is on the corner of 7th Avenue and 42nd Street in Midtown Manhattan, and she wants to know far she'd have to walk to get to Gramercy School on the corner of 10th Avenue and 34th Street.\n",
        "\n",
        "She can't cut across blocks diagonally, since there are buildings in the way.  She has to walk along the sidewalks.  Using the map below, she sees she'd have to walk 3 avenues (long blocks) and 8 streets (short blocks).  In terms of the given numbers, she computed 3 as the difference between 7 and 10, *in absolute value*, and 8 similarly.  \n",
        "\n",
        "Chunhua also knows that blocks in Manhattan are all about 80m by 274m (avenues are farther apart than streets).  So in total, she'd have to walk $(80 \\times |42 - 34| + 274 \\times |7 - 10|)$ meters to get to the park.\n",
        "\n",
        "<img src=\"https://github.com/cu-applied-math/stem-camp-notebooks/blob/master/2021/PythonIntro/figs/map.jpg?raw=1\"/>\n",
        "\n",
        "### QUESTION 1\n",
        "Write some code to compute the distance Chunhua needs to walk. "
      ]
    },
    {
      "cell_type": "code",
      "source": [],
      "metadata": {
        "id": "wIv7yXSgOR1q"
      },
      "execution_count": null,
      "outputs": []
    },
    {
      "cell_type": "markdown",
      "source": [
        "## Answer"
      ],
      "metadata": {
        "id": "moELCqNrOSOP"
      }
    },
    {
      "cell_type": "code",
      "execution_count": null,
      "metadata": {
        "id": "k_IHaTgONpvJ",
        "outputId": "c82557ac-8669-45d6-9e26-644527823178",
        "colab": {
          "base_uri": "https://localhost:8080/"
        }
      },
      "outputs": [
        {
          "output_type": "execute_result",
          "data": {
            "text/plain": [
              "1462"
            ]
          },
          "metadata": {},
          "execution_count": 18
        }
      ],
      "source": [
        "# Here's the number of streets away:\n",
        "num_streets_away = abs(42-34)\n",
        "\n",
        "# Compute the number of avenues away in a similar way:\n",
        "num_avenues_away = abs(7-10)\n",
        "\n",
        "street_length_m = 80\n",
        "avenue_length_m = 274\n",
        "\n",
        "# Now we compute the total distance Chunhua must walk.\n",
        "manhattan_distance = street_length_m*num_streets_away + avenue_length_m*num_avenues_away\n",
        "\n",
        "# We've included this line so that you see the distance\n",
        "# you've computed when you run this cell.  You don't need\n",
        "# to change it, but you can if you want.\n",
        "manhattan_distance"
      ]
    },
    {
      "cell_type": "markdown",
      "source": [
        "# Functions and methods"
      ],
      "metadata": {
        "id": "hAwXEcdpAuNL"
      }
    },
    {
      "cell_type": "markdown",
      "source": [
        "We have used some functions so far - things like `int()`, `print()`, and `input()` are all functions. What is a function? \n",
        "\n",
        "A function encapsulates a piece of code which can then be run easily without rewriting the code. All the functions we have used so far are built into Python. "
      ],
      "metadata": {
        "id": "pLcARjgvYyV4"
      }
    },
    {
      "cell_type": "code",
      "source": [
        "# Using functions \n",
        "number = -10\n",
        "\n",
        "# A function can take in a value\n",
        "positive_number = abs(-10)\n",
        "\n",
        "# or multiple values\n",
        "bigger_number = max(number, positive_number)\n",
        "\n",
        "print(f'Our starting number is {number}. The absolute value of that number is {positive_number}, and the maximum of those two numbers is {bigger_number}.')"
      ],
      "metadata": {
        "colab": {
          "base_uri": "https://localhost:8080/"
        },
        "id": "9GedIwCSZmuw",
        "outputId": "c54faf5d-5e40-486b-dbdf-e729d5a0ab81"
      },
      "execution_count": null,
      "outputs": [
        {
          "output_type": "stream",
          "name": "stdout",
          "text": [
            "Our starting number is -10. The absolute value of that number is 10, and the maximum of those two numbers is 10.\n"
          ]
        }
      ]
    },
    {
      "cell_type": "markdown",
      "metadata": {
        "id": "BkpVqwl9e8H_"
      },
      "source": [
        "##### Multiple arguments\n",
        "Some functions take multiple arguments, separated by commas. For example, the built-in `max` function returns the maximum argument passed to it."
      ]
    },
    {
      "cell_type": "code",
      "execution_count": null,
      "metadata": {
        "outputId": "ad29345e-8ebe-482e-e110-e828af030494",
        "id": "6_FZu_0he8IA"
      },
      "outputs": [
        {
          "data": {
            "text/plain": [
              "4"
            ]
          },
          "execution_count": 24,
          "metadata": {},
          "output_type": "execute_result"
        }
      ],
      "source": [
        "max(2, -3, 4, -5)"
      ]
    },
    {
      "cell_type": "markdown",
      "source": [
        "You can define your own functions. Although functions can return values, they don't have to. This is an example of a function that does not return a value. "
      ],
      "metadata": {
        "id": "tGssZ8Y3a77l"
      }
    },
    {
      "cell_type": "code",
      "source": [
        "# Our own max function\n",
        "def custom_max(first, second):\n",
        "  if (first >= second):\n",
        "    print(\"The first is bigger than the second\")\n",
        "  else:\n",
        "    print(\"The second is bigger than the first\")\n",
        "\n"
      ],
      "metadata": {
        "id": "r_9IvnFiaq5e"
      },
      "execution_count": null,
      "outputs": []
    },
    {
      "cell_type": "code",
      "source": [
        "custom_max(10, 11)\n",
        "\n",
        "test_variable = custom_max(10, 11)\n",
        "print(test_variable)"
      ],
      "metadata": {
        "colab": {
          "base_uri": "https://localhost:8080/"
        },
        "id": "D5tvk8YRbEgR",
        "outputId": "ae0de7e2-43b8-44ef-ae16-c0418a4a29f2"
      },
      "execution_count": null,
      "outputs": [
        {
          "output_type": "stream",
          "name": "stdout",
          "text": [
            "The second is bigger than the first\n",
            "The second is bigger than the first\n",
            "None\n"
          ]
        }
      ]
    },
    {
      "cell_type": "markdown",
      "source": [
        "To return something, we use the return key word. The best practice is to only return one thing at the end of the function."
      ],
      "metadata": {
        "id": "Q7KQdJg9bT2H"
      }
    },
    {
      "cell_type": "code",
      "source": [
        "def returnable_max(first, second):\n",
        "  max = None\n",
        "  if (first >= second):\n",
        "    max = first\n",
        "  else:\n",
        "    max = second\n",
        "  return max"
      ],
      "metadata": {
        "id": "GrMFn67YbNie"
      },
      "execution_count": null,
      "outputs": []
    },
    {
      "cell_type": "code",
      "source": [
        "returnable_max(10, 11)\n",
        "\n",
        "test_variable = returnable_max(10, 11)\n",
        "print(test_variable)"
      ],
      "metadata": {
        "colab": {
          "base_uri": "https://localhost:8080/"
        },
        "id": "uYncFtVVbgSh",
        "outputId": "c2830657-c234-4d6b-80fd-bb65bc06bc8d"
      },
      "execution_count": null,
      "outputs": [
        {
          "output_type": "stream",
          "name": "stdout",
          "text": [
            "11\n"
          ]
        }
      ]
    },
    {
      "cell_type": "code",
      "source": [
        "# A function doesn't need to return anything, or accept any variables.\n",
        "def say_hi():\n",
        "  print(\"Hi!\")"
      ],
      "metadata": {
        "id": "DmJxKhl7bmn-"
      },
      "execution_count": null,
      "outputs": []
    },
    {
      "cell_type": "code",
      "source": [
        "say_hi()"
      ],
      "metadata": {
        "colab": {
          "base_uri": "https://localhost:8080/"
        },
        "id": "c35OjlqpbsvZ",
        "outputId": "ffacd065-9a06-4734-a002-f47e3015d3cb"
      },
      "execution_count": null,
      "outputs": [
        {
          "output_type": "stream",
          "name": "stdout",
          "text": [
            "Hi!\n"
          ]
        }
      ]
    },
    {
      "cell_type": "markdown",
      "source": [
        "The variables inside a function are unique to the inside of this function. This means you can have clashing variable names without having them interact."
      ],
      "metadata": {
        "id": "luHeNqs4bRBu"
      }
    },
    {
      "cell_type": "code",
      "source": [
        "def add_up(x, y):\n",
        "  z = 10\n",
        "  return x + y + z\n",
        "\n",
        "x = 1\n",
        "y = 1\n",
        "z = 3\n",
        "add_up(x, y)"
      ],
      "metadata": {
        "colab": {
          "base_uri": "https://localhost:8080/"
        },
        "id": "yCdVt2vHbQQg",
        "outputId": "f81531ee-7c58-42bc-d0b2-32947273e07f"
      },
      "execution_count": null,
      "outputs": [
        {
          "output_type": "execute_result",
          "data": {
            "text/plain": [
              "12"
            ]
          },
          "metadata": {},
          "execution_count": 7
        }
      ]
    },
    {
      "cell_type": "markdown",
      "source": [
        "You can also call what is called a *method* from a class. You can think of a class like a type, similar to what we talked about earlier. Each class has a specific set of rules and methods which can be applied to *members* of that class.\n",
        "\n",
        "A string is one example of this. We've already seen string methods:"
      ],
      "metadata": {
        "id": "OyxHV-kGqOtD"
      }
    },
    {
      "cell_type": "code",
      "source": [
        "sharp = 'edged'\n",
        "# Replace is a _method_ that is applied to sharp. \n",
        "hot = sharp.replace('ed', 'ma')\n",
        "print('sharp =', sharp)\n",
        "print('hot =', hot)"
      ],
      "metadata": {
        "id": "8YN7tC0xqP17"
      },
      "execution_count": null,
      "outputs": []
    },
    {
      "cell_type": "code",
      "source": [
        "# These methods can be applied on any string, and returns a string itself.\n",
        "fixed_typo = \"hello gorld!\".replace('g', 'w')\n",
        "print(fixed_typo)\n",
        "print(type(fixed_typo))\n",
        "\n",
        "# you can chain them together\n",
        "'train'.replace('t', 'ing').replace('in', 'de')"
      ],
      "metadata": {
        "id": "8UG9Ape-qXGf"
      },
      "execution_count": null,
      "outputs": []
    },
    {
      "cell_type": "markdown",
      "source": [
        "Another example of a class is the `math` class. Here are some math methods:"
      ],
      "metadata": {
        "id": "c89EfRoJt-7v"
      }
    },
    {
      "cell_type": "code",
      "source": [
        "import math\n",
        "\n",
        "# Return the factorial of the input\n",
        "print(math.factorial(3))\n",
        "\n",
        "# return the largest integer less than or equal to x\n",
        "print(math.floor(2.9))\n",
        "\n",
        "# With one argument, return the natural logarithm of the input.\n",
        "print(math.log(12))\n",
        "\n",
        "# with two inputs, return the logarithm of the first input to the given base (log(x)/log(base))\n",
        "print(math.log(23, 2))"
      ],
      "metadata": {
        "colab": {
          "base_uri": "https://localhost:8080/"
        },
        "id": "-rX_ip9NuIKa",
        "outputId": "e377881d-3200-4b72-ab25-65756cd31c68"
      },
      "execution_count": null,
      "outputs": [
        {
          "output_type": "stream",
          "name": "stdout",
          "text": [
            "6\n",
            "2\n",
            "2.4849066497880004\n",
            "4.523561956057013\n"
          ]
        }
      ]
    },
    {
      "cell_type": "markdown",
      "source": [
        "### What kinds of errors can you get with functions?"
      ],
      "metadata": {
        "id": "CPLYs4i1YvXI"
      }
    },
    {
      "cell_type": "markdown",
      "source": [
        "## Possible errors"
      ],
      "metadata": {
        "id": "5_gGOxyebxfZ"
      }
    },
    {
      "cell_type": "code",
      "source": [
        "# wrong number of arguments\n",
        "print(returnable_max(1))"
      ],
      "metadata": {
        "colab": {
          "base_uri": "https://localhost:8080/",
          "height": 189
        },
        "id": "OYZQRo9vb0Zt",
        "outputId": "768c643b-e06e-448a-8a58-574fffd8cd90"
      },
      "execution_count": null,
      "outputs": [
        {
          "output_type": "error",
          "ename": "TypeError",
          "evalue": "ignored",
          "traceback": [
            "\u001b[0;31m---------------------------------------------------------------------------\u001b[0m",
            "\u001b[0;31mTypeError\u001b[0m                                 Traceback (most recent call last)",
            "\u001b[0;32m<ipython-input-13-f859b85a49f5>\u001b[0m in \u001b[0;36m<cell line: 2>\u001b[0;34m()\u001b[0m\n\u001b[1;32m      1\u001b[0m \u001b[0;31m# wrong number of arguments\u001b[0m\u001b[0;34m\u001b[0m\u001b[0;34m\u001b[0m\u001b[0m\n\u001b[0;32m----> 2\u001b[0;31m \u001b[0mprint\u001b[0m\u001b[0;34m(\u001b[0m\u001b[0mreturnable_max\u001b[0m\u001b[0;34m(\u001b[0m\u001b[0;36m1\u001b[0m\u001b[0;34m)\u001b[0m\u001b[0;34m)\u001b[0m\u001b[0;34m\u001b[0m\u001b[0;34m\u001b[0m\u001b[0m\n\u001b[0m",
            "\u001b[0;31mTypeError\u001b[0m: returnable_max() missing 1 required positional argument: 'second'"
          ]
        }
      ]
    },
    {
      "cell_type": "code",
      "source": [
        "# Expecting a return from a function without a return statement\n",
        "max_value = custom_max(12, 13)\n",
        "print(max_value + 1)"
      ],
      "metadata": {
        "colab": {
          "base_uri": "https://localhost:8080/",
          "height": 226
        },
        "id": "Xx94Gpj_b5WJ",
        "outputId": "1aa7c5c4-437f-4ae5-b82c-ccb9dcb55dd2"
      },
      "execution_count": null,
      "outputs": [
        {
          "output_type": "stream",
          "name": "stdout",
          "text": [
            "The second is bigger than the first\n"
          ]
        },
        {
          "output_type": "error",
          "ename": "TypeError",
          "evalue": "ignored",
          "traceback": [
            "\u001b[0;31m---------------------------------------------------------------------------\u001b[0m",
            "\u001b[0;31mTypeError\u001b[0m                                 Traceback (most recent call last)",
            "\u001b[0;32m<ipython-input-15-4ae0bd2312a6>\u001b[0m in \u001b[0;36m<cell line: 3>\u001b[0;34m()\u001b[0m\n\u001b[1;32m      1\u001b[0m \u001b[0;31m# Expecting a return from a function without a return statement\u001b[0m\u001b[0;34m\u001b[0m\u001b[0;34m\u001b[0m\u001b[0m\n\u001b[1;32m      2\u001b[0m \u001b[0mmax_value\u001b[0m \u001b[0;34m=\u001b[0m \u001b[0mcustom_max\u001b[0m\u001b[0;34m(\u001b[0m\u001b[0;36m12\u001b[0m\u001b[0;34m,\u001b[0m \u001b[0;36m13\u001b[0m\u001b[0;34m)\u001b[0m\u001b[0;34m\u001b[0m\u001b[0;34m\u001b[0m\u001b[0m\n\u001b[0;32m----> 3\u001b[0;31m \u001b[0mprint\u001b[0m\u001b[0;34m(\u001b[0m\u001b[0mmax_value\u001b[0m \u001b[0;34m+\u001b[0m \u001b[0;36m1\u001b[0m\u001b[0;34m)\u001b[0m\u001b[0;34m\u001b[0m\u001b[0;34m\u001b[0m\u001b[0m\n\u001b[0m",
            "\u001b[0;31mTypeError\u001b[0m: unsupported operand type(s) for +: 'NoneType' and 'int'"
          ]
        }
      ]
    },
    {
      "cell_type": "code",
      "source": [
        "# Mismatching types\n",
        "custom_max(1, \"hi!\")"
      ],
      "metadata": {
        "colab": {
          "base_uri": "https://localhost:8080/",
          "height": 317
        },
        "id": "SWjgY8pGcNoJ",
        "outputId": "30d36442-4b9d-4bf5-d527-945e703f6a05"
      },
      "execution_count": null,
      "outputs": [
        {
          "output_type": "error",
          "ename": "TypeError",
          "evalue": "ignored",
          "traceback": [
            "\u001b[0;31m---------------------------------------------------------------------------\u001b[0m",
            "\u001b[0;31mTypeError\u001b[0m                                 Traceback (most recent call last)",
            "\u001b[0;32m<ipython-input-16-a2ee42fd025c>\u001b[0m in \u001b[0;36m<cell line: 2>\u001b[0;34m()\u001b[0m\n\u001b[1;32m      1\u001b[0m \u001b[0;31m# Mismatching types\u001b[0m\u001b[0;34m\u001b[0m\u001b[0;34m\u001b[0m\u001b[0m\n\u001b[0;32m----> 2\u001b[0;31m \u001b[0mcustom_max\u001b[0m\u001b[0;34m(\u001b[0m\u001b[0;36m1\u001b[0m\u001b[0;34m,\u001b[0m \u001b[0;34m\"hi!\"\u001b[0m\u001b[0;34m)\u001b[0m\u001b[0;34m\u001b[0m\u001b[0;34m\u001b[0m\u001b[0m\n\u001b[0m",
            "\u001b[0;32m<ipython-input-5-83595380b1f7>\u001b[0m in \u001b[0;36mcustom_max\u001b[0;34m(first, second)\u001b[0m\n\u001b[1;32m      1\u001b[0m \u001b[0;31m# Our own max function\u001b[0m\u001b[0;34m\u001b[0m\u001b[0;34m\u001b[0m\u001b[0m\n\u001b[1;32m      2\u001b[0m \u001b[0;32mdef\u001b[0m \u001b[0mcustom_max\u001b[0m\u001b[0;34m(\u001b[0m\u001b[0mfirst\u001b[0m\u001b[0;34m,\u001b[0m \u001b[0msecond\u001b[0m\u001b[0;34m)\u001b[0m\u001b[0;34m:\u001b[0m\u001b[0;34m\u001b[0m\u001b[0;34m\u001b[0m\u001b[0m\n\u001b[0;32m----> 3\u001b[0;31m   \u001b[0;32mif\u001b[0m \u001b[0;34m(\u001b[0m\u001b[0mfirst\u001b[0m \u001b[0;34m>=\u001b[0m \u001b[0msecond\u001b[0m\u001b[0;34m)\u001b[0m\u001b[0;34m:\u001b[0m\u001b[0;34m\u001b[0m\u001b[0;34m\u001b[0m\u001b[0m\n\u001b[0m\u001b[1;32m      4\u001b[0m     \u001b[0mprint\u001b[0m\u001b[0;34m(\u001b[0m\u001b[0;34m\"The first is bigger than the second\"\u001b[0m\u001b[0;34m)\u001b[0m\u001b[0;34m\u001b[0m\u001b[0;34m\u001b[0m\u001b[0m\n\u001b[1;32m      5\u001b[0m   \u001b[0;32melse\u001b[0m\u001b[0;34m:\u001b[0m\u001b[0;34m\u001b[0m\u001b[0;34m\u001b[0m\u001b[0m\n",
            "\u001b[0;31mTypeError\u001b[0m: '>=' not supported between instances of 'int' and 'str'"
          ]
        }
      ]
    },
    {
      "cell_type": "markdown",
      "source": [
        "## Exercise:\n",
        "Take your code that calculates the manhattan distance, above, and put it into a function. This function should take in the starting street, the ending street, the starting avenue, and the ending avenue, and return the distance walked. Remember that an avenue is 274m, and a street is 80m\n",
        "\n",
        "**Example input**: `compute_manhattan_dist(42, 34, 7, 10)`\n",
        "\n",
        "**Expected output**: 1462"
      ],
      "metadata": {
        "id": "Wioio5YbbxZ-"
      }
    },
    {
      "cell_type": "code",
      "source": [
        "def compute_manhattan_dist(start_st, end_st, start_ave, end_ave):\n",
        "  return 0"
      ],
      "metadata": {
        "id": "BwHBGZMocg43"
      },
      "execution_count": null,
      "outputs": []
    },
    {
      "cell_type": "markdown",
      "source": [
        "# Lists"
      ],
      "metadata": {
        "id": "W_9VfZZdBRq_"
      }
    },
    {
      "cell_type": "markdown",
      "source": [
        "A list is an ordered set of values, where each value is identified by an index. The values that make up a list are called its elements. Lists are similar to strings, which are ordered sets of characters, except that the elements of a list can have any type."
      ],
      "metadata": {
        "id": "9Tpc9RQvXqJy"
      }
    },
    {
      "cell_type": "code",
      "source": [
        "[1, 2, 3, 4]\n",
        "[\"a\", \"b\", \"c\"]\n",
        "[1, \"cat\", [2, 3]]"
      ],
      "metadata": {
        "id": "2lsD4BdbXiZk"
      },
      "execution_count": null,
      "outputs": []
    },
    {
      "cell_type": "markdown",
      "source": [
        "To access values inside a list, we can use brackets"
      ],
      "metadata": {
        "id": "NPXchorEXzhn"
      }
    },
    {
      "cell_type": "code",
      "source": [
        "list_1 = [1, 10, 20]\n",
        "print(list_1[1])"
      ],
      "metadata": {
        "colab": {
          "base_uri": "https://localhost:8080/"
        },
        "id": "YCIoW1haX2Sb",
        "outputId": "e5291d1d-45ef-47cf-d7cd-42fb0632935c"
      },
      "execution_count": null,
      "outputs": [
        {
          "output_type": "stream",
          "name": "stdout",
          "text": [
            "10\n"
          ]
        }
      ]
    },
    {
      "cell_type": "markdown",
      "source": [
        "You can even go backwards:"
      ],
      "metadata": {
        "id": "gtnXvE6-YYq4"
      }
    },
    {
      "cell_type": "code",
      "source": [
        "print(list_1[-1])"
      ],
      "metadata": {
        "colab": {
          "base_uri": "https://localhost:8080/"
        },
        "id": "b9oMkQMSYboY",
        "outputId": "4e4553b4-3484-411b-a97e-6eb1588db3ef"
      },
      "execution_count": null,
      "outputs": [
        {
          "output_type": "stream",
          "name": "stdout",
          "text": [
            "20\n"
          ]
        }
      ]
    },
    {
      "cell_type": "markdown",
      "source": [
        "You can update a value in a list the same way"
      ],
      "metadata": {
        "id": "7xFi7oeOX8Od"
      }
    },
    {
      "cell_type": "code",
      "source": [
        "list_1[0] = 100\n",
        "print(list_1)"
      ],
      "metadata": {
        "colab": {
          "base_uri": "https://localhost:8080/"
        },
        "id": "7tB5yqGYX-iR",
        "outputId": "2ee5d421-5378-4553-a4c0-cdd224977162"
      },
      "execution_count": null,
      "outputs": [
        {
          "output_type": "stream",
          "name": "stdout",
          "text": [
            "[100, 10, 20]\n"
          ]
        }
      ]
    },
    {
      "cell_type": "code",
      "source": [
        "list_1.append(1)\n",
        "print(list_1)"
      ],
      "metadata": {
        "colab": {
          "base_uri": "https://localhost:8080/"
        },
        "id": "aVbWveCRZ1kP",
        "outputId": "9bf767a8-234d-4407-da55-e834a7bee7c8"
      },
      "execution_count": null,
      "outputs": [
        {
          "output_type": "stream",
          "name": "stdout",
          "text": [
            "[100, 10, 20, 1, 1]\n"
          ]
        }
      ]
    },
    {
      "cell_type": "markdown",
      "source": [
        "You can access a subsection of a list through a **slice**"
      ],
      "metadata": {
        "id": "8xArXRpDYENr"
      }
    },
    {
      "cell_type": "code",
      "source": [
        "list_2 = list_1[0:2]\n",
        "\n",
        "print(list_2)\n",
        "\n",
        "print(list_1[1:])"
      ],
      "metadata": {
        "colab": {
          "base_uri": "https://localhost:8080/"
        },
        "id": "m6aWM2fWYKLQ",
        "outputId": "c6ce29fb-bf2d-4b23-c400-ad13a0309cf8"
      },
      "execution_count": null,
      "outputs": [
        {
          "output_type": "stream",
          "name": "stdout",
          "text": [
            "[100, 10]\n",
            "[10, 20]\n"
          ]
        }
      ]
    },
    {
      "cell_type": "markdown",
      "source": [
        "You can have n dimensional lists"
      ],
      "metadata": {
        "id": "TdAN4z0tZEjj"
      }
    },
    {
      "cell_type": "code",
      "source": [
        "matrix = [[1, 2, 3],[5, 6, 7]]\n",
        "print(matrix[0])\n",
        "print(matrix[1][2])"
      ],
      "metadata": {
        "colab": {
          "base_uri": "https://localhost:8080/"
        },
        "id": "ZIYiKl9YZHP1",
        "outputId": "ecc1c7db-0a34-43c3-d25d-8ee412f74001"
      },
      "execution_count": null,
      "outputs": [
        {
          "output_type": "stream",
          "name": "stdout",
          "text": [
            "[1, 2, 3]\n",
            "7\n"
          ]
        }
      ]
    },
    {
      "cell_type": "code",
      "source": [
        "print(len(matrix))\n",
        "print(len(matrix[0]))"
      ],
      "metadata": {
        "colab": {
          "base_uri": "https://localhost:8080/"
        },
        "id": "d--GmWMCeCoW",
        "outputId": "98ea5e0b-ae87-4f21-f764-f8370c0d41bc"
      },
      "execution_count": null,
      "outputs": [
        {
          "output_type": "stream",
          "name": "stdout",
          "text": [
            "2\n",
            "3\n"
          ]
        }
      ]
    },
    {
      "cell_type": "code",
      "source": [
        "empty_list = []\n",
        "\n",
        "if not empty_list:\n",
        "  print(\"This list is empty\")"
      ],
      "metadata": {
        "colab": {
          "base_uri": "https://localhost:8080/"
        },
        "id": "EG9o_iViaCoG",
        "outputId": "89845d61-952e-4499-8a4d-618e1dceaaf9"
      },
      "execution_count": null,
      "outputs": [
        {
          "output_type": "stream",
          "name": "stdout",
          "text": [
            "This list is empty\n"
          ]
        }
      ]
    },
    {
      "cell_type": "markdown",
      "source": [
        "### What kind of errors can you get with lists?"
      ],
      "metadata": {
        "id": "IvOzGSnSYmd0"
      }
    },
    {
      "cell_type": "markdown",
      "source": [
        "## Possible errors"
      ],
      "metadata": {
        "id": "GPPV_RngY3Xx"
      }
    },
    {
      "cell_type": "code",
      "source": [
        "list_1[3]"
      ],
      "metadata": {
        "colab": {
          "base_uri": "https://localhost:8080/",
          "height": 171
        },
        "id": "v8oky9UkY4tD",
        "outputId": "47e9f165-5892-4fb0-9885-6ad84491afec"
      },
      "execution_count": null,
      "outputs": [
        {
          "output_type": "error",
          "ename": "IndexError",
          "evalue": "ignored",
          "traceback": [
            "\u001b[0;31m---------------------------------------------------------------------------\u001b[0m",
            "\u001b[0;31mIndexError\u001b[0m                                Traceback (most recent call last)",
            "\u001b[0;32m<ipython-input-6-f75891eb7dd9>\u001b[0m in \u001b[0;36m<cell line: 1>\u001b[0;34m()\u001b[0m\n\u001b[0;32m----> 1\u001b[0;31m \u001b[0mlist_1\u001b[0m\u001b[0;34m[\u001b[0m\u001b[0;36m3\u001b[0m\u001b[0;34m]\u001b[0m\u001b[0;34m\u001b[0m\u001b[0;34m\u001b[0m\u001b[0m\n\u001b[0m",
            "\u001b[0;31mIndexError\u001b[0m: list index out of range"
          ]
        }
      ]
    },
    {
      "cell_type": "code",
      "source": [
        "list_1[-4]"
      ],
      "metadata": {
        "colab": {
          "base_uri": "https://localhost:8080/",
          "height": 171
        },
        "id": "wRSAv6AkY64n",
        "outputId": "9921c710-8ab4-4621-aaac-2e38a9d0a4d4"
      },
      "execution_count": null,
      "outputs": [
        {
          "output_type": "error",
          "ename": "IndexError",
          "evalue": "ignored",
          "traceback": [
            "\u001b[0;31m---------------------------------------------------------------------------\u001b[0m",
            "\u001b[0;31mIndexError\u001b[0m                                Traceback (most recent call last)",
            "\u001b[0;32m<ipython-input-10-a74ed8d954ef>\u001b[0m in \u001b[0;36m<cell line: 1>\u001b[0;34m()\u001b[0m\n\u001b[0;32m----> 1\u001b[0;31m \u001b[0mlist_1\u001b[0m\u001b[0;34m[\u001b[0m\u001b[0;34m-\u001b[0m\u001b[0;36m4\u001b[0m\u001b[0;34m]\u001b[0m\u001b[0;34m\u001b[0m\u001b[0;34m\u001b[0m\u001b[0m\n\u001b[0m",
            "\u001b[0;31mIndexError\u001b[0m: list index out of range"
          ]
        }
      ]
    },
    {
      "cell_type": "code",
      "source": [
        "list_1[6] = 2\n"
      ],
      "metadata": {
        "colab": {
          "base_uri": "https://localhost:8080/",
          "height": 171
        },
        "id": "srA7Ya9iZ8aW",
        "outputId": "77b7e9b5-737b-42d0-d092-22ef5b9b6d1f"
      },
      "execution_count": null,
      "outputs": [
        {
          "output_type": "error",
          "ename": "IndexError",
          "evalue": "ignored",
          "traceback": [
            "\u001b[0;31m---------------------------------------------------------------------------\u001b[0m",
            "\u001b[0;31mIndexError\u001b[0m                                Traceback (most recent call last)",
            "\u001b[0;32m<ipython-input-17-3d2e3b2c5462>\u001b[0m in \u001b[0;36m<cell line: 1>\u001b[0;34m()\u001b[0m\n\u001b[0;32m----> 1\u001b[0;31m \u001b[0mlist_1\u001b[0m\u001b[0;34m[\u001b[0m\u001b[0;36m6\u001b[0m\u001b[0;34m]\u001b[0m \u001b[0;34m=\u001b[0m \u001b[0;36m2\u001b[0m\u001b[0;34m\u001b[0m\u001b[0;34m\u001b[0m\u001b[0m\n\u001b[0m",
            "\u001b[0;31mIndexError\u001b[0m: list assignment index out of range"
          ]
        }
      ]
    },
    {
      "cell_type": "markdown",
      "source": [
        "# Loops"
      ],
      "metadata": {
        "id": "jTDu3gVJAw0r"
      }
    },
    {
      "cell_type": "markdown",
      "source": [
        "Repeated execution of a set of statements is called iteration. Because iteration is so common, Python provides several language features to make it easier. The first feature we are going to look at is the while statement."
      ],
      "metadata": {
        "id": "O3ZWKMnycdxZ"
      }
    },
    {
      "cell_type": "code",
      "source": [
        "x = 0\n",
        "while x < 5:\n",
        "  print(x)\n",
        "  x = x + 1"
      ],
      "metadata": {
        "colab": {
          "base_uri": "https://localhost:8080/"
        },
        "id": "xMXnEMQEdjTZ",
        "outputId": "b9ffec65-580f-4bd5-89fa-8693ee5b58f2"
      },
      "execution_count": null,
      "outputs": [
        {
          "output_type": "stream",
          "name": "stdout",
          "text": [
            "0\n",
            "1\n",
            "2\n",
            "3\n",
            "4\n"
          ]
        }
      ]
    },
    {
      "cell_type": "code",
      "source": [
        "for item in [1, 2, 3, 4]:\n",
        "  print(item)"
      ],
      "metadata": {
        "colab": {
          "base_uri": "https://localhost:8080/"
        },
        "id": "kPN6TNzFBQ1X",
        "outputId": "72900c90-7b87-45b3-8593-27bcd1f6b9d7"
      },
      "execution_count": null,
      "outputs": [
        {
          "output_type": "stream",
          "name": "stdout",
          "text": [
            "1\n",
            "2\n",
            "3\n",
            "4\n"
          ]
        }
      ]
    },
    {
      "cell_type": "markdown",
      "source": [
        "# Exercise: Lists"
      ],
      "metadata": {
        "id": "ojtOV7LWBkrY"
      }
    },
    {
      "cell_type": "markdown",
      "source": [
        "Given a list, output another list with each value squared.\n",
        "\n",
        "numbers = [1, 2, 3, 4, 5, 6, 7]\n",
        "\n",
        "Expected output:\n",
        "[1, 4, 9, 16, 25, 36, 49]"
      ],
      "metadata": {
        "id": "mYYqJjv1CS5H"
      }
    },
    {
      "cell_type": "code",
      "source": [
        "numbers = [1, 2, 3, 4, 5, 6, 7]"
      ],
      "metadata": {
        "id": "2IIspiP_u_PK"
      },
      "execution_count": null,
      "outputs": []
    },
    {
      "cell_type": "markdown",
      "source": [
        "## Final Exercise \n",
        "Write a function which accepts a list of starting and ending streets, and a list of starting and ending avenues. For each set of start and end points, call your manhattan distance function from before and return a list of the distance walked for each set of starting and ending points.\n",
        "\n",
        "**Example input**: \n",
        "streets = `[[1, 22], [4, 11], [23, 29]]`\n",
        "\n",
        "avenues = `[[2, 9], [33, 2], [30, 41]]`\n",
        "\n",
        "So the first set of points, you would be walking from 1st street, 2nd avenue, to 22nd street, 9th avenue. \n",
        "\n",
        "**Expected output:**:\n"
      ],
      "metadata": {
        "id": "HE9ZaaoWcpqO"
      }
    },
    {
      "cell_type": "code",
      "source": [
        "def compute_multiple_distances(streets, avenues):\n",
        "  return []"
      ],
      "metadata": {
        "id": "P8Si8h8yd2nx"
      },
      "execution_count": null,
      "outputs": []
    },
    {
      "cell_type": "markdown",
      "source": [
        "### Answer"
      ],
      "metadata": {
        "id": "k_TFIc0ld1VT"
      }
    },
    {
      "cell_type": "code",
      "source": [
        "def compute_multiple_distances(streets, avenues):\n",
        "  index = 0\n",
        "  results = []\n",
        "  while index < len(streets):\n",
        "    street_pair = streets[index]\n",
        "    ave_pair = avenues[index]\n",
        "    print(street_pair)\n",
        "    dist = compute_manhattan_dist(street_pair[0], street_pair[1], ave_pair[0], ave_pair[1])\n",
        "    results.append(dist)\n",
        "    index = index + 1\n",
        "  return results\n",
        "\n",
        "compute_multiple_distances([[1, 2]], [[1,1]])"
      ],
      "metadata": {
        "colab": {
          "base_uri": "https://localhost:8080/"
        },
        "id": "WHU5mJHQd3Jf",
        "outputId": "9deed78f-bf5e-4d40-b691-02493df3266f"
      },
      "execution_count": null,
      "outputs": [
        {
          "output_type": "stream",
          "name": "stdout",
          "text": [
            "[1, 2]\n"
          ]
        },
        {
          "output_type": "execute_result",
          "data": {
            "text/plain": [
              "[0]"
            ]
          },
          "metadata": {},
          "execution_count": 17
        }
      ]
    },
    {
      "cell_type": "markdown",
      "source": [
        "# Application: Applying numpy and pandas"
      ],
      "metadata": {
        "id": "7xp5IEg7CdSz"
      }
    },
    {
      "cell_type": "markdown",
      "source": [
        "Numpy and pandas are two python packages commonly used for data science applications. Numpy is a package which greatly improves on the existing math and data storage capablities of Python. Pandas is a package for creating and manipulating excel-like tables for managing data. "
      ],
      "metadata": {
        "id": "hSfLh1hWx0od"
      }
    },
    {
      "cell_type": "code",
      "source": [
        "import numpy as np \n",
        "\n",
        "np.array([0.125, 4.75, -1.3])"
      ],
      "metadata": {
        "colab": {
          "base_uri": "https://localhost:8080/"
        },
        "id": "D1co98ALyMOl",
        "outputId": "ffa863fb-7b92-4c30-b210-aec457256610"
      },
      "execution_count": null,
      "outputs": [
        {
          "output_type": "execute_result",
          "data": {
            "text/plain": [
              "array([ 0.125,  4.75 , -1.3  ])"
            ]
          },
          "metadata": {},
          "execution_count": 25
        }
      ]
    },
    {
      "cell_type": "code",
      "source": [
        "np.shape(np.array([[1.1, 2.2], [22, 0.11]]))"
      ],
      "metadata": {
        "colab": {
          "base_uri": "https://localhost:8080/"
        },
        "id": "Qf2GWNPRyR5o",
        "outputId": "e0064dd4-1af7-4084-9107-992775168008"
      },
      "execution_count": null,
      "outputs": [
        {
          "output_type": "execute_result",
          "data": {
            "text/plain": [
              "(2, 2)"
            ]
          },
          "metadata": {},
          "execution_count": 27
        }
      ]
    },
    {
      "cell_type": "markdown",
      "source": [
        "**Arrays Vs Lists**\n",
        "Arrays are a lot more efficient than lists. In addition, you can apply many useful numpy functions to the numpy arrays. In general, if it's something simple, a list is fine, but if you're manipulating real data, then a numpy array is worth using. However, it is very inefficient to add onto the end of an array - it's preferable to create the array at the size you want. "
      ],
      "metadata": {
        "id": "E0yxQQBWygb9"
      }
    },
    {
      "cell_type": "code",
      "source": [
        "numpy_array = np.zeros((2, 4, 3))\n",
        "print(np.shape(numpy_array))\n",
        "print(numpy_array)"
      ],
      "metadata": {
        "colab": {
          "base_uri": "https://localhost:8080/"
        },
        "id": "jtUydQ81zF5k",
        "outputId": "4ef5768a-bac4-4571-e141-1f11bd682989"
      },
      "execution_count": null,
      "outputs": [
        {
          "output_type": "stream",
          "name": "stdout",
          "text": [
            "(2, 4, 3)\n",
            "[[[0. 0. 0.]\n",
            "  [0. 0. 0.]\n",
            "  [0. 0. 0.]\n",
            "  [0. 0. 0.]]\n",
            "\n",
            " [[0. 0. 0.]\n",
            "  [0. 0. 0.]\n",
            "  [0. 0. 0.]\n",
            "  [0. 0. 0.]]]\n"
          ]
        }
      ]
    },
    {
      "cell_type": "code",
      "source": [
        "numpy_array[0][2][0] = 4\n",
        "print(numpy_array)\n"
      ],
      "metadata": {
        "colab": {
          "base_uri": "https://localhost:8080/"
        },
        "id": "9VEhA6nHzZhX",
        "outputId": "265a0164-d7b9-44ec-f3fe-26dd8e6aa253"
      },
      "execution_count": null,
      "outputs": [
        {
          "output_type": "stream",
          "name": "stdout",
          "text": [
            "[[[0.  0.  0. ]\n",
            "  [0.  0.  0. ]\n",
            "  [4.  0.  0. ]\n",
            "  [0.  0.  0. ]]\n",
            "\n",
            " [[0.  0.  0. ]\n",
            "  [0.  0.  0. ]\n",
            "  [0.  0.  0. ]\n",
            "  [2.2 2.3 2.4]]]\n"
          ]
        }
      ]
    },
    {
      "cell_type": "code",
      "source": [
        "numpy_array[1][3] = np.array([2.2, 2.3, 2.4])\n",
        "print(numpy_array)"
      ],
      "metadata": {
        "colab": {
          "base_uri": "https://localhost:8080/"
        },
        "id": "EGtVARPOzqWX",
        "outputId": "4fdb4d3d-d93d-4218-f1bc-df6d032b4e0a"
      },
      "execution_count": null,
      "outputs": [
        {
          "output_type": "stream",
          "name": "stdout",
          "text": [
            "[[[0.  0.  0. ]\n",
            "  [0.  0.  0. ]\n",
            "  [4.  0.  0. ]\n",
            "  [0.  0.  0. ]]\n",
            "\n",
            " [[0.  0.  0. ]\n",
            "  [0.  0.  0. ]\n",
            "  [0.  0.  0. ]\n",
            "  [2.2 2.3 2.4]]]\n"
          ]
        }
      ]
    },
    {
      "cell_type": "markdown",
      "source": [
        "Exercise:\n",
        "Make an array containing the numbers 0, 1, -1, $\\pi$, and $e$, in that order.  Name it `interesting_numbers`.  "
      ],
      "metadata": {
        "id": "VpSrA5Bqz2nC"
      }
    },
    {
      "cell_type": "markdown",
      "source": [
        "np.arange(start, stop, space) produces an array with all the numbers starting at start and counting up by space, stopping before stop is reached."
      ],
      "metadata": {
        "id": "yzcLhfPsz-JZ"
      }
    },
    {
      "cell_type": "code",
      "source": [
        "np.arange(1, 10, 2)"
      ],
      "metadata": {
        "colab": {
          "base_uri": "https://localhost:8080/"
        },
        "id": "GVdfzRDs0AJl",
        "outputId": "5675b7c3-e5c4-401e-e390-f6e916ec3ac4"
      },
      "execution_count": null,
      "outputs": [
        {
          "output_type": "execute_result",
          "data": {
            "text/plain": [
              "array([1, 3, 5, 7, 9])"
            ]
          },
          "metadata": {},
          "execution_count": 35
        }
      ]
    },
    {
      "cell_type": "markdown",
      "source": [
        "Exercise:\n",
        "\n",
        "NOAA (the US National Oceanic and Atmospheric Administration) operates weather stations that measure surface temperatures at different sites around the United States. The hourly readings are publicly available.\n",
        "\n",
        "Suppose we download all the hourly data from the Oakland, California site for the month of December 2015. To analyze the data, we want to know when each reading was taken, but we find that the data don't include the timestamps of the readings (the time at which each one was taken).\n",
        "\n",
        "However, we know the first reading was taken at the first instant of December 2015 (midnight on December 1st) and each subsequent reading was taken exactly 1 hour after the last.\n",
        "\n",
        "Create an array of the time, in seconds, since the start of the month at which each hourly reading was taken. Name it collection_times.\n",
        "\n",
        "Hint: There were 31 days in December, which is equivalent to 31×24\n",
        "hours or 31×24×60×60 seconds. So your array should have 31×24\n",
        "\n",
        "elements in it.\n",
        "\n",
        "Hint 2: The len function works on arrays, too. If your collection_times isn't passing the tests, check its length and make sure it has 31×24\n",
        "elements."
      ],
      "metadata": {
        "id": "qwKss4p8zT3_"
      }
    },
    {
      "cell_type": "markdown",
      "source": [
        "### Pandas\n",
        "\n",
        "Similar to Numpy arrays, pandas has a data structure as well.\n",
        "\n",
        "The equivalent to an array in pandas is called a **series**. A series is basically a one dimensional array.\n",
        "\n",
        "It also has a more complex data structure, called a **dataframe**. This is like a 2-dimensional array. It's easiest to think of this as like an excel spreadsheet. "
      ],
      "metadata": {
        "id": "jFDiBYr-0UVP"
      }
    },
    {
      "cell_type": "code",
      "source": [
        "import pandas as pd \n",
        "\n",
        "first_series = pd.Series([1, 2, 3, 4])\n",
        "print(first_series)\n",
        "\n",
        "second_series = pd.Series(np.array([2, 3, 4, 5]))\n",
        "print(second_series)"
      ],
      "metadata": {
        "colab": {
          "base_uri": "https://localhost:8080/"
        },
        "id": "kAv8HkbK1MEM",
        "outputId": "8d0a186f-9cf5-4626-ccfc-3e7b4eba6775"
      },
      "execution_count": null,
      "outputs": [
        {
          "output_type": "stream",
          "name": "stdout",
          "text": [
            "0    1\n",
            "1    2\n",
            "2    3\n",
            "3    4\n",
            "dtype: int64\n",
            "0    2\n",
            "1    3\n",
            "2    4\n",
            "3    5\n",
            "dtype: int64\n"
          ]
        }
      ]
    },
    {
      "cell_type": "code",
      "source": [
        "dates = pd.date_range(\"20130101\", periods=6)\n",
        "\n",
        "print(\"dates: \", dates)"
      ],
      "metadata": {
        "colab": {
          "base_uri": "https://localhost:8080/"
        },
        "id": "geajcv7N1p9N",
        "outputId": "9c6e0a95-11c9-42f5-c663-3938e10a4023"
      },
      "execution_count": null,
      "outputs": [
        {
          "output_type": "stream",
          "name": "stdout",
          "text": [
            "dates:  DatetimeIndex(['2013-01-01', '2013-01-02', '2013-01-03', '2013-01-04',\n",
            "               '2013-01-05', '2013-01-06'],\n",
            "              dtype='datetime64[ns]', freq='D')\n"
          ]
        }
      ]
    },
    {
      "cell_type": "code",
      "source": [
        "# Create a dataframe with an index of the given dates, and the columns A-D. This is filled with a randomly generated array of size (6, 4)\n",
        "df = pd.DataFrame(np.random.randn(6, 4), index=dates, columns=list(\"ABCD\"))\n",
        "df"
      ],
      "metadata": {
        "colab": {
          "base_uri": "https://localhost:8080/",
          "height": 237
        },
        "id": "Ol8XAKpy18ia",
        "outputId": "2c9abe99-fa72-40db-bcf6-5afa2ce455fc"
      },
      "execution_count": null,
      "outputs": [
        {
          "output_type": "execute_result",
          "data": {
            "text/plain": [
              "                   A         B         C         D\n",
              "2013-01-01 -0.082632 -0.183514 -1.452341  0.258643\n",
              "2013-01-02 -1.032206  0.914198 -1.749963  1.536343\n",
              "2013-01-03  0.335698  0.718498  0.252951  0.263295\n",
              "2013-01-04  1.365506 -0.503895 -0.386536  1.239624\n",
              "2013-01-05  0.277528  1.068822 -0.606834 -0.793014\n",
              "2013-01-06 -0.856231 -1.283453 -0.769701 -1.208735"
            ],
            "text/html": [
              "\n",
              "  <div id=\"df-371162c3-cd3c-408c-b7a2-2238ee5c3370\">\n",
              "    <div class=\"colab-df-container\">\n",
              "      <div>\n",
              "<style scoped>\n",
              "    .dataframe tbody tr th:only-of-type {\n",
              "        vertical-align: middle;\n",
              "    }\n",
              "\n",
              "    .dataframe tbody tr th {\n",
              "        vertical-align: top;\n",
              "    }\n",
              "\n",
              "    .dataframe thead th {\n",
              "        text-align: right;\n",
              "    }\n",
              "</style>\n",
              "<table border=\"1\" class=\"dataframe\">\n",
              "  <thead>\n",
              "    <tr style=\"text-align: right;\">\n",
              "      <th></th>\n",
              "      <th>A</th>\n",
              "      <th>B</th>\n",
              "      <th>C</th>\n",
              "      <th>D</th>\n",
              "    </tr>\n",
              "  </thead>\n",
              "  <tbody>\n",
              "    <tr>\n",
              "      <th>2013-01-01</th>\n",
              "      <td>-0.082632</td>\n",
              "      <td>-0.183514</td>\n",
              "      <td>-1.452341</td>\n",
              "      <td>0.258643</td>\n",
              "    </tr>\n",
              "    <tr>\n",
              "      <th>2013-01-02</th>\n",
              "      <td>-1.032206</td>\n",
              "      <td>0.914198</td>\n",
              "      <td>-1.749963</td>\n",
              "      <td>1.536343</td>\n",
              "    </tr>\n",
              "    <tr>\n",
              "      <th>2013-01-03</th>\n",
              "      <td>0.335698</td>\n",
              "      <td>0.718498</td>\n",
              "      <td>0.252951</td>\n",
              "      <td>0.263295</td>\n",
              "    </tr>\n",
              "    <tr>\n",
              "      <th>2013-01-04</th>\n",
              "      <td>1.365506</td>\n",
              "      <td>-0.503895</td>\n",
              "      <td>-0.386536</td>\n",
              "      <td>1.239624</td>\n",
              "    </tr>\n",
              "    <tr>\n",
              "      <th>2013-01-05</th>\n",
              "      <td>0.277528</td>\n",
              "      <td>1.068822</td>\n",
              "      <td>-0.606834</td>\n",
              "      <td>-0.793014</td>\n",
              "    </tr>\n",
              "    <tr>\n",
              "      <th>2013-01-06</th>\n",
              "      <td>-0.856231</td>\n",
              "      <td>-1.283453</td>\n",
              "      <td>-0.769701</td>\n",
              "      <td>-1.208735</td>\n",
              "    </tr>\n",
              "  </tbody>\n",
              "</table>\n",
              "</div>\n",
              "      <button class=\"colab-df-convert\" onclick=\"convertToInteractive('df-371162c3-cd3c-408c-b7a2-2238ee5c3370')\"\n",
              "              title=\"Convert this dataframe to an interactive table.\"\n",
              "              style=\"display:none;\">\n",
              "        \n",
              "  <svg xmlns=\"http://www.w3.org/2000/svg\" height=\"24px\"viewBox=\"0 0 24 24\"\n",
              "       width=\"24px\">\n",
              "    <path d=\"M0 0h24v24H0V0z\" fill=\"none\"/>\n",
              "    <path d=\"M18.56 5.44l.94 2.06.94-2.06 2.06-.94-2.06-.94-.94-2.06-.94 2.06-2.06.94zm-11 1L8.5 8.5l.94-2.06 2.06-.94-2.06-.94L8.5 2.5l-.94 2.06-2.06.94zm10 10l.94 2.06.94-2.06 2.06-.94-2.06-.94-.94-2.06-.94 2.06-2.06.94z\"/><path d=\"M17.41 7.96l-1.37-1.37c-.4-.4-.92-.59-1.43-.59-.52 0-1.04.2-1.43.59L10.3 9.45l-7.72 7.72c-.78.78-.78 2.05 0 2.83L4 21.41c.39.39.9.59 1.41.59.51 0 1.02-.2 1.41-.59l7.78-7.78 2.81-2.81c.8-.78.8-2.07 0-2.86zM5.41 20L4 18.59l7.72-7.72 1.47 1.35L5.41 20z\"/>\n",
              "  </svg>\n",
              "      </button>\n",
              "      \n",
              "  <style>\n",
              "    .colab-df-container {\n",
              "      display:flex;\n",
              "      flex-wrap:wrap;\n",
              "      gap: 12px;\n",
              "    }\n",
              "\n",
              "    .colab-df-convert {\n",
              "      background-color: #E8F0FE;\n",
              "      border: none;\n",
              "      border-radius: 50%;\n",
              "      cursor: pointer;\n",
              "      display: none;\n",
              "      fill: #1967D2;\n",
              "      height: 32px;\n",
              "      padding: 0 0 0 0;\n",
              "      width: 32px;\n",
              "    }\n",
              "\n",
              "    .colab-df-convert:hover {\n",
              "      background-color: #E2EBFA;\n",
              "      box-shadow: 0px 1px 2px rgba(60, 64, 67, 0.3), 0px 1px 3px 1px rgba(60, 64, 67, 0.15);\n",
              "      fill: #174EA6;\n",
              "    }\n",
              "\n",
              "    [theme=dark] .colab-df-convert {\n",
              "      background-color: #3B4455;\n",
              "      fill: #D2E3FC;\n",
              "    }\n",
              "\n",
              "    [theme=dark] .colab-df-convert:hover {\n",
              "      background-color: #434B5C;\n",
              "      box-shadow: 0px 1px 3px 1px rgba(0, 0, 0, 0.15);\n",
              "      filter: drop-shadow(0px 1px 2px rgba(0, 0, 0, 0.3));\n",
              "      fill: #FFFFFF;\n",
              "    }\n",
              "  </style>\n",
              "\n",
              "      <script>\n",
              "        const buttonEl =\n",
              "          document.querySelector('#df-371162c3-cd3c-408c-b7a2-2238ee5c3370 button.colab-df-convert');\n",
              "        buttonEl.style.display =\n",
              "          google.colab.kernel.accessAllowed ? 'block' : 'none';\n",
              "\n",
              "        async function convertToInteractive(key) {\n",
              "          const element = document.querySelector('#df-371162c3-cd3c-408c-b7a2-2238ee5c3370');\n",
              "          const dataTable =\n",
              "            await google.colab.kernel.invokeFunction('convertToInteractive',\n",
              "                                                     [key], {});\n",
              "          if (!dataTable) return;\n",
              "\n",
              "          const docLinkHtml = 'Like what you see? Visit the ' +\n",
              "            '<a target=\"_blank\" href=https://colab.research.google.com/notebooks/data_table.ipynb>data table notebook</a>'\n",
              "            + ' to learn more about interactive tables.';\n",
              "          element.innerHTML = '';\n",
              "          dataTable['output_type'] = 'display_data';\n",
              "          await google.colab.output.renderOutput(dataTable, element);\n",
              "          const docLink = document.createElement('div');\n",
              "          docLink.innerHTML = docLinkHtml;\n",
              "          element.appendChild(docLink);\n",
              "        }\n",
              "      </script>\n",
              "    </div>\n",
              "  </div>\n",
              "  "
            ]
          },
          "metadata": {},
          "execution_count": 41
        }
      ]
    },
    {
      "cell_type": "markdown",
      "source": [
        "# Sources"
      ],
      "metadata": {
        "id": "APgs2sU9APLE"
      }
    },
    {
      "cell_type": "markdown",
      "source": [
        "https://pandas.pydata.org/pandas-docs/stable/user_guide/10min.html\n",
        "\n",
        "http://openbookproject.net/thinkcs/python/english2e/index.html\n",
        "\n"
      ],
      "metadata": {
        "id": "YCj0wRvI1PV2"
      }
    }
  ]
}