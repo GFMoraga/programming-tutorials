{
 "cells": [
  {
   "cell_type": "markdown",
   "metadata": {
    "id": "ngrnd0KudEop"
   },
   "source": [
    "Most of this tutorial is cobbled together from parts of \"How to think like a computer scientist: Learning with Python.\" This is a great resource that goes a lot more in depth than I will."
   ]
  },
  {
   "cell_type": "markdown",
   "metadata": {
    "id": "FGts7vqfaEaS"
   },
   "source": [
    "# First Step: Hello, World!"
   ]
  },
  {
   "cell_type": "code",
   "execution_count": null,
   "metadata": {
    "id": "yHCVTTD0W0Bn"
   },
   "outputs": [],
   "source": [
    "print(\"Hello, World!\")"
   ]
  },
  {
   "cell_type": "markdown",
   "metadata": {
    "id": "Gdy4Ws97aSb8"
   },
   "source": [
    "# Basic math\n"
   ]
  },
  {
   "cell_type": "code",
   "execution_count": null,
   "metadata": {
    "id": "TKTtwEeHaV-v"
   },
   "outputs": [],
   "source": [
    "1 + 2 "
   ]
  },
  {
   "cell_type": "markdown",
   "metadata": {
    "id": "LVQZOqVeafWW"
   },
   "source": [
    "Jupyter will only print the output of the last line in each cell."
   ]
  },
  {
   "cell_type": "code",
   "execution_count": 1,
   "metadata": {
    "id": "W4wGj7_FakEe"
   },
   "outputs": [
    {
     "data": {
      "text/plain": [
       "2.0"
      ]
     },
     "execution_count": 1,
     "metadata": {},
     "output_type": "execute_result"
    }
   ],
   "source": [
    "1 + 2\n",
    "6 / 3"
   ]
  },
  {
   "cell_type": "markdown",
   "metadata": {
    "id": "kNrh1g-FadxZ"
   },
   "source": [
    "## 1"
   ]
  },
  {
   "cell_type": "markdown",
   "metadata": {
    "id": "ZMHIBzxZ93AS"
   },
   "source": [
    "$$6 \\times 5 - 6 \\times 3^2 \\times \\frac{2^3}{4} \\times 7 = -726.0$$"
   ]
  },
  {
   "cell_type": "markdown",
   "metadata": {
    "id": "wmT91apTaT65",
    "jp-MarkdownHeadingCollapsed": true
   },
   "source": [
    "### answer"
   ]
  },
  {
   "cell_type": "code",
   "execution_count": null,
   "metadata": {
    "id": "7z6y01bV9v9e"
   },
   "outputs": [],
   "source": [
    "6*5-6*3**2*2**3/4*7"
   ]
  },
  {
   "cell_type": "markdown",
   "metadata": {
    "id": "VTJPtdDR910K"
   },
   "source": [
    "## 2\n",
    "$$(6 \\times 5 - (6 \\times 3))^2 \\times (\\frac{(2^3)}{4} \\times 7)$$\n"
   ]
  },
  {
   "cell_type": "markdown",
   "metadata": {
    "id": "bHJLYdE4ajJa",
    "jp-MarkdownHeadingCollapsed": true
   },
   "source": [
    "### answer"
   ]
  },
  {
   "cell_type": "code",
   "execution_count": null,
   "metadata": {
    "id": "hgNyfTdk9yhw"
   },
   "outputs": [],
   "source": [
    "(6*5-(6*3))**2*((2**3)/4*7)"
   ]
  },
  {
   "cell_type": "markdown",
   "metadata": {
    "id": "zRdz-prUZL0J"
   },
   "source": [
    "Much like order of operations, Python has rules for evaluating expressions. As we saw, for math, this means following pemdas."
   ]
  },
  {
   "cell_type": "code",
   "execution_count": null,
   "metadata": {
    "id": "17vK7S82ZQnp"
   },
   "outputs": [],
   "source": [
    "# First, evaluate what's inside the parentheses. Then, run `abs` on that value. \n",
    "abs(1.11 - 12.3)"
   ]
  },
  {
   "cell_type": "markdown",
   "metadata": {
    "id": "T9NwpGwcaqNy"
   },
   "source": [
    "# Variables and Types"
   ]
  },
  {
   "cell_type": "code",
   "execution_count": null,
   "metadata": {
    "id": "paWjrdAqat40"
   },
   "outputs": [],
   "source": [
    "x = 10\n",
    "x + 4"
   ]
  },
  {
   "cell_type": "markdown",
   "metadata": {
    "id": "gbkUxHMLa0Ir"
   },
   "source": [
    "Variables are carried across cells."
   ]
  },
  {
   "cell_type": "code",
   "execution_count": null,
   "metadata": {
    "id": "pT2zuOkvayXe"
   },
   "outputs": [],
   "source": [
    "x + 2"
   ]
  },
  {
   "cell_type": "markdown",
   "metadata": {
    "id": "hOEJscFObIMO"
   },
   "source": [
    "Variable names in Python are traditionally lowercase, with underscores seperating the words. Variables should be descriptive and unique."
   ]
  },
  {
   "cell_type": "code",
   "execution_count": null,
   "metadata": {
    "id": "_UmFDZi4bAkA"
   },
   "outputs": [],
   "source": [
    "starting_value = 2\n",
    "difference = 4\n",
    "ending_value = starting_value - difference\n",
    "print(ending_value)"
   ]
  },
  {
   "cell_type": "markdown",
   "metadata": {
    "id": "-KTgiLaUayjd"
   },
   "source": [
    "You can update a variables value"
   ]
  },
  {
   "cell_type": "code",
   "execution_count": null,
   "metadata": {
    "id": "LEUk3zTta1JH"
   },
   "outputs": [],
   "source": [
    "x = 3\n",
    "print(x)\n",
    "\n",
    "x = 4\n",
    "print(x)\n",
    "\n",
    "x = x + 1\n",
    "print(x)"
   ]
  },
  {
   "cell_type": "markdown",
   "metadata": {
    "id": "OLsGiGSiX4wM"
   },
   "source": [
    "Variable names cannot collide with certain protected values in Python. These values will be distinguished with a different color."
   ]
  },
  {
   "cell_type": "code",
   "execution_count": null,
   "metadata": {
    "id": "sXrfW7IiYB8R"
   },
   "outputs": [],
   "source": [
    "# INVALID\n",
    "assert = 1\n",
    "type = 1"
   ]
  },
  {
   "cell_type": "code",
   "execution_count": null,
   "metadata": {
    "id": "vSMnYWZ_WZbg"
   },
   "outputs": [],
   "source": [
    "biweekly_salary = 1240\n",
    "monthly_salary = 2 * biweekly_salary\n",
    "number_of_months_in_a_year = 12\n",
    "yearly_salary = number_of_months_in_a_year * monthly_salary\n",
    "yearly_salary"
   ]
  },
  {
   "cell_type": "markdown",
   "metadata": {
    "id": "e6chiMZzWeL9"
   },
   "source": [
    "Each variable has a type associated with it. For example, numbers without a decimal are called integers, and numbers with a decimal are called floats. Other types include things like Strings, lists, or Pandas Dataframes.\n",
    "\n",
    "To go from one type to another, or to enforce a type, you can _cast_ values from one type to another.\n",
    "\n",
    "Python handles most type managment, but it can come up with errors occasionally."
   ]
  },
  {
   "cell_type": "code",
   "execution_count": null,
   "metadata": {
    "id": "8eS9_i8wWx2O"
   },
   "outputs": [],
   "source": [
    "print(type(2.3))\n",
    "\n",
    "print(type(1))\n",
    "print(type(float(1)))\n",
    "\n",
    "decimal = 2.3\n",
    "whole_number = int(decimal)\n",
    "\n",
    "print(\"\\n\")\n",
    "print(\"Decimal types:\")\n",
    "print(\"number: \", decimal)\n",
    "print(\"type: \", type(decimal))\n",
    "\n",
    "print(\"\\n\")\n",
    "print(\"Whole number types:\")\n",
    "print(\"number: \",whole_number)\n",
    "print(\"type: \", type(whole_number))"
   ]
  },
  {
   "cell_type": "code",
   "execution_count": null,
   "metadata": {
    "id": "dQzedphLXgBc"
   },
   "outputs": [],
   "source": [
    "# You can also convert from a string to a float or integer. \n",
    "number_str = \"1\"\n",
    "number_int = int(number_str)\n",
    "\n",
    "print(\"String version: \", number_str, \" string version type: \", type(number_str))\n",
    "print(\"Int version: \", number_int, \" Int version type: \", type(number_int))\n"
   ]
  },
  {
   "cell_type": "markdown",
   "metadata": {
    "id": "fvl_nAh4krEr"
   },
   "source": [
    "A snippet of text is represented by a string value in Python. The word \"string\" is a computer science term for a sequence of characters. A string might contain a single character, a word, a sentence, or a whole book.\n",
    "\n",
    "To distinguish text data from actual code, we demarcate strings by putting quotation marks around them. Single quotes (') and double quotes (\") are both valid. The contents can be any sequence of characters, including numbers and symbols. "
   ]
  },
  {
   "cell_type": "code",
   "execution_count": null,
   "metadata": {
    "id": "FzsWEn98k8H5"
   },
   "outputs": [],
   "source": [
    "print(\"This is an example \", \"of a string\")"
   ]
  },
  {
   "cell_type": "markdown",
   "metadata": {
    "id": "snE2sAJdkxsq"
   },
   "source": [
    "There are some methods you can call on strings."
   ]
  },
  {
   "cell_type": "code",
   "execution_count": null,
   "metadata": {
    "id": "kG-IN7oYlHfp"
   },
   "outputs": [],
   "source": [
    "# Replace one letter\n",
    "'Hello'.replace('o', 'a')"
   ]
  },
  {
   "cell_type": "code",
   "execution_count": null,
   "metadata": {
    "id": "ZSMwHKO2lKtc"
   },
   "outputs": [],
   "source": [
    "'hitchhiker'.replace('hi', 'ma')"
   ]
  },
  {
   "cell_type": "markdown",
   "metadata": {
    "id": "3gLuxzDNe2z5"
   },
   "source": [
    "# If statements and booleans"
   ]
  },
  {
   "cell_type": "markdown",
   "metadata": {
    "id": "k_THLOAnjUyG"
   },
   "source": [
    "A boolean is true or false. This can also be represented as 1 (true) or 0 (false). At the lowest level, all computer programs are eventually reduced down to 1s and 0s. At a high level, booleans are very useful for branching logic. "
   ]
  },
  {
   "cell_type": "code",
   "execution_count": null,
   "metadata": {
    "id": "8oRiANuwkdF5"
   },
   "outputs": [],
   "source": [
    "true = True\n",
    "false = False\n",
    "\n",
    "if true:\n",
    "  print(\"This is true\")\n",
    "\n",
    "if false:\n",
    "  print(\"Since this is false, this line will not get printed\")\n",
    "\n",
    "if not false:\n",
    "  print(\"This is not false\")"
   ]
  },
  {
   "cell_type": "code",
   "execution_count": null,
   "metadata": {
    "id": "aCG3b7N7k5RK"
   },
   "outputs": [],
   "source": [
    "# Change me\n",
    "a = True\n",
    "b = False\n",
    "\n",
    "if a and b:\n",
    "  print(\"Both a and b are true\")\n",
    "\n",
    "if a or b:\n",
    "  print(\"Either a or b is true (or both)\")\n",
    "\n",
    "if a == b:\n",
    "  print(\"A and b are equal\")\n",
    "\n",
    "if a != b:\n",
    "  print(\"a and b are not equal\")\n",
    "\n",
    "c = True\n",
    "\n",
    "if (a == b and c):\n",
    "  print(\"a and b are equal and c is true\")"
   ]
  },
  {
   "cell_type": "code",
   "execution_count": null,
   "metadata": {
    "id": "7yXiqjnfe5o5"
   },
   "outputs": [],
   "source": [
    "is_a_bird = False\n",
    "is_a_plane = False\n",
    "\n",
    "if not is_a_bird:\n",
    "  print(\"Is it a bird? No\")\n",
    "\n",
    "if not is_a_plane:\n",
    "  print(\"Is it a plane? No\")\n",
    "\n",
    "if not is_a_bird and not is_a_plane:\n",
    "  print(\"It's superman!\")\n"
   ]
  },
  {
   "cell_type": "markdown",
   "metadata": {
    "id": "mYlBkDjolxVD"
   },
   "source": [
    "Booleans can also be created through equality statements with numbers (and lots of other ways.)"
   ]
  },
  {
   "cell_type": "code",
   "execution_count": null,
   "metadata": {
    "id": "fKR5S1H2lwmQ"
   },
   "outputs": [],
   "source": [
    "x = 1\n",
    "y = 3\n",
    "c = True\n",
    "\n",
    "if x <= 10:\n",
    "  print(\"x is less than or equal to 10\")\n",
    "if x > -10 and x < 10:\n",
    "  print(\"X is between -10 and 10\")\n",
    "\n",
    "  "
   ]
  },
  {
   "cell_type": "markdown",
   "metadata": {
    "id": "aawaKOAm-OGQ"
   },
   "source": [
    "# Errors"
   ]
  },
  {
   "cell_type": "markdown",
   "metadata": {
    "id": "cNt1BzQy-Pn1"
   },
   "source": [
    "## Syntax errors"
   ]
  },
  {
   "cell_type": "markdown",
   "metadata": {
    "id": "Ud_PBcs6-ziK"
   },
   "source": [
    "A Syntax error is an error in the way the program is written. **Syntax** refers to the structure of a program and the rules about that structure. For example, in English, a sentence must begin with a capital letter and end with a period. this sentence contains a syntax error. So does this one\n",
    "\n",
    "When these syntax errors are encountered in Python, the program will throw an error and stop."
   ]
  },
  {
   "cell_type": "code",
   "execution_count": null,
   "metadata": {
    "id": "7VWWn4uq_P0Z"
   },
   "outputs": [],
   "source": [
    "x = 3\n",
    "if (x = 9:\n",
    "    print(\"x is 9\")"
   ]
  },
  {
   "cell_type": "markdown",
   "metadata": {
    "id": "5MSLMEVI-WPo"
   },
   "source": [
    "## Logic Errors"
   ]
  },
  {
   "cell_type": "markdown",
   "metadata": {
    "id": "s4OFQ0nZ_ZLH"
   },
   "source": [
    "Logic errors can be difficult to track down. The program may run without errors, but behave in unexpected or incorrect ways. "
   ]
  },
  {
   "cell_type": "code",
   "execution_count": null,
   "metadata": {
    "id": "KEeoL-hV_jja"
   },
   "outputs": [],
   "source": [
    "# This computes (2 + 4) / 3 = 2.\n",
    "print(2 + 4 / 3)"
   ]
  },
  {
   "cell_type": "code",
   "execution_count": null,
   "metadata": {
    "id": "CvOuZpUW_5zl"
   },
   "outputs": [],
   "source": [
    "width = int(input(\"Please enter the width of a rectangle \"))\n",
    "height = int(input(\"Please enter the height of a rectangle \"))\n",
    "\n",
    "area = width * height\n",
    "print(\"The area of the rectangle is \" + str(area))\n",
    "\n",
    "perimeter = width + width + height\n",
    "print(\"The perimeter of the rectangle is \" + str(area))\n"
   ]
  },
  {
   "cell_type": "markdown",
   "metadata": {
    "id": "_-Smct1S-tOw"
   },
   "source": [
    "## Runtime Errors"
   ]
  },
  {
   "cell_type": "markdown",
   "metadata": {
    "id": "6ciiCmsTAA2q"
   },
   "source": [
    "Finally, there are runtime errors, so called because the error does not appear until you run the program. These errors are also called exceptions because they usually indicate that something exceptional (and bad) has happened."
   ]
  },
  {
   "cell_type": "code",
   "execution_count": null,
   "metadata": {
    "id": "okofttTZAiFP"
   },
   "outputs": [],
   "source": [
    "width = int(input(\"Please enter the width of a rectangle \"))\n",
    "height = int(input(\"Please enter the height of a rectangle \"))\n",
    "\n",
    "area = width * height\n",
    "print(\"The area of the rectangle is \" + str(area))\n",
    "\n",
    "perimeter = width + width + height\n",
    "print(\"The perimeter of the rectangle is \" + str(area))\n"
   ]
  },
  {
   "cell_type": "markdown",
   "metadata": {
    "id": "lD-e3d6RBdBp"
   },
   "source": [
    "# Application: Manhattan Distance"
   ]
  },
  {
   "cell_type": "markdown",
   "metadata": {
    "id": "ulEwtUP_NpvJ"
   },
   "source": [
    "Chunhua is on the corner of 7th Avenue and 42nd Street in Midtown Manhattan, and she wants to know far she'd have to walk to get to Gramercy School on the corner of 10th Avenue and 34th Street.\n",
    "\n",
    "She can't cut across blocks diagonally, since there are buildings in the way.  She has to walk along the sidewalks.  Using the map below, she sees she'd have to walk 3 avenues (long blocks) and 8 streets (short blocks).  In terms of the given numbers, she computed 3 as the difference between 7 and 10, *in absolute value*, and 8 similarly.  \n",
    "\n",
    "Chunhua also knows that blocks in Manhattan are all about 80m by 274m (avenues are farther apart than streets).  So in total, she'd have to walk $(80 \\times |42 - 34| + 274 \\times |7 - 10|)$ meters to get to the park.\n",
    "\n",
    "<img src=\"https://github.com/cu-applied-math/stem-camp-notebooks/blob/master/2021/PythonIntro/figs/map.jpg?raw=1\"/>\n",
    "\n",
    "### QUESTION 1\n",
    "Write some code to compute the distance Chunhua needs to walk. "
   ]
  },
  {
   "cell_type": "code",
   "execution_count": null,
   "metadata": {
    "id": "wIv7yXSgOR1q"
   },
   "outputs": [],
   "source": []
  },
  {
   "cell_type": "markdown",
   "metadata": {
    "id": "moELCqNrOSOP"
   },
   "source": [
    "## Answer"
   ]
  },
  {
   "cell_type": "code",
   "execution_count": 17,
   "metadata": {
    "colab": {
     "base_uri": "https://localhost:8080/"
    },
    "id": "k_IHaTgONpvJ",
    "outputId": "03aecd35-3992-4136-f96c-59adc3f7a553"
   },
   "outputs": [
    {
     "data": {
      "text/plain": [
       "3494"
      ]
     },
     "execution_count": 17,
     "metadata": {},
     "output_type": "execute_result"
    }
   ],
   "source": [
    "# Here's the number of streets away:\n",
    "num_streets_away = abs(42-34)\n",
    "\n",
    "# Compute the number of avenues away in a similar way:\n",
    "num_avenues_away = abs(7-10)\n",
    "\n",
    "street_length_m = 80\n",
    "avenue_length_m = 274\n",
    "\n",
    "# Now we compute the total distance Chunhua must walk.\n",
    "manhattan_distance = street_length_m*num_streets_away + avenue_length_m*num_avenues_away\n",
    "\n",
    "# We've included this line so that you see the distance\n",
    "# you've computed when you run this cell.  You don't need\n",
    "# to change it, but you can if you want.\n",
    "manhattan_distance"
   ]
  },
  {
   "cell_type": "markdown",
   "metadata": {
    "id": "hAwXEcdpAuNL"
   },
   "source": [
    "# Functions and methods"
   ]
  },
  {
   "cell_type": "markdown",
   "metadata": {
    "id": "pLcARjgvYyV4"
   },
   "source": [
    "We have used some functions so far - things like `int()`, `print()`, and `input()` are all functions. What is a function? \n",
    "\n",
    "A function encapsulates a piece of code which can then be run easily without rewriting the code. All the functions we have used so far are built into Python. "
   ]
  },
  {
   "cell_type": "code",
   "execution_count": null,
   "metadata": {
    "id": "9GedIwCSZmuw"
   },
   "outputs": [],
   "source": [
    "# Using functions \n",
    "number = -10\n",
    "\n",
    "# A function can take in a value\n",
    "positive_number = abs(-10)\n",
    "\n",
    "# or multiple values\n",
    "bigger_number = max(number, positive_number)\n",
    "\n",
    "print(f'Our starting number is {number}. The absolute value of that number is {positive_number}, and the maximum of those two numbers is {bigger_number}.')"
   ]
  },
  {
   "cell_type": "markdown",
   "metadata": {
    "id": "BkpVqwl9e8H_"
   },
   "source": [
    "##### Multiple arguments\n",
    "Some functions take multiple arguments, separated by commas. For example, the built-in `max` function returns the maximum argument passed to it."
   ]
  },
  {
   "cell_type": "code",
   "execution_count": null,
   "metadata": {
    "id": "6_FZu_0he8IA"
   },
   "outputs": [],
   "source": [
    "max(2, -3, 4, -5)"
   ]
  },
  {
   "cell_type": "markdown",
   "metadata": {
    "id": "tGssZ8Y3a77l"
   },
   "source": [
    "You can define your own functions. Although functions can return values, they don't have to. This is an example of a function that does not return a value. "
   ]
  },
  {
   "cell_type": "code",
   "execution_count": null,
   "metadata": {
    "id": "r_9IvnFiaq5e"
   },
   "outputs": [],
   "source": [
    "# Our own max function\n",
    "def custom_max(first, second):\n",
    "  if first >= second:\n",
    "    print(\"The first is bigger than the second\")\n",
    "  else:\n",
    "    print(\"The second is bigger than the first\")\n",
    "\n"
   ]
  },
  {
   "cell_type": "code",
   "execution_count": null,
   "metadata": {
    "id": "D5tvk8YRbEgR"
   },
   "outputs": [],
   "source": [
    "custom_max(10, 11)\n",
    "\n",
    "test_variable = custom_max(10, 11)\n",
    "print(test_variable)"
   ]
  },
  {
   "cell_type": "markdown",
   "metadata": {
    "id": "Q7KQdJg9bT2H"
   },
   "source": [
    "To return something, we use the return key word. The best practice is to only return one thing at the end of the function."
   ]
  },
  {
   "cell_type": "code",
   "execution_count": null,
   "metadata": {
    "id": "GrMFn67YbNie"
   },
   "outputs": [],
   "source": [
    "def returnable_max(first, second):\n",
    "  max = None\n",
    "  if first >= second:\n",
    "    max = first\n",
    "  else:\n",
    "    max = second\n",
    "  return max"
   ]
  },
  {
   "cell_type": "code",
   "execution_count": null,
   "metadata": {
    "id": "uYncFtVVbgSh"
   },
   "outputs": [],
   "source": [
    "returnable_max(10, 11)\n",
    "\n",
    "test_variable = returnable_max(10, 11)\n",
    "print(test_variable)"
   ]
  },
  {
   "cell_type": "code",
   "execution_count": null,
   "metadata": {
    "id": "DmJxKhl7bmn-"
   },
   "outputs": [],
   "source": [
    "# A function doesn't need to return anything, or accept any variables.\n",
    "def say_hi():\n",
    "  print(\"Hi!\")"
   ]
  },
  {
   "cell_type": "code",
   "execution_count": null,
   "metadata": {
    "id": "c35OjlqpbsvZ"
   },
   "outputs": [],
   "source": [
    "say_hi()"
   ]
  },
  {
   "cell_type": "markdown",
   "metadata": {
    "id": "luHeNqs4bRBu"
   },
   "source": [
    "The variables inside a function are unique to the inside of this function. This means you can have clashing variable names without having them interact."
   ]
  },
  {
   "cell_type": "code",
   "execution_count": 10,
   "metadata": {
    "colab": {
     "base_uri": "https://localhost:8080/"
    },
    "id": "yCdVt2vHbQQg",
    "outputId": "81d391e3-8106-47aa-b294-74d685c1b5f0"
   },
   "outputs": [
    {
     "data": {
      "text/plain": [
       "12"
      ]
     },
     "execution_count": 10,
     "metadata": {},
     "output_type": "execute_result"
    }
   ],
   "source": [
    "def add_up(x, y):\n",
    "  z = 10\n",
    "  return x + y + z\n",
    "\n",
    "x = 1\n",
    "y = 1\n",
    "z = 3\n",
    "add_up(x, y)"
   ]
  },
  {
   "cell_type": "markdown",
   "metadata": {
    "id": "OyxHV-kGqOtD"
   },
   "source": [
    "You can also call what is called a *method* from a class. You can think of a class like a type, similar to what we talked about earlier. Each class has a specific set of rules and methods which can be applied to *members* of that class.\n",
    "\n",
    "A string is one example of this. We've already seen string methods:"
   ]
  },
  {
   "cell_type": "code",
   "execution_count": null,
   "metadata": {
    "id": "8YN7tC0xqP17"
   },
   "outputs": [],
   "source": [
    "sharp = 'edged'\n",
    "# Replace is a _method_ that is applied to sharp. \n",
    "hot = sharp.replace('ed', 'ma')\n",
    "print('sharp =', sharp)\n",
    "print('hot =', hot)"
   ]
  },
  {
   "cell_type": "code",
   "execution_count": null,
   "metadata": {
    "id": "8UG9Ape-qXGf"
   },
   "outputs": [],
   "source": [
    "# These methods can be applied on any string, and returns a string itself.\n",
    "fixed_typo = \"hello gorld!\".replace('g', 'w')\n",
    "print(fixed_typo)\n",
    "print(type(fixed_typo))\n",
    "\n",
    "# you can chain them together\n",
    "'train'.replace('t', 'ing').replace('in', 'de')"
   ]
  },
  {
   "cell_type": "markdown",
   "metadata": {
    "id": "c89EfRoJt-7v"
   },
   "source": [
    "Another example of a class is the `math` class. Here are some math methods:"
   ]
  },
  {
   "cell_type": "code",
   "execution_count": null,
   "metadata": {
    "id": "-rX_ip9NuIKa"
   },
   "outputs": [],
   "source": [
    "import math\n",
    "\n",
    "# Return the factorial of the input\n",
    "print(math.factorial(3))\n",
    "\n",
    "# return the largest integer less than or equal to x\n",
    "print(math.floor(2.9))\n",
    "\n",
    "# With one argument, return the natural logarithm of the input.\n",
    "print(math.log(12))\n",
    "\n",
    "# with two inputs, return the logarithm of the first input to the given base (log(x)/log(base))\n",
    "print(math.log(23, 2))"
   ]
  },
  {
   "cell_type": "markdown",
   "metadata": {
    "id": "CPLYs4i1YvXI"
   },
   "source": [
    "### What kinds of errors can you get with functions?"
   ]
  },
  {
   "cell_type": "markdown",
   "metadata": {
    "id": "5_gGOxyebxfZ"
   },
   "source": [
    "## Possible errors"
   ]
  },
  {
   "cell_type": "code",
   "execution_count": null,
   "metadata": {
    "id": "OYZQRo9vb0Zt"
   },
   "outputs": [],
   "source": [
    "# wrong number of arguments\n",
    "print(returnable_max(1))"
   ]
  },
  {
   "cell_type": "code",
   "execution_count": null,
   "metadata": {
    "id": "Xx94Gpj_b5WJ"
   },
   "outputs": [],
   "source": [
    "# Expecting a return from a function without a return statement\n",
    "max_value = custom_max(12, 13)\n",
    "print(max_value + 1)"
   ]
  },
  {
   "cell_type": "code",
   "execution_count": null,
   "metadata": {
    "id": "SWjgY8pGcNoJ"
   },
   "outputs": [],
   "source": [
    "# Mismatching types\n",
    "custom_max(1, \"hi!\")"
   ]
  },
  {
   "cell_type": "markdown",
   "metadata": {
    "id": "Wioio5YbbxZ-"
   },
   "source": [
    "## Exercise:\n",
    "Take your code that calculates the manhattan distance, above, and put it into a function. This function should take in the starting street, the ending street, the starting avenue, and the ending avenue, and return the distance walked. Remember that an avenue is 274m, and a street is 80m\n",
    "\n",
    "**Example input**: `compute_manhattan_dist(42, 34, 7, 10)`\n",
    "\n",
    "**Expected output**: 1462"
   ]
  },
  {
   "cell_type": "code",
   "execution_count": null,
   "metadata": {
    "id": "BwHBGZMocg43"
   },
   "outputs": [],
   "source": [
    "def compute_manhattan_dist(start_st, end_st, start_ave, end_ave):\n",
    "  return 0"
   ]
  },
  {
   "cell_type": "markdown",
   "metadata": {
    "id": "W_9VfZZdBRq_"
   },
   "source": [
    "# Lists"
   ]
  },
  {
   "cell_type": "markdown",
   "metadata": {
    "id": "9Tpc9RQvXqJy"
   },
   "source": [
    "A list is an ordered set of values, where each value is identified by an index. The values that make up a list are called its elements. Lists are similar to strings, which are ordered sets of characters, except that the elements of a list can have any type."
   ]
  },
  {
   "cell_type": "code",
   "execution_count": null,
   "metadata": {
    "id": "2lsD4BdbXiZk"
   },
   "outputs": [],
   "source": [
    "[1, 2, 3, 4]\n",
    "[\"a\", \"b\", \"c\"]\n",
    "[1, \"cat\", [2, 3]]"
   ]
  },
  {
   "cell_type": "markdown",
   "metadata": {
    "id": "NPXchorEXzhn"
   },
   "source": [
    "To access values inside a list, we can use brackets"
   ]
  },
  {
   "cell_type": "code",
   "execution_count": null,
   "metadata": {
    "id": "YCIoW1haX2Sb"
   },
   "outputs": [],
   "source": [
    "list_1 = [1, 10, 20]\n",
    "print(list_1[1])"
   ]
  },
  {
   "cell_type": "markdown",
   "metadata": {
    "id": "gtnXvE6-YYq4"
   },
   "source": [
    "You can even go backwards:"
   ]
  },
  {
   "cell_type": "code",
   "execution_count": null,
   "metadata": {
    "id": "b9oMkQMSYboY"
   },
   "outputs": [],
   "source": [
    "print(list_1[-1])"
   ]
  },
  {
   "cell_type": "markdown",
   "metadata": {
    "id": "7xFi7oeOX8Od"
   },
   "source": [
    "You can update a value in a list the same way"
   ]
  },
  {
   "cell_type": "code",
   "execution_count": null,
   "metadata": {
    "id": "7tB5yqGYX-iR"
   },
   "outputs": [],
   "source": [
    "list_1[0] = 100\n",
    "print(list_1)"
   ]
  },
  {
   "cell_type": "code",
   "execution_count": null,
   "metadata": {
    "id": "aVbWveCRZ1kP"
   },
   "outputs": [],
   "source": [
    "list_1.append(1)\n",
    "print(list_1)"
   ]
  },
  {
   "cell_type": "markdown",
   "metadata": {
    "id": "8xArXRpDYENr"
   },
   "source": [
    "You can access a subsection of a list through a **slice**"
   ]
  },
  {
   "cell_type": "code",
   "execution_count": null,
   "metadata": {
    "id": "m6aWM2fWYKLQ"
   },
   "outputs": [],
   "source": [
    "list_2 = list_1[0:2]\n",
    "\n",
    "print(list_2)\n",
    "\n",
    "print(list_1[1:])"
   ]
  },
  {
   "cell_type": "markdown",
   "metadata": {
    "id": "TdAN4z0tZEjj"
   },
   "source": [
    "You can have n dimensional lists"
   ]
  },
  {
   "cell_type": "code",
   "execution_count": null,
   "metadata": {
    "id": "ZIYiKl9YZHP1"
   },
   "outputs": [],
   "source": [
    "matrix = [[1, 2, 3],[5, 6, 7]]\n",
    "print(matrix[0])\n",
    "print(matrix[1][2])"
   ]
  },
  {
   "cell_type": "code",
   "execution_count": null,
   "metadata": {
    "id": "d--GmWMCeCoW"
   },
   "outputs": [],
   "source": [
    "print(len(matrix))\n",
    "print(len(matrix[0]))"
   ]
  },
  {
   "cell_type": "code",
   "execution_count": null,
   "metadata": {
    "id": "EG9o_iViaCoG"
   },
   "outputs": [],
   "source": [
    "empty_list = []\n",
    "\n",
    "if not empty_list:\n",
    "  print(\"This list is empty\")"
   ]
  },
  {
   "cell_type": "markdown",
   "metadata": {
    "id": "IvOzGSnSYmd0"
   },
   "source": [
    "### What kind of errors can you get with lists?"
   ]
  },
  {
   "cell_type": "markdown",
   "metadata": {
    "id": "GPPV_RngY3Xx"
   },
   "source": [
    "## Possible errors"
   ]
  },
  {
   "cell_type": "code",
   "execution_count": null,
   "metadata": {
    "id": "v8oky9UkY4tD"
   },
   "outputs": [],
   "source": [
    "list_1[3]"
   ]
  },
  {
   "cell_type": "code",
   "execution_count": null,
   "metadata": {
    "id": "wRSAv6AkY64n"
   },
   "outputs": [],
   "source": [
    "list_1[-4]"
   ]
  },
  {
   "cell_type": "code",
   "execution_count": null,
   "metadata": {
    "id": "srA7Ya9iZ8aW"
   },
   "outputs": [],
   "source": [
    "list_1[6] = 2\n"
   ]
  },
  {
   "cell_type": "markdown",
   "metadata": {
    "id": "jTDu3gVJAw0r"
   },
   "source": [
    "# Loops"
   ]
  },
  {
   "cell_type": "markdown",
   "metadata": {
    "id": "O3ZWKMnycdxZ"
   },
   "source": [
    "Repeated execution of a set of statements is called iteration. Because iteration is so common, Python provides several language features to make it easier. The first feature we are going to look at is the while statement."
   ]
  },
  {
   "cell_type": "code",
   "execution_count": null,
   "metadata": {
    "id": "xMXnEMQEdjTZ"
   },
   "outputs": [],
   "source": [
    "x = 0\n",
    "while x < 5:\n",
    "  print(x)\n",
    "  x = x + 1"
   ]
  },
  {
   "cell_type": "code",
   "execution_count": null,
   "metadata": {
    "id": "kPN6TNzFBQ1X"
   },
   "outputs": [],
   "source": [
    "for item in [1, 2, 3, 4]:\n",
    "  print(item)"
   ]
  },
  {
   "cell_type": "markdown",
   "metadata": {
    "id": "ojtOV7LWBkrY"
   },
   "source": [
    "# Exercise: Lists"
   ]
  },
  {
   "cell_type": "markdown",
   "metadata": {
    "id": "mYYqJjv1CS5H"
   },
   "source": [
    "Given a list, output another list with each value squared.\n",
    "\n",
    "numbers = [1, 2, 3, 4, 5, 6, 7]\n",
    "\n",
    "Expected output:\n",
    "[1, 4, 9, 16, 25, 36, 49]"
   ]
  },
  {
   "cell_type": "code",
   "execution_count": null,
   "metadata": {
    "id": "2IIspiP_u_PK"
   },
   "outputs": [],
   "source": [
    "numbers = [1, 2, 3, 4, 5, 6, 7]"
   ]
  },
  {
   "cell_type": "markdown",
   "metadata": {
    "id": "HE9ZaaoWcpqO"
   },
   "source": [
    "## Manhattan distance as lists\n",
    "Write a function which accepts a list of starting and ending streets, and a list of starting and ending avenues. For each set of start and end points, call your manhattan distance function from before and return a list of the distance walked for each set of starting and ending points.\n",
    "\n",
    "**Example input**: \n",
    "streets = `[[1, 22], [4, 11], [23, 29]]`\n",
    "\n",
    "avenues = `[[2, 9], [33, 2], [30, 41]]`\n",
    "\n",
    "So the first set of points, you would be walking from 1st street, 2nd avenue, to 22nd street, 9th avenue. \n",
    "\n",
    "**Expected output:** `[3598, 9054, 3494]`\n"
   ]
  },
  {
   "cell_type": "code",
   "execution_count": null,
   "metadata": {
    "id": "P8Si8h8yd2nx"
   },
   "outputs": [],
   "source": [
    "def compute_multiple_distances(streets, avenues):\n",
    "  return []"
   ]
  },
  {
   "cell_type": "markdown",
   "metadata": {
    "id": "k_TFIc0ld1VT"
   },
   "source": [
    "### Answer"
   ]
  },
  {
   "cell_type": "code",
   "execution_count": null,
   "metadata": {
    "id": "WHU5mJHQd3Jf"
   },
   "outputs": [],
   "source": [
    "def compute_multiple_distances(streets, avenues):\n",
    "  index = 0\n",
    "  results = []\n",
    "  while index < len(streets):\n",
    "    street_pair = streets[index]\n",
    "    ave_pair = avenues[index]\n",
    "    print(street_pair)\n",
    "    dist = compute_manhattan_dist(street_pair[0], street_pair[1], ave_pair[0], ave_pair[1])\n",
    "    results.append(dist)\n",
    "    index = index + 1\n",
    "  return results\n",
    "\n",
    "compute_multiple_distances([[1, 2]], [[1,1]])"
   ]
  },
  {
   "cell_type": "markdown",
   "metadata": {},
   "source": [
    "## Dictonaries"
   ]
  },
  {
   "cell_type": "markdown",
   "metadata": {},
   "source": [
    "Dictionaries are a Python structure which is an unordered list of keys and values. This can consist of any type key pointing to any type value. "
   ]
  },
  {
   "cell_type": "code",
   "execution_count": 21,
   "metadata": {},
   "outputs": [
    {
     "name": "stdout",
     "output_type": "stream",
     "text": [
      "{'Picard': 'Captain', 'LaForge': 'Chief Engineer', 'Worf': 'Lieutenant'}\n",
      "{'Picard': 'Captain', 'LaForge': 'Chief Engineer', 'Worf': 'Lieutenant', 'Crusher': 'Doctor'}\n"
     ]
    }
   ],
   "source": [
    "example_dict = {\"Picard\": \"Captain\", \"LaForge\": \"Chief Engineer\", \"Worf\": \"Lieutenant\"}\n",
    "\n",
    "print(example_dict)\n",
    "\n",
    "example_dict[\"Crusher\"] = \"Doctor\"\n",
    "\n",
    "print(example_dict)"
   ]
  },
  {
   "cell_type": "code",
   "execution_count": 25,
   "metadata": {},
   "outputs": [
    {
     "name": "stdout",
     "output_type": "stream",
     "text": [
      "9\n",
      "20\n"
     ]
    }
   ],
   "source": [
    "mixed_types = {\"dict\": { 3: 9, 2: 4}, \"list\": [2, 4, 6, 8], 30: 20}\n",
    "\n",
    "print(mixed_types[\"dict\"][3])\n",
    "print(mixed_types[30])"
   ]
  },
  {
   "cell_type": "code",
   "execution_count": 29,
   "metadata": {},
   "outputs": [
    {
     "name": "stdout",
     "output_type": "stream",
     "text": [
      "Picard is a Captain\n",
      "LaForge is a Chief Engineer\n",
      "Worf is a Lieutenant\n",
      "Crusher is a Doctor\n",
      "\n",
      "List of keys:\n",
      "dict\n",
      "list\n",
      "30\n",
      "\n",
      "List of values:\n",
      "{3: 9, 2: 4}\n",
      "[2, 4, 6, 8]\n",
      "20\n"
     ]
    }
   ],
   "source": [
    "# Looping through a dict\n",
    "\n",
    "for key, value in example_dict.items():\n",
    "    print(f\"{key} is a {value}\")\n",
    "\n",
    "print(\"\\nList of keys:\")\n",
    "# Order is NOT guarenteed\n",
    "for key in mixed_types.keys():\n",
    "    print(key)\n",
    "\n",
    "print(\"\\nList of values:\")\n",
    "for value in mixed_types.values():\n",
    "    print(value)"
   ]
  },
  {
   "cell_type": "markdown",
   "metadata": {},
   "source": [
    "# Numpy and Pandas overview"
   ]
  },
  {
   "cell_type": "markdown",
   "metadata": {},
   "source": [
    "Numpy and pandas are two python packages commonly used for data science applications. Numpy is a package which greatly improves on the existing math and data storage capablities of Python. Pandas is a package for creating and manipulating excel-like tables for managing data. "
   ]
  },
  {
   "cell_type": "markdown",
   "metadata": {},
   "source": [
    "## Numpy arrays"
   ]
  },
  {
   "cell_type": "markdown",
   "metadata": {},
   "source": [
    "Numpy Arrays are a key tool for efficiently evaluating and managing data. They are similar to lists, with a few key differences: \n",
    "\n",
    "- The way arrays are created is different\n",
    "- Appending to arrays is inefficient - it is preferable to create an array of your expected size and then fill it\n",
    "- Managing multi-dimensional data in numpy arrays is easier"
   ]
  },
  {
   "cell_type": "code",
   "execution_count": 7,
   "metadata": {},
   "outputs": [
    {
     "name": "stdout",
     "output_type": "stream",
     "text": [
      "Array1: \n",
      "[11. 12. 33.]\n",
      "Shape of array1:\n",
      "(3,)\n",
      "\n",
      "\n",
      "empty array2: \n",
      "[[0. 0. 0.]\n",
      " [0. 0. 0.]]\n",
      "\n",
      "\n",
      "Filled array2:\n",
      "[[ 2.11e+00  2.00e-03  1.00e-02]\n",
      " [ 3.40e+00  2.30e+01 -1.00e+00]]\n",
      "(2, 3)\n"
     ]
    }
   ],
   "source": [
    "import numpy as np\n",
    "\n",
    "# Create a numpy array\n",
    "array1 = np.array([11, 12.0, 33])\n",
    "\n",
    "print(\"Array1: \")\n",
    "print(array1)\n",
    "\n",
    "# Get the shape of the array\n",
    "print(\"Shape of array1:\")\n",
    "print(np.shape(array1))\n",
    "\n",
    "print(\"\\n\")\n",
    "# Create an empty array\n",
    "array2 = np.zeros((2, 3))\n",
    "print(\"empty array2: \")\n",
    "print(array2)\n",
    "\n",
    "# Fill that array\n",
    "array2[0] = np.array([2.11, .002, 0.01])\n",
    "array2[1] = [3.4, 23, -1]\n",
    "print(\"\\n\")\n",
    "print(\"Filled array2:\")\n",
    "print(array2)\n",
    "print(array2.shape)"
   ]
  },
  {
   "cell_type": "code",
   "execution_count": 9,
   "metadata": {},
   "outputs": [
    {
     "name": "stdout",
     "output_type": "stream",
     "text": [
      "Type of array2: <class 'numpy.ndarray'>\n",
      "Type of elements in array2: float64\n"
     ]
    }
   ],
   "source": [
    "# Numpy has its own type system. Values in a numpy array must have the same type. \n",
    "\n",
    "print(f\"Type of array2: {type(array2)}\")\n",
    "print(f\"Type of elements in array2: {array2.dtype}\")"
   ]
  },
  {
   "cell_type": "code",
   "execution_count": 16,
   "metadata": {},
   "outputs": [
    {
     "name": "stdout",
     "output_type": "stream",
     "text": [
      "['23' 'test' '3']\n",
      "string_array has a type of: <U21\n"
     ]
    }
   ],
   "source": [
    "string_array = np.array([23, \"test\", 3])\n",
    "print(string_array)\n",
    "\n",
    "# All the values are converted to \"char\" type\n",
    "print(f\"string_array has a type of: {string_array.dtype}\")"
   ]
  },
  {
   "cell_type": "markdown",
   "metadata": {},
   "source": [
    "## Pandas Dataframes\n",
    "Dataframes are another way of organizing data. \n",
    "\n",
    "The equivalent to an array in pandas is called a **series**. A series is basically a one dimensional array.\n",
    "\n",
    "It also has a more complex data structure, called a **dataframe**. This is like a 2-dimensional array. It's easiest to think of this as like an excel spreadsheet, or like a database. It is structured into rows and columns. This is a powerful way of organizing data. \n",
    "\n",
    "Section inspired by: [10 minutes to pandas](https://pandas.pydata.org/pandas-docs/stable/user_guide/10min.html)"
   ]
  },
  {
   "cell_type": "code",
   "execution_count": 19,
   "metadata": {},
   "outputs": [
    {
     "name": "stdout",
     "output_type": "stream",
     "text": [
      "0    1\n",
      "1    2\n",
      "2    3\n",
      "3    4\n",
      "dtype: int64\n",
      "0    2.0\n",
      "1    3.0\n",
      "2    4.0\n",
      "3    5.0\n",
      "dtype: float64\n"
     ]
    }
   ],
   "source": [
    "import pandas as pd \n",
    "\n",
    "first_series = pd.Series([1, 2, 3, 4])\n",
    "print(first_series)\n",
    "\n",
    "second_series = pd.Series(np.array([2, 3, 4, 5.0]))\n",
    "print(second_series)"
   ]
  },
  {
   "cell_type": "markdown",
   "metadata": {},
   "source": [
    "You can see that, just like the numpy arrays, each series has a type associated with it."
   ]
  },
  {
   "cell_type": "code",
   "execution_count": 62,
   "metadata": {},
   "outputs": [
    {
     "name": "stdout",
     "output_type": "stream",
     "text": [
      "dates:  DatetimeIndex(['2013-01-01', '2013-01-02', '2013-01-03', '2013-01-04',\n",
      "               '2013-01-05', '2013-01-06', '2013-01-07', '2013-01-08',\n",
      "               '2013-01-09', '2013-01-10', '2013-01-11', '2013-01-12',\n",
      "               '2013-01-13', '2013-01-14', '2013-01-15', '2013-01-16',\n",
      "               '2013-01-17', '2013-01-18', '2013-01-19', '2013-01-20'],\n",
      "              dtype='datetime64[ns]', freq='D')\n"
     ]
    },
    {
     "data": {
      "text/html": [
       "<div>\n",
       "<style scoped>\n",
       "    .dataframe tbody tr th:only-of-type {\n",
       "        vertical-align: middle;\n",
       "    }\n",
       "\n",
       "    .dataframe tbody tr th {\n",
       "        vertical-align: top;\n",
       "    }\n",
       "\n",
       "    .dataframe thead th {\n",
       "        text-align: right;\n",
       "    }\n",
       "</style>\n",
       "<table border=\"1\" class=\"dataframe\">\n",
       "  <thead>\n",
       "    <tr style=\"text-align: right;\">\n",
       "      <th></th>\n",
       "      <th>A</th>\n",
       "      <th>B</th>\n",
       "      <th>C</th>\n",
       "      <th>D</th>\n",
       "    </tr>\n",
       "  </thead>\n",
       "  <tbody>\n",
       "    <tr>\n",
       "      <th>2013-01-01</th>\n",
       "      <td>1.135519</td>\n",
       "      <td>0.328451</td>\n",
       "      <td>-0.696141</td>\n",
       "      <td>0.464098</td>\n",
       "    </tr>\n",
       "    <tr>\n",
       "      <th>2013-01-02</th>\n",
       "      <td>0.390509</td>\n",
       "      <td>0.431525</td>\n",
       "      <td>1.422329</td>\n",
       "      <td>-0.522587</td>\n",
       "    </tr>\n",
       "    <tr>\n",
       "      <th>2013-01-03</th>\n",
       "      <td>0.364503</td>\n",
       "      <td>-0.462124</td>\n",
       "      <td>-0.160321</td>\n",
       "      <td>0.581668</td>\n",
       "    </tr>\n",
       "    <tr>\n",
       "      <th>2013-01-04</th>\n",
       "      <td>1.600947</td>\n",
       "      <td>-0.062193</td>\n",
       "      <td>-1.654521</td>\n",
       "      <td>0.679481</td>\n",
       "    </tr>\n",
       "    <tr>\n",
       "      <th>2013-01-05</th>\n",
       "      <td>0.252277</td>\n",
       "      <td>-0.693396</td>\n",
       "      <td>0.927588</td>\n",
       "      <td>1.106224</td>\n",
       "    </tr>\n",
       "    <tr>\n",
       "      <th>2013-01-06</th>\n",
       "      <td>-1.443245</td>\n",
       "      <td>-0.321063</td>\n",
       "      <td>1.198829</td>\n",
       "      <td>0.898042</td>\n",
       "    </tr>\n",
       "    <tr>\n",
       "      <th>2013-01-07</th>\n",
       "      <td>-0.152888</td>\n",
       "      <td>-0.792427</td>\n",
       "      <td>0.154722</td>\n",
       "      <td>0.962068</td>\n",
       "    </tr>\n",
       "    <tr>\n",
       "      <th>2013-01-08</th>\n",
       "      <td>0.820451</td>\n",
       "      <td>-0.655639</td>\n",
       "      <td>1.377084</td>\n",
       "      <td>-1.037971</td>\n",
       "    </tr>\n",
       "    <tr>\n",
       "      <th>2013-01-09</th>\n",
       "      <td>-1.006848</td>\n",
       "      <td>0.506592</td>\n",
       "      <td>1.840697</td>\n",
       "      <td>-0.844223</td>\n",
       "    </tr>\n",
       "    <tr>\n",
       "      <th>2013-01-10</th>\n",
       "      <td>-0.265363</td>\n",
       "      <td>-1.449164</td>\n",
       "      <td>0.382608</td>\n",
       "      <td>0.484010</td>\n",
       "    </tr>\n",
       "    <tr>\n",
       "      <th>2013-01-11</th>\n",
       "      <td>-0.303752</td>\n",
       "      <td>-0.642174</td>\n",
       "      <td>0.287324</td>\n",
       "      <td>0.223467</td>\n",
       "    </tr>\n",
       "    <tr>\n",
       "      <th>2013-01-12</th>\n",
       "      <td>-0.643394</td>\n",
       "      <td>0.974534</td>\n",
       "      <td>-1.007396</td>\n",
       "      <td>-0.236474</td>\n",
       "    </tr>\n",
       "    <tr>\n",
       "      <th>2013-01-13</th>\n",
       "      <td>2.903643</td>\n",
       "      <td>-1.067461</td>\n",
       "      <td>-0.201524</td>\n",
       "      <td>-0.454458</td>\n",
       "    </tr>\n",
       "    <tr>\n",
       "      <th>2013-01-14</th>\n",
       "      <td>-0.223444</td>\n",
       "      <td>-1.484912</td>\n",
       "      <td>-0.069412</td>\n",
       "      <td>-0.480513</td>\n",
       "    </tr>\n",
       "    <tr>\n",
       "      <th>2013-01-15</th>\n",
       "      <td>-0.345799</td>\n",
       "      <td>-1.580284</td>\n",
       "      <td>-0.395945</td>\n",
       "      <td>1.107430</td>\n",
       "    </tr>\n",
       "    <tr>\n",
       "      <th>2013-01-16</th>\n",
       "      <td>-0.276186</td>\n",
       "      <td>0.548309</td>\n",
       "      <td>0.536616</td>\n",
       "      <td>-1.117661</td>\n",
       "    </tr>\n",
       "    <tr>\n",
       "      <th>2013-01-17</th>\n",
       "      <td>-0.898850</td>\n",
       "      <td>0.277332</td>\n",
       "      <td>-1.020056</td>\n",
       "      <td>0.793103</td>\n",
       "    </tr>\n",
       "    <tr>\n",
       "      <th>2013-01-18</th>\n",
       "      <td>0.289806</td>\n",
       "      <td>-0.144044</td>\n",
       "      <td>0.040680</td>\n",
       "      <td>-0.418175</td>\n",
       "    </tr>\n",
       "    <tr>\n",
       "      <th>2013-01-19</th>\n",
       "      <td>0.140836</td>\n",
       "      <td>-1.036797</td>\n",
       "      <td>-0.712332</td>\n",
       "      <td>-0.648963</td>\n",
       "    </tr>\n",
       "    <tr>\n",
       "      <th>2013-01-20</th>\n",
       "      <td>1.103890</td>\n",
       "      <td>-0.218309</td>\n",
       "      <td>-0.325800</td>\n",
       "      <td>-1.734264</td>\n",
       "    </tr>\n",
       "  </tbody>\n",
       "</table>\n",
       "</div>"
      ],
      "text/plain": [
       "                   A         B         C         D\n",
       "2013-01-01  1.135519  0.328451 -0.696141  0.464098\n",
       "2013-01-02  0.390509  0.431525  1.422329 -0.522587\n",
       "2013-01-03  0.364503 -0.462124 -0.160321  0.581668\n",
       "2013-01-04  1.600947 -0.062193 -1.654521  0.679481\n",
       "2013-01-05  0.252277 -0.693396  0.927588  1.106224\n",
       "2013-01-06 -1.443245 -0.321063  1.198829  0.898042\n",
       "2013-01-07 -0.152888 -0.792427  0.154722  0.962068\n",
       "2013-01-08  0.820451 -0.655639  1.377084 -1.037971\n",
       "2013-01-09 -1.006848  0.506592  1.840697 -0.844223\n",
       "2013-01-10 -0.265363 -1.449164  0.382608  0.484010\n",
       "2013-01-11 -0.303752 -0.642174  0.287324  0.223467\n",
       "2013-01-12 -0.643394  0.974534 -1.007396 -0.236474\n",
       "2013-01-13  2.903643 -1.067461 -0.201524 -0.454458\n",
       "2013-01-14 -0.223444 -1.484912 -0.069412 -0.480513\n",
       "2013-01-15 -0.345799 -1.580284 -0.395945  1.107430\n",
       "2013-01-16 -0.276186  0.548309  0.536616 -1.117661\n",
       "2013-01-17 -0.898850  0.277332 -1.020056  0.793103\n",
       "2013-01-18  0.289806 -0.144044  0.040680 -0.418175\n",
       "2013-01-19  0.140836 -1.036797 -0.712332 -0.648963\n",
       "2013-01-20  1.103890 -0.218309 -0.325800 -1.734264"
      ]
     },
     "execution_count": 62,
     "metadata": {},
     "output_type": "execute_result"
    }
   ],
   "source": [
    "# Creating your first dataframe\n",
    "dates = pd.date_range(\"20130101\", periods=20)\n",
    "\n",
    "print(\"dates: \", dates)\n",
    "\n",
    "# Create a dataframe with an index of the given dates, and the columns A-D. This is filled with a randomly generated array of size (6, 4)\n",
    "df = pd.DataFrame(np.random.randn(20, 4), index=dates, columns=list(\"ABCD\"))\n",
    "df"
   ]
  },
  {
   "cell_type": "markdown",
   "metadata": {},
   "source": [
    "Dataframes have powerful methods for applying functions to data, combining dataframes, removing data, and other tools. It is very helpful for reading in data files and cleaning and organizing data. "
   ]
  },
  {
   "cell_type": "code",
   "execution_count": 63,
   "metadata": {},
   "outputs": [
    {
     "data": {
      "text/html": [
       "<div>\n",
       "<style scoped>\n",
       "    .dataframe tbody tr th:only-of-type {\n",
       "        vertical-align: middle;\n",
       "    }\n",
       "\n",
       "    .dataframe tbody tr th {\n",
       "        vertical-align: top;\n",
       "    }\n",
       "\n",
       "    .dataframe thead th {\n",
       "        text-align: right;\n",
       "    }\n",
       "</style>\n",
       "<table border=\"1\" class=\"dataframe\">\n",
       "  <thead>\n",
       "    <tr style=\"text-align: right;\">\n",
       "      <th></th>\n",
       "      <th>A</th>\n",
       "      <th>B</th>\n",
       "      <th>C</th>\n",
       "      <th>D</th>\n",
       "    </tr>\n",
       "  </thead>\n",
       "  <tbody>\n",
       "    <tr>\n",
       "      <th>2013-01-01</th>\n",
       "      <td>1.135519</td>\n",
       "      <td>0.328451</td>\n",
       "      <td>-0.696141</td>\n",
       "      <td>0.464098</td>\n",
       "    </tr>\n",
       "    <tr>\n",
       "      <th>2013-01-02</th>\n",
       "      <td>0.390509</td>\n",
       "      <td>0.431525</td>\n",
       "      <td>1.422329</td>\n",
       "      <td>-0.522587</td>\n",
       "    </tr>\n",
       "    <tr>\n",
       "      <th>2013-01-03</th>\n",
       "      <td>0.364503</td>\n",
       "      <td>-0.462124</td>\n",
       "      <td>-0.160321</td>\n",
       "      <td>0.581668</td>\n",
       "    </tr>\n",
       "    <tr>\n",
       "      <th>2013-01-04</th>\n",
       "      <td>1.600947</td>\n",
       "      <td>-0.062193</td>\n",
       "      <td>-1.654521</td>\n",
       "      <td>0.679481</td>\n",
       "    </tr>\n",
       "    <tr>\n",
       "      <th>2013-01-05</th>\n",
       "      <td>0.252277</td>\n",
       "      <td>-0.693396</td>\n",
       "      <td>0.927588</td>\n",
       "      <td>1.106224</td>\n",
       "    </tr>\n",
       "  </tbody>\n",
       "</table>\n",
       "</div>"
      ],
      "text/plain": [
       "                   A         B         C         D\n",
       "2013-01-01  1.135519  0.328451 -0.696141  0.464098\n",
       "2013-01-02  0.390509  0.431525  1.422329 -0.522587\n",
       "2013-01-03  0.364503 -0.462124 -0.160321  0.581668\n",
       "2013-01-04  1.600947 -0.062193 -1.654521  0.679481\n",
       "2013-01-05  0.252277 -0.693396  0.927588  1.106224"
      ]
     },
     "execution_count": 63,
     "metadata": {},
     "output_type": "execute_result"
    }
   ],
   "source": [
    "# Viewing data:\n",
    "df.head()"
   ]
  },
  {
   "cell_type": "code",
   "execution_count": 64,
   "metadata": {},
   "outputs": [
    {
     "name": "stdout",
     "output_type": "stream",
     "text": [
      "2013-01-01    1.135519\n",
      "2013-01-02    0.390509\n",
      "2013-01-03    0.364503\n",
      "2013-01-04    1.600947\n",
      "2013-01-05    0.252277\n",
      "2013-01-06   -1.443245\n",
      "2013-01-07   -0.152888\n",
      "2013-01-08    0.820451\n",
      "2013-01-09   -1.006848\n",
      "2013-01-10   -0.265363\n",
      "2013-01-11   -0.303752\n",
      "2013-01-12   -0.643394\n",
      "2013-01-13    2.903643\n",
      "2013-01-14   -0.223444\n",
      "2013-01-15   -0.345799\n",
      "2013-01-16   -0.276186\n",
      "2013-01-17   -0.898850\n",
      "2013-01-18    0.289806\n",
      "2013-01-19    0.140836\n",
      "2013-01-20    1.103890\n",
      "Freq: D, Name: A, dtype: float64\n"
     ]
    }
   ],
   "source": [
    "# Getting subsections of data\n",
    "# by column\n",
    "column_a = df[\"A\"]\n",
    "print(column_a)"
   ]
  },
  {
   "cell_type": "code",
   "execution_count": 65,
   "metadata": {},
   "outputs": [
    {
     "data": {
      "text/html": [
       "<div>\n",
       "<style scoped>\n",
       "    .dataframe tbody tr th:only-of-type {\n",
       "        vertical-align: middle;\n",
       "    }\n",
       "\n",
       "    .dataframe tbody tr th {\n",
       "        vertical-align: top;\n",
       "    }\n",
       "\n",
       "    .dataframe thead th {\n",
       "        text-align: right;\n",
       "    }\n",
       "</style>\n",
       "<table border=\"1\" class=\"dataframe\">\n",
       "  <thead>\n",
       "    <tr style=\"text-align: right;\">\n",
       "      <th></th>\n",
       "      <th>A</th>\n",
       "      <th>B</th>\n",
       "      <th>C</th>\n",
       "      <th>D</th>\n",
       "    </tr>\n",
       "  </thead>\n",
       "  <tbody>\n",
       "    <tr>\n",
       "      <th>2013-01-02</th>\n",
       "      <td>0.390509</td>\n",
       "      <td>0.431525</td>\n",
       "      <td>1.422329</td>\n",
       "      <td>-0.522587</td>\n",
       "    </tr>\n",
       "    <tr>\n",
       "      <th>2013-01-03</th>\n",
       "      <td>0.364503</td>\n",
       "      <td>-0.462124</td>\n",
       "      <td>-0.160321</td>\n",
       "      <td>0.581668</td>\n",
       "    </tr>\n",
       "    <tr>\n",
       "      <th>2013-01-04</th>\n",
       "      <td>1.600947</td>\n",
       "      <td>-0.062193</td>\n",
       "      <td>-1.654521</td>\n",
       "      <td>0.679481</td>\n",
       "    </tr>\n",
       "  </tbody>\n",
       "</table>\n",
       "</div>"
      ],
      "text/plain": [
       "                   A         B         C         D\n",
       "2013-01-02  0.390509  0.431525  1.422329 -0.522587\n",
       "2013-01-03  0.364503 -0.462124 -0.160321  0.581668\n",
       "2013-01-04  1.600947 -0.062193 -1.654521  0.679481"
      ]
     },
     "execution_count": 65,
     "metadata": {},
     "output_type": "execute_result"
    }
   ],
   "source": [
    "# by slice\n",
    "rows = df[1:4]\n",
    "rows"
   ]
  },
  {
   "cell_type": "code",
   "execution_count": 66,
   "metadata": {},
   "outputs": [
    {
     "data": {
      "text/plain": [
       "A    0.140836\n",
       "B   -1.036797\n",
       "C   -0.712332\n",
       "D   -0.648963\n",
       "Name: 2013-01-19 00:00:00, dtype: float64"
      ]
     },
     "execution_count": 66,
     "metadata": {},
     "output_type": "execute_result"
    }
   ],
   "source": [
    "# By label\n",
    "df.loc['2013-01-19']"
   ]
  },
  {
   "cell_type": "code",
   "execution_count": 67,
   "metadata": {},
   "outputs": [
    {
     "data": {
      "text/html": [
       "<div>\n",
       "<style scoped>\n",
       "    .dataframe tbody tr th:only-of-type {\n",
       "        vertical-align: middle;\n",
       "    }\n",
       "\n",
       "    .dataframe tbody tr th {\n",
       "        vertical-align: top;\n",
       "    }\n",
       "\n",
       "    .dataframe thead th {\n",
       "        text-align: right;\n",
       "    }\n",
       "</style>\n",
       "<table border=\"1\" class=\"dataframe\">\n",
       "  <thead>\n",
       "    <tr style=\"text-align: right;\">\n",
       "      <th></th>\n",
       "      <th>A</th>\n",
       "      <th>B</th>\n",
       "    </tr>\n",
       "  </thead>\n",
       "  <tbody>\n",
       "    <tr>\n",
       "      <th>2013-01-03</th>\n",
       "      <td>0.364503</td>\n",
       "      <td>-0.462124</td>\n",
       "    </tr>\n",
       "    <tr>\n",
       "      <th>2013-01-04</th>\n",
       "      <td>1.600947</td>\n",
       "      <td>-0.062193</td>\n",
       "    </tr>\n",
       "    <tr>\n",
       "      <th>2013-01-05</th>\n",
       "      <td>0.252277</td>\n",
       "      <td>-0.693396</td>\n",
       "    </tr>\n",
       "    <tr>\n",
       "      <th>2013-01-06</th>\n",
       "      <td>-1.443245</td>\n",
       "      <td>-0.321063</td>\n",
       "    </tr>\n",
       "    <tr>\n",
       "      <th>2013-01-07</th>\n",
       "      <td>-0.152888</td>\n",
       "      <td>-0.792427</td>\n",
       "    </tr>\n",
       "    <tr>\n",
       "      <th>2013-01-08</th>\n",
       "      <td>0.820451</td>\n",
       "      <td>-0.655639</td>\n",
       "    </tr>\n",
       "    <tr>\n",
       "      <th>2013-01-09</th>\n",
       "      <td>-1.006848</td>\n",
       "      <td>0.506592</td>\n",
       "    </tr>\n",
       "  </tbody>\n",
       "</table>\n",
       "</div>"
      ],
      "text/plain": [
       "                   A         B\n",
       "2013-01-03  0.364503 -0.462124\n",
       "2013-01-04  1.600947 -0.062193\n",
       "2013-01-05  0.252277 -0.693396\n",
       "2013-01-06 -1.443245 -0.321063\n",
       "2013-01-07 -0.152888 -0.792427\n",
       "2013-01-08  0.820451 -0.655639\n",
       "2013-01-09 -1.006848  0.506592"
      ]
     },
     "execution_count": 67,
     "metadata": {},
     "output_type": "execute_result"
    }
   ],
   "source": [
    "# Multiple labels\n",
    "df.loc['2013-01-03':'2013-01-09', [\"A\", \"B\"]]"
   ]
  },
  {
   "cell_type": "code",
   "execution_count": 68,
   "metadata": {},
   "outputs": [
    {
     "data": {
      "text/plain": [
       "-1.654521453536918"
      ]
     },
     "execution_count": 68,
     "metadata": {},
     "output_type": "execute_result"
    }
   ],
   "source": [
    "# Retrieve one value\n",
    "df.loc['2013-01-04', \"C\"]"
   ]
  },
  {
   "cell_type": "code",
   "execution_count": 69,
   "metadata": {},
   "outputs": [
    {
     "data": {
      "text/html": [
       "<div>\n",
       "<style scoped>\n",
       "    .dataframe tbody tr th:only-of-type {\n",
       "        vertical-align: middle;\n",
       "    }\n",
       "\n",
       "    .dataframe tbody tr th {\n",
       "        vertical-align: top;\n",
       "    }\n",
       "\n",
       "    .dataframe thead th {\n",
       "        text-align: right;\n",
       "    }\n",
       "</style>\n",
       "<table border=\"1\" class=\"dataframe\">\n",
       "  <thead>\n",
       "    <tr style=\"text-align: right;\">\n",
       "      <th></th>\n",
       "      <th>A</th>\n",
       "      <th>B</th>\n",
       "    </tr>\n",
       "  </thead>\n",
       "  <tbody>\n",
       "    <tr>\n",
       "      <th>2013-01-03</th>\n",
       "      <td>0.364503</td>\n",
       "      <td>-0.462124</td>\n",
       "    </tr>\n",
       "    <tr>\n",
       "      <th>2013-01-04</th>\n",
       "      <td>1.600947</td>\n",
       "      <td>-0.062193</td>\n",
       "    </tr>\n",
       "  </tbody>\n",
       "</table>\n",
       "</div>"
      ],
      "text/plain": [
       "                   A         B\n",
       "2013-01-03  0.364503 -0.462124\n",
       "2013-01-04  1.600947 -0.062193"
      ]
     },
     "execution_count": 69,
     "metadata": {},
     "output_type": "execute_result"
    }
   ],
   "source": [
    "# Selection by position\n",
    "df.iloc[2:4, :2]"
   ]
  },
  {
   "cell_type": "code",
   "execution_count": 70,
   "metadata": {},
   "outputs": [
    {
     "data": {
      "text/html": [
       "<div>\n",
       "<style scoped>\n",
       "    .dataframe tbody tr th:only-of-type {\n",
       "        vertical-align: middle;\n",
       "    }\n",
       "\n",
       "    .dataframe tbody tr th {\n",
       "        vertical-align: top;\n",
       "    }\n",
       "\n",
       "    .dataframe thead th {\n",
       "        text-align: right;\n",
       "    }\n",
       "</style>\n",
       "<table border=\"1\" class=\"dataframe\">\n",
       "  <thead>\n",
       "    <tr style=\"text-align: right;\">\n",
       "      <th></th>\n",
       "      <th>A</th>\n",
       "      <th>B</th>\n",
       "      <th>C</th>\n",
       "      <th>D</th>\n",
       "    </tr>\n",
       "  </thead>\n",
       "  <tbody>\n",
       "    <tr>\n",
       "      <th>2013-01-01</th>\n",
       "      <td>1.135519</td>\n",
       "      <td>0.328451</td>\n",
       "      <td>-0.696141</td>\n",
       "      <td>0.464098</td>\n",
       "    </tr>\n",
       "    <tr>\n",
       "      <th>2013-01-02</th>\n",
       "      <td>0.390509</td>\n",
       "      <td>0.431525</td>\n",
       "      <td>1.422329</td>\n",
       "      <td>-0.522587</td>\n",
       "    </tr>\n",
       "    <tr>\n",
       "      <th>2013-01-03</th>\n",
       "      <td>0.364503</td>\n",
       "      <td>-0.462124</td>\n",
       "      <td>-0.160321</td>\n",
       "      <td>0.581668</td>\n",
       "    </tr>\n",
       "    <tr>\n",
       "      <th>2013-01-04</th>\n",
       "      <td>1.600947</td>\n",
       "      <td>-0.062193</td>\n",
       "      <td>-1.654521</td>\n",
       "      <td>0.679481</td>\n",
       "    </tr>\n",
       "    <tr>\n",
       "      <th>2013-01-05</th>\n",
       "      <td>0.252277</td>\n",
       "      <td>-0.693396</td>\n",
       "      <td>0.927588</td>\n",
       "      <td>1.106224</td>\n",
       "    </tr>\n",
       "    <tr>\n",
       "      <th>2013-01-08</th>\n",
       "      <td>0.820451</td>\n",
       "      <td>-0.655639</td>\n",
       "      <td>1.377084</td>\n",
       "      <td>-1.037971</td>\n",
       "    </tr>\n",
       "    <tr>\n",
       "      <th>2013-01-13</th>\n",
       "      <td>2.903643</td>\n",
       "      <td>-1.067461</td>\n",
       "      <td>-0.201524</td>\n",
       "      <td>-0.454458</td>\n",
       "    </tr>\n",
       "    <tr>\n",
       "      <th>2013-01-18</th>\n",
       "      <td>0.289806</td>\n",
       "      <td>-0.144044</td>\n",
       "      <td>0.040680</td>\n",
       "      <td>-0.418175</td>\n",
       "    </tr>\n",
       "    <tr>\n",
       "      <th>2013-01-19</th>\n",
       "      <td>0.140836</td>\n",
       "      <td>-1.036797</td>\n",
       "      <td>-0.712332</td>\n",
       "      <td>-0.648963</td>\n",
       "    </tr>\n",
       "    <tr>\n",
       "      <th>2013-01-20</th>\n",
       "      <td>1.103890</td>\n",
       "      <td>-0.218309</td>\n",
       "      <td>-0.325800</td>\n",
       "      <td>-1.734264</td>\n",
       "    </tr>\n",
       "  </tbody>\n",
       "</table>\n",
       "</div>"
      ],
      "text/plain": [
       "                   A         B         C         D\n",
       "2013-01-01  1.135519  0.328451 -0.696141  0.464098\n",
       "2013-01-02  0.390509  0.431525  1.422329 -0.522587\n",
       "2013-01-03  0.364503 -0.462124 -0.160321  0.581668\n",
       "2013-01-04  1.600947 -0.062193 -1.654521  0.679481\n",
       "2013-01-05  0.252277 -0.693396  0.927588  1.106224\n",
       "2013-01-08  0.820451 -0.655639  1.377084 -1.037971\n",
       "2013-01-13  2.903643 -1.067461 -0.201524 -0.454458\n",
       "2013-01-18  0.289806 -0.144044  0.040680 -0.418175\n",
       "2013-01-19  0.140836 -1.036797 -0.712332 -0.648963\n",
       "2013-01-20  1.103890 -0.218309 -0.325800 -1.734264"
      ]
     },
     "execution_count": 70,
     "metadata": {},
     "output_type": "execute_result"
    }
   ],
   "source": [
    "# Comparing data\n",
    "# Show where df.A is greater than 0\n",
    "\n",
    "df[df[\"A\"] > 0]"
   ]
  },
  {
   "cell_type": "code",
   "execution_count": 71,
   "metadata": {},
   "outputs": [
    {
     "data": {
      "text/html": [
       "<div>\n",
       "<style scoped>\n",
       "    .dataframe tbody tr th:only-of-type {\n",
       "        vertical-align: middle;\n",
       "    }\n",
       "\n",
       "    .dataframe tbody tr th {\n",
       "        vertical-align: top;\n",
       "    }\n",
       "\n",
       "    .dataframe thead th {\n",
       "        text-align: right;\n",
       "    }\n",
       "</style>\n",
       "<table border=\"1\" class=\"dataframe\">\n",
       "  <thead>\n",
       "    <tr style=\"text-align: right;\">\n",
       "      <th></th>\n",
       "      <th>A</th>\n",
       "      <th>B</th>\n",
       "      <th>C</th>\n",
       "      <th>D</th>\n",
       "    </tr>\n",
       "  </thead>\n",
       "  <tbody>\n",
       "    <tr>\n",
       "      <th>2013-01-01</th>\n",
       "      <td>1.135519</td>\n",
       "      <td>0.328451</td>\n",
       "      <td>-0.696141</td>\n",
       "      <td>0.464098</td>\n",
       "    </tr>\n",
       "    <tr>\n",
       "      <th>2013-01-02</th>\n",
       "      <td>0.390509</td>\n",
       "      <td>0.431525</td>\n",
       "      <td>1.422329</td>\n",
       "      <td>-0.522587</td>\n",
       "    </tr>\n",
       "    <tr>\n",
       "      <th>2013-01-03</th>\n",
       "      <td>0.364503</td>\n",
       "      <td>NaN</td>\n",
       "      <td>-0.160321</td>\n",
       "      <td>0.581668</td>\n",
       "    </tr>\n",
       "    <tr>\n",
       "      <th>2013-01-04</th>\n",
       "      <td>1.600947</td>\n",
       "      <td>NaN</td>\n",
       "      <td>-1.654521</td>\n",
       "      <td>0.679481</td>\n",
       "    </tr>\n",
       "    <tr>\n",
       "      <th>2013-01-05</th>\n",
       "      <td>0.252277</td>\n",
       "      <td>NaN</td>\n",
       "      <td>0.927588</td>\n",
       "      <td>1.106224</td>\n",
       "    </tr>\n",
       "    <tr>\n",
       "      <th>2013-01-06</th>\n",
       "      <td>-1.443245</td>\n",
       "      <td>NaN</td>\n",
       "      <td>1.198829</td>\n",
       "      <td>0.898042</td>\n",
       "    </tr>\n",
       "    <tr>\n",
       "      <th>2013-01-07</th>\n",
       "      <td>-0.152888</td>\n",
       "      <td>NaN</td>\n",
       "      <td>0.154722</td>\n",
       "      <td>0.962068</td>\n",
       "    </tr>\n",
       "    <tr>\n",
       "      <th>2013-01-08</th>\n",
       "      <td>0.820451</td>\n",
       "      <td>NaN</td>\n",
       "      <td>1.377084</td>\n",
       "      <td>-1.037971</td>\n",
       "    </tr>\n",
       "    <tr>\n",
       "      <th>2013-01-09</th>\n",
       "      <td>-1.006848</td>\n",
       "      <td>0.506592</td>\n",
       "      <td>1.840697</td>\n",
       "      <td>-0.844223</td>\n",
       "    </tr>\n",
       "    <tr>\n",
       "      <th>2013-01-10</th>\n",
       "      <td>-0.265363</td>\n",
       "      <td>NaN</td>\n",
       "      <td>0.382608</td>\n",
       "      <td>0.484010</td>\n",
       "    </tr>\n",
       "    <tr>\n",
       "      <th>2013-01-11</th>\n",
       "      <td>-0.303752</td>\n",
       "      <td>NaN</td>\n",
       "      <td>0.287324</td>\n",
       "      <td>0.223467</td>\n",
       "    </tr>\n",
       "    <tr>\n",
       "      <th>2013-01-12</th>\n",
       "      <td>-0.643394</td>\n",
       "      <td>0.974534</td>\n",
       "      <td>-1.007396</td>\n",
       "      <td>-0.236474</td>\n",
       "    </tr>\n",
       "    <tr>\n",
       "      <th>2013-01-13</th>\n",
       "      <td>2.903643</td>\n",
       "      <td>NaN</td>\n",
       "      <td>-0.201524</td>\n",
       "      <td>-0.454458</td>\n",
       "    </tr>\n",
       "    <tr>\n",
       "      <th>2013-01-14</th>\n",
       "      <td>-0.223444</td>\n",
       "      <td>NaN</td>\n",
       "      <td>-0.069412</td>\n",
       "      <td>-0.480513</td>\n",
       "    </tr>\n",
       "    <tr>\n",
       "      <th>2013-01-15</th>\n",
       "      <td>-0.345799</td>\n",
       "      <td>NaN</td>\n",
       "      <td>-0.395945</td>\n",
       "      <td>1.107430</td>\n",
       "    </tr>\n",
       "    <tr>\n",
       "      <th>2013-01-16</th>\n",
       "      <td>-0.276186</td>\n",
       "      <td>0.548309</td>\n",
       "      <td>0.536616</td>\n",
       "      <td>-1.117661</td>\n",
       "    </tr>\n",
       "    <tr>\n",
       "      <th>2013-01-17</th>\n",
       "      <td>-0.898850</td>\n",
       "      <td>0.277332</td>\n",
       "      <td>-1.020056</td>\n",
       "      <td>0.793103</td>\n",
       "    </tr>\n",
       "    <tr>\n",
       "      <th>2013-01-18</th>\n",
       "      <td>0.289806</td>\n",
       "      <td>NaN</td>\n",
       "      <td>0.040680</td>\n",
       "      <td>-0.418175</td>\n",
       "    </tr>\n",
       "    <tr>\n",
       "      <th>2013-01-19</th>\n",
       "      <td>0.140836</td>\n",
       "      <td>NaN</td>\n",
       "      <td>-0.712332</td>\n",
       "      <td>-0.648963</td>\n",
       "    </tr>\n",
       "    <tr>\n",
       "      <th>2013-01-20</th>\n",
       "      <td>1.103890</td>\n",
       "      <td>NaN</td>\n",
       "      <td>-0.325800</td>\n",
       "      <td>-1.734264</td>\n",
       "    </tr>\n",
       "  </tbody>\n",
       "</table>\n",
       "</div>"
      ],
      "text/plain": [
       "                   A         B         C         D\n",
       "2013-01-01  1.135519  0.328451 -0.696141  0.464098\n",
       "2013-01-02  0.390509  0.431525  1.422329 -0.522587\n",
       "2013-01-03  0.364503       NaN -0.160321  0.581668\n",
       "2013-01-04  1.600947       NaN -1.654521  0.679481\n",
       "2013-01-05  0.252277       NaN  0.927588  1.106224\n",
       "2013-01-06 -1.443245       NaN  1.198829  0.898042\n",
       "2013-01-07 -0.152888       NaN  0.154722  0.962068\n",
       "2013-01-08  0.820451       NaN  1.377084 -1.037971\n",
       "2013-01-09 -1.006848  0.506592  1.840697 -0.844223\n",
       "2013-01-10 -0.265363       NaN  0.382608  0.484010\n",
       "2013-01-11 -0.303752       NaN  0.287324  0.223467\n",
       "2013-01-12 -0.643394  0.974534 -1.007396 -0.236474\n",
       "2013-01-13  2.903643       NaN -0.201524 -0.454458\n",
       "2013-01-14 -0.223444       NaN -0.069412 -0.480513\n",
       "2013-01-15 -0.345799       NaN -0.395945  1.107430\n",
       "2013-01-16 -0.276186  0.548309  0.536616 -1.117661\n",
       "2013-01-17 -0.898850  0.277332 -1.020056  0.793103\n",
       "2013-01-18  0.289806       NaN  0.040680 -0.418175\n",
       "2013-01-19  0.140836       NaN -0.712332 -0.648963\n",
       "2013-01-20  1.103890       NaN -0.325800 -1.734264"
      ]
     },
     "execution_count": 71,
     "metadata": {},
     "output_type": "execute_result"
    }
   ],
   "source": [
    "# You can use where() to replace invalid values\n",
    "\n",
    "df[\"B\"] = df[\"B\"].where(df[\"B\"] > 0, np.nan)\n",
    "df"
   ]
  },
  {
   "cell_type": "code",
   "execution_count": 72,
   "metadata": {},
   "outputs": [
    {
     "data": {
      "text/html": [
       "<div>\n",
       "<style scoped>\n",
       "    .dataframe tbody tr th:only-of-type {\n",
       "        vertical-align: middle;\n",
       "    }\n",
       "\n",
       "    .dataframe tbody tr th {\n",
       "        vertical-align: top;\n",
       "    }\n",
       "\n",
       "    .dataframe thead th {\n",
       "        text-align: right;\n",
       "    }\n",
       "</style>\n",
       "<table border=\"1\" class=\"dataframe\">\n",
       "  <thead>\n",
       "    <tr style=\"text-align: right;\">\n",
       "      <th></th>\n",
       "      <th>A</th>\n",
       "      <th>B</th>\n",
       "      <th>C</th>\n",
       "      <th>D</th>\n",
       "    </tr>\n",
       "  </thead>\n",
       "  <tbody>\n",
       "    <tr>\n",
       "      <th>2013-01-01</th>\n",
       "      <td>1.135519</td>\n",
       "      <td>0.328451</td>\n",
       "      <td>-0.696141</td>\n",
       "      <td>NaN</td>\n",
       "    </tr>\n",
       "    <tr>\n",
       "      <th>2013-01-02</th>\n",
       "      <td>0.390509</td>\n",
       "      <td>0.431525</td>\n",
       "      <td>1.422329</td>\n",
       "      <td>NaN</td>\n",
       "    </tr>\n",
       "    <tr>\n",
       "      <th>2013-01-03</th>\n",
       "      <td>0.364503</td>\n",
       "      <td>NaN</td>\n",
       "      <td>-0.160321</td>\n",
       "      <td>NaN</td>\n",
       "    </tr>\n",
       "    <tr>\n",
       "      <th>2013-01-04</th>\n",
       "      <td>1.600947</td>\n",
       "      <td>NaN</td>\n",
       "      <td>-1.654521</td>\n",
       "      <td>1.0</td>\n",
       "    </tr>\n",
       "    <tr>\n",
       "      <th>2013-01-05</th>\n",
       "      <td>0.252277</td>\n",
       "      <td>NaN</td>\n",
       "      <td>0.927588</td>\n",
       "      <td>2.0</td>\n",
       "    </tr>\n",
       "    <tr>\n",
       "      <th>2013-01-06</th>\n",
       "      <td>-1.443245</td>\n",
       "      <td>NaN</td>\n",
       "      <td>1.198829</td>\n",
       "      <td>3.0</td>\n",
       "    </tr>\n",
       "    <tr>\n",
       "      <th>2013-01-07</th>\n",
       "      <td>-0.152888</td>\n",
       "      <td>NaN</td>\n",
       "      <td>0.154722</td>\n",
       "      <td>4.0</td>\n",
       "    </tr>\n",
       "    <tr>\n",
       "      <th>2013-01-08</th>\n",
       "      <td>0.820451</td>\n",
       "      <td>NaN</td>\n",
       "      <td>1.377084</td>\n",
       "      <td>5.0</td>\n",
       "    </tr>\n",
       "    <tr>\n",
       "      <th>2013-01-09</th>\n",
       "      <td>-1.006848</td>\n",
       "      <td>0.506592</td>\n",
       "      <td>1.840697</td>\n",
       "      <td>6.0</td>\n",
       "    </tr>\n",
       "    <tr>\n",
       "      <th>2013-01-10</th>\n",
       "      <td>-0.265363</td>\n",
       "      <td>NaN</td>\n",
       "      <td>0.382608</td>\n",
       "      <td>NaN</td>\n",
       "    </tr>\n",
       "    <tr>\n",
       "      <th>2013-01-11</th>\n",
       "      <td>-0.303752</td>\n",
       "      <td>NaN</td>\n",
       "      <td>0.287324</td>\n",
       "      <td>NaN</td>\n",
       "    </tr>\n",
       "    <tr>\n",
       "      <th>2013-01-12</th>\n",
       "      <td>-0.643394</td>\n",
       "      <td>0.974534</td>\n",
       "      <td>-1.007396</td>\n",
       "      <td>NaN</td>\n",
       "    </tr>\n",
       "    <tr>\n",
       "      <th>2013-01-13</th>\n",
       "      <td>2.903643</td>\n",
       "      <td>NaN</td>\n",
       "      <td>-0.201524</td>\n",
       "      <td>NaN</td>\n",
       "    </tr>\n",
       "    <tr>\n",
       "      <th>2013-01-14</th>\n",
       "      <td>-0.223444</td>\n",
       "      <td>NaN</td>\n",
       "      <td>-0.069412</td>\n",
       "      <td>NaN</td>\n",
       "    </tr>\n",
       "    <tr>\n",
       "      <th>2013-01-15</th>\n",
       "      <td>-0.345799</td>\n",
       "      <td>NaN</td>\n",
       "      <td>-0.395945</td>\n",
       "      <td>NaN</td>\n",
       "    </tr>\n",
       "    <tr>\n",
       "      <th>2013-01-16</th>\n",
       "      <td>-0.276186</td>\n",
       "      <td>0.548309</td>\n",
       "      <td>0.536616</td>\n",
       "      <td>NaN</td>\n",
       "    </tr>\n",
       "    <tr>\n",
       "      <th>2013-01-17</th>\n",
       "      <td>-0.898850</td>\n",
       "      <td>0.277332</td>\n",
       "      <td>-1.020056</td>\n",
       "      <td>NaN</td>\n",
       "    </tr>\n",
       "    <tr>\n",
       "      <th>2013-01-18</th>\n",
       "      <td>0.289806</td>\n",
       "      <td>NaN</td>\n",
       "      <td>0.040680</td>\n",
       "      <td>NaN</td>\n",
       "    </tr>\n",
       "    <tr>\n",
       "      <th>2013-01-19</th>\n",
       "      <td>0.140836</td>\n",
       "      <td>NaN</td>\n",
       "      <td>-0.712332</td>\n",
       "      <td>NaN</td>\n",
       "    </tr>\n",
       "    <tr>\n",
       "      <th>2013-01-20</th>\n",
       "      <td>1.103890</td>\n",
       "      <td>NaN</td>\n",
       "      <td>-0.325800</td>\n",
       "      <td>NaN</td>\n",
       "    </tr>\n",
       "  </tbody>\n",
       "</table>\n",
       "</div>"
      ],
      "text/plain": [
       "                   A         B         C    D\n",
       "2013-01-01  1.135519  0.328451 -0.696141  NaN\n",
       "2013-01-02  0.390509  0.431525  1.422329  NaN\n",
       "2013-01-03  0.364503       NaN -0.160321  NaN\n",
       "2013-01-04  1.600947       NaN -1.654521  1.0\n",
       "2013-01-05  0.252277       NaN  0.927588  2.0\n",
       "2013-01-06 -1.443245       NaN  1.198829  3.0\n",
       "2013-01-07 -0.152888       NaN  0.154722  4.0\n",
       "2013-01-08  0.820451       NaN  1.377084  5.0\n",
       "2013-01-09 -1.006848  0.506592  1.840697  6.0\n",
       "2013-01-10 -0.265363       NaN  0.382608  NaN\n",
       "2013-01-11 -0.303752       NaN  0.287324  NaN\n",
       "2013-01-12 -0.643394  0.974534 -1.007396  NaN\n",
       "2013-01-13  2.903643       NaN -0.201524  NaN\n",
       "2013-01-14 -0.223444       NaN -0.069412  NaN\n",
       "2013-01-15 -0.345799       NaN -0.395945  NaN\n",
       "2013-01-16 -0.276186  0.548309  0.536616  NaN\n",
       "2013-01-17 -0.898850  0.277332 -1.020056  NaN\n",
       "2013-01-18  0.289806       NaN  0.040680  NaN\n",
       "2013-01-19  0.140836       NaN -0.712332  NaN\n",
       "2013-01-20  1.103890       NaN -0.325800  NaN"
      ]
     },
     "execution_count": 72,
     "metadata": {},
     "output_type": "execute_result"
    }
   ],
   "source": [
    "# Adding data \n",
    "s1 = pd.Series([1, 2, 3, 4, 5, 6], index=pd.date_range(\"20130104\", periods=6))\n",
    "df['D'] = s1\n",
    "df"
   ]
  },
  {
   "cell_type": "code",
   "execution_count": 73,
   "metadata": {},
   "outputs": [
    {
     "data": {
      "text/html": [
       "<div>\n",
       "<style scoped>\n",
       "    .dataframe tbody tr th:only-of-type {\n",
       "        vertical-align: middle;\n",
       "    }\n",
       "\n",
       "    .dataframe tbody tr th {\n",
       "        vertical-align: top;\n",
       "    }\n",
       "\n",
       "    .dataframe thead th {\n",
       "        text-align: right;\n",
       "    }\n",
       "</style>\n",
       "<table border=\"1\" class=\"dataframe\">\n",
       "  <thead>\n",
       "    <tr style=\"text-align: right;\">\n",
       "      <th></th>\n",
       "      <th>A</th>\n",
       "      <th>B</th>\n",
       "      <th>C</th>\n",
       "      <th>D</th>\n",
       "    </tr>\n",
       "  </thead>\n",
       "  <tbody>\n",
       "    <tr>\n",
       "      <th>2013-01-09</th>\n",
       "      <td>-1.006848</td>\n",
       "      <td>0.506592</td>\n",
       "      <td>1.840697</td>\n",
       "      <td>6.0</td>\n",
       "    </tr>\n",
       "  </tbody>\n",
       "</table>\n",
       "</div>"
      ],
      "text/plain": [
       "                   A         B         C    D\n",
       "2013-01-09 -1.006848  0.506592  1.840697  6.0"
      ]
     },
     "execution_count": 73,
     "metadata": {},
     "output_type": "execute_result"
    }
   ],
   "source": [
    "df_no_nan = df.dropna()\n",
    "df_no_nan"
   ]
  },
  {
   "cell_type": "code",
   "execution_count": 74,
   "metadata": {},
   "outputs": [
    {
     "data": {
      "text/html": [
       "<div>\n",
       "<style scoped>\n",
       "    .dataframe tbody tr th:only-of-type {\n",
       "        vertical-align: middle;\n",
       "    }\n",
       "\n",
       "    .dataframe tbody tr th {\n",
       "        vertical-align: top;\n",
       "    }\n",
       "\n",
       "    .dataframe thead th {\n",
       "        text-align: right;\n",
       "    }\n",
       "</style>\n",
       "<table border=\"1\" class=\"dataframe\">\n",
       "  <thead>\n",
       "    <tr style=\"text-align: right;\">\n",
       "      <th></th>\n",
       "      <th>A</th>\n",
       "      <th>B</th>\n",
       "      <th>C</th>\n",
       "      <th>D</th>\n",
       "    </tr>\n",
       "  </thead>\n",
       "  <tbody>\n",
       "    <tr>\n",
       "      <th>2013-01-01</th>\n",
       "      <td>1.135519</td>\n",
       "      <td>0.328451</td>\n",
       "      <td>-0.696141</td>\n",
       "      <td>-9999.0</td>\n",
       "    </tr>\n",
       "    <tr>\n",
       "      <th>2013-01-02</th>\n",
       "      <td>0.390509</td>\n",
       "      <td>0.431525</td>\n",
       "      <td>1.422329</td>\n",
       "      <td>-9999.0</td>\n",
       "    </tr>\n",
       "    <tr>\n",
       "      <th>2013-01-03</th>\n",
       "      <td>0.364503</td>\n",
       "      <td>-9999.000000</td>\n",
       "      <td>-0.160321</td>\n",
       "      <td>-9999.0</td>\n",
       "    </tr>\n",
       "    <tr>\n",
       "      <th>2013-01-04</th>\n",
       "      <td>1.600947</td>\n",
       "      <td>-9999.000000</td>\n",
       "      <td>-1.654521</td>\n",
       "      <td>1.0</td>\n",
       "    </tr>\n",
       "    <tr>\n",
       "      <th>2013-01-05</th>\n",
       "      <td>0.252277</td>\n",
       "      <td>-9999.000000</td>\n",
       "      <td>0.927588</td>\n",
       "      <td>2.0</td>\n",
       "    </tr>\n",
       "    <tr>\n",
       "      <th>2013-01-06</th>\n",
       "      <td>-1.443245</td>\n",
       "      <td>-9999.000000</td>\n",
       "      <td>1.198829</td>\n",
       "      <td>3.0</td>\n",
       "    </tr>\n",
       "    <tr>\n",
       "      <th>2013-01-07</th>\n",
       "      <td>-0.152888</td>\n",
       "      <td>-9999.000000</td>\n",
       "      <td>0.154722</td>\n",
       "      <td>4.0</td>\n",
       "    </tr>\n",
       "    <tr>\n",
       "      <th>2013-01-08</th>\n",
       "      <td>0.820451</td>\n",
       "      <td>-9999.000000</td>\n",
       "      <td>1.377084</td>\n",
       "      <td>5.0</td>\n",
       "    </tr>\n",
       "    <tr>\n",
       "      <th>2013-01-09</th>\n",
       "      <td>-1.006848</td>\n",
       "      <td>0.506592</td>\n",
       "      <td>1.840697</td>\n",
       "      <td>6.0</td>\n",
       "    </tr>\n",
       "    <tr>\n",
       "      <th>2013-01-10</th>\n",
       "      <td>-0.265363</td>\n",
       "      <td>-9999.000000</td>\n",
       "      <td>0.382608</td>\n",
       "      <td>-9999.0</td>\n",
       "    </tr>\n",
       "    <tr>\n",
       "      <th>2013-01-11</th>\n",
       "      <td>-0.303752</td>\n",
       "      <td>-9999.000000</td>\n",
       "      <td>0.287324</td>\n",
       "      <td>-9999.0</td>\n",
       "    </tr>\n",
       "    <tr>\n",
       "      <th>2013-01-12</th>\n",
       "      <td>-0.643394</td>\n",
       "      <td>0.974534</td>\n",
       "      <td>-1.007396</td>\n",
       "      <td>-9999.0</td>\n",
       "    </tr>\n",
       "    <tr>\n",
       "      <th>2013-01-13</th>\n",
       "      <td>2.903643</td>\n",
       "      <td>-9999.000000</td>\n",
       "      <td>-0.201524</td>\n",
       "      <td>-9999.0</td>\n",
       "    </tr>\n",
       "    <tr>\n",
       "      <th>2013-01-14</th>\n",
       "      <td>-0.223444</td>\n",
       "      <td>-9999.000000</td>\n",
       "      <td>-0.069412</td>\n",
       "      <td>-9999.0</td>\n",
       "    </tr>\n",
       "    <tr>\n",
       "      <th>2013-01-15</th>\n",
       "      <td>-0.345799</td>\n",
       "      <td>-9999.000000</td>\n",
       "      <td>-0.395945</td>\n",
       "      <td>-9999.0</td>\n",
       "    </tr>\n",
       "    <tr>\n",
       "      <th>2013-01-16</th>\n",
       "      <td>-0.276186</td>\n",
       "      <td>0.548309</td>\n",
       "      <td>0.536616</td>\n",
       "      <td>-9999.0</td>\n",
       "    </tr>\n",
       "    <tr>\n",
       "      <th>2013-01-17</th>\n",
       "      <td>-0.898850</td>\n",
       "      <td>0.277332</td>\n",
       "      <td>-1.020056</td>\n",
       "      <td>-9999.0</td>\n",
       "    </tr>\n",
       "    <tr>\n",
       "      <th>2013-01-18</th>\n",
       "      <td>0.289806</td>\n",
       "      <td>-9999.000000</td>\n",
       "      <td>0.040680</td>\n",
       "      <td>-9999.0</td>\n",
       "    </tr>\n",
       "    <tr>\n",
       "      <th>2013-01-19</th>\n",
       "      <td>0.140836</td>\n",
       "      <td>-9999.000000</td>\n",
       "      <td>-0.712332</td>\n",
       "      <td>-9999.0</td>\n",
       "    </tr>\n",
       "    <tr>\n",
       "      <th>2013-01-20</th>\n",
       "      <td>1.103890</td>\n",
       "      <td>-9999.000000</td>\n",
       "      <td>-0.325800</td>\n",
       "      <td>-9999.0</td>\n",
       "    </tr>\n",
       "  </tbody>\n",
       "</table>\n",
       "</div>"
      ],
      "text/plain": [
       "                   A            B         C       D\n",
       "2013-01-01  1.135519     0.328451 -0.696141 -9999.0\n",
       "2013-01-02  0.390509     0.431525  1.422329 -9999.0\n",
       "2013-01-03  0.364503 -9999.000000 -0.160321 -9999.0\n",
       "2013-01-04  1.600947 -9999.000000 -1.654521     1.0\n",
       "2013-01-05  0.252277 -9999.000000  0.927588     2.0\n",
       "2013-01-06 -1.443245 -9999.000000  1.198829     3.0\n",
       "2013-01-07 -0.152888 -9999.000000  0.154722     4.0\n",
       "2013-01-08  0.820451 -9999.000000  1.377084     5.0\n",
       "2013-01-09 -1.006848     0.506592  1.840697     6.0\n",
       "2013-01-10 -0.265363 -9999.000000  0.382608 -9999.0\n",
       "2013-01-11 -0.303752 -9999.000000  0.287324 -9999.0\n",
       "2013-01-12 -0.643394     0.974534 -1.007396 -9999.0\n",
       "2013-01-13  2.903643 -9999.000000 -0.201524 -9999.0\n",
       "2013-01-14 -0.223444 -9999.000000 -0.069412 -9999.0\n",
       "2013-01-15 -0.345799 -9999.000000 -0.395945 -9999.0\n",
       "2013-01-16 -0.276186     0.548309  0.536616 -9999.0\n",
       "2013-01-17 -0.898850     0.277332 -1.020056 -9999.0\n",
       "2013-01-18  0.289806 -9999.000000  0.040680 -9999.0\n",
       "2013-01-19  0.140836 -9999.000000 -0.712332 -9999.0\n",
       "2013-01-20  1.103890 -9999.000000 -0.325800 -9999.0"
      ]
     },
     "execution_count": 74,
     "metadata": {},
     "output_type": "execute_result"
    }
   ],
   "source": [
    "df_no_nan = df.fillna(-9999)\n",
    "df_no_nan"
   ]
  },
  {
   "cell_type": "code",
   "execution_count": 75,
   "metadata": {},
   "outputs": [
    {
     "data": {
      "text/html": [
       "<div>\n",
       "<style scoped>\n",
       "    .dataframe tbody tr th:only-of-type {\n",
       "        vertical-align: middle;\n",
       "    }\n",
       "\n",
       "    .dataframe tbody tr th {\n",
       "        vertical-align: top;\n",
       "    }\n",
       "\n",
       "    .dataframe thead th {\n",
       "        text-align: right;\n",
       "    }\n",
       "</style>\n",
       "<table border=\"1\" class=\"dataframe\">\n",
       "  <thead>\n",
       "    <tr style=\"text-align: right;\">\n",
       "      <th></th>\n",
       "      <th>A</th>\n",
       "      <th>B</th>\n",
       "      <th>C</th>\n",
       "      <th>D</th>\n",
       "    </tr>\n",
       "  </thead>\n",
       "  <tbody>\n",
       "    <tr>\n",
       "      <th>2013-01-01</th>\n",
       "      <td>11.135519</td>\n",
       "      <td>10.328451</td>\n",
       "      <td>9.303859</td>\n",
       "      <td>NaN</td>\n",
       "    </tr>\n",
       "    <tr>\n",
       "      <th>2013-01-02</th>\n",
       "      <td>10.390509</td>\n",
       "      <td>10.431525</td>\n",
       "      <td>11.422329</td>\n",
       "      <td>NaN</td>\n",
       "    </tr>\n",
       "    <tr>\n",
       "      <th>2013-01-03</th>\n",
       "      <td>10.364503</td>\n",
       "      <td>NaN</td>\n",
       "      <td>9.839679</td>\n",
       "      <td>NaN</td>\n",
       "    </tr>\n",
       "    <tr>\n",
       "      <th>2013-01-04</th>\n",
       "      <td>11.600947</td>\n",
       "      <td>NaN</td>\n",
       "      <td>8.345479</td>\n",
       "      <td>11.0</td>\n",
       "    </tr>\n",
       "    <tr>\n",
       "      <th>2013-01-05</th>\n",
       "      <td>10.252277</td>\n",
       "      <td>NaN</td>\n",
       "      <td>10.927588</td>\n",
       "      <td>12.0</td>\n",
       "    </tr>\n",
       "    <tr>\n",
       "      <th>2013-01-06</th>\n",
       "      <td>8.556755</td>\n",
       "      <td>NaN</td>\n",
       "      <td>11.198829</td>\n",
       "      <td>13.0</td>\n",
       "    </tr>\n",
       "    <tr>\n",
       "      <th>2013-01-07</th>\n",
       "      <td>9.847112</td>\n",
       "      <td>NaN</td>\n",
       "      <td>10.154722</td>\n",
       "      <td>14.0</td>\n",
       "    </tr>\n",
       "    <tr>\n",
       "      <th>2013-01-08</th>\n",
       "      <td>10.820451</td>\n",
       "      <td>NaN</td>\n",
       "      <td>11.377084</td>\n",
       "      <td>15.0</td>\n",
       "    </tr>\n",
       "    <tr>\n",
       "      <th>2013-01-09</th>\n",
       "      <td>8.993152</td>\n",
       "      <td>10.506592</td>\n",
       "      <td>11.840697</td>\n",
       "      <td>16.0</td>\n",
       "    </tr>\n",
       "    <tr>\n",
       "      <th>2013-01-10</th>\n",
       "      <td>9.734637</td>\n",
       "      <td>NaN</td>\n",
       "      <td>10.382608</td>\n",
       "      <td>NaN</td>\n",
       "    </tr>\n",
       "    <tr>\n",
       "      <th>2013-01-11</th>\n",
       "      <td>9.696248</td>\n",
       "      <td>NaN</td>\n",
       "      <td>10.287324</td>\n",
       "      <td>NaN</td>\n",
       "    </tr>\n",
       "    <tr>\n",
       "      <th>2013-01-12</th>\n",
       "      <td>9.356606</td>\n",
       "      <td>10.974534</td>\n",
       "      <td>8.992604</td>\n",
       "      <td>NaN</td>\n",
       "    </tr>\n",
       "    <tr>\n",
       "      <th>2013-01-13</th>\n",
       "      <td>12.903643</td>\n",
       "      <td>NaN</td>\n",
       "      <td>9.798476</td>\n",
       "      <td>NaN</td>\n",
       "    </tr>\n",
       "    <tr>\n",
       "      <th>2013-01-14</th>\n",
       "      <td>9.776556</td>\n",
       "      <td>NaN</td>\n",
       "      <td>9.930588</td>\n",
       "      <td>NaN</td>\n",
       "    </tr>\n",
       "    <tr>\n",
       "      <th>2013-01-15</th>\n",
       "      <td>9.654201</td>\n",
       "      <td>NaN</td>\n",
       "      <td>9.604055</td>\n",
       "      <td>NaN</td>\n",
       "    </tr>\n",
       "    <tr>\n",
       "      <th>2013-01-16</th>\n",
       "      <td>9.723814</td>\n",
       "      <td>10.548309</td>\n",
       "      <td>10.536616</td>\n",
       "      <td>NaN</td>\n",
       "    </tr>\n",
       "    <tr>\n",
       "      <th>2013-01-17</th>\n",
       "      <td>9.101150</td>\n",
       "      <td>10.277332</td>\n",
       "      <td>8.979944</td>\n",
       "      <td>NaN</td>\n",
       "    </tr>\n",
       "    <tr>\n",
       "      <th>2013-01-18</th>\n",
       "      <td>10.289806</td>\n",
       "      <td>NaN</td>\n",
       "      <td>10.040680</td>\n",
       "      <td>NaN</td>\n",
       "    </tr>\n",
       "    <tr>\n",
       "      <th>2013-01-19</th>\n",
       "      <td>10.140836</td>\n",
       "      <td>NaN</td>\n",
       "      <td>9.287668</td>\n",
       "      <td>NaN</td>\n",
       "    </tr>\n",
       "    <tr>\n",
       "      <th>2013-01-20</th>\n",
       "      <td>11.103890</td>\n",
       "      <td>NaN</td>\n",
       "      <td>9.674200</td>\n",
       "      <td>NaN</td>\n",
       "    </tr>\n",
       "  </tbody>\n",
       "</table>\n",
       "</div>"
      ],
      "text/plain": [
       "                    A          B          C     D\n",
       "2013-01-01  11.135519  10.328451   9.303859   NaN\n",
       "2013-01-02  10.390509  10.431525  11.422329   NaN\n",
       "2013-01-03  10.364503        NaN   9.839679   NaN\n",
       "2013-01-04  11.600947        NaN   8.345479  11.0\n",
       "2013-01-05  10.252277        NaN  10.927588  12.0\n",
       "2013-01-06   8.556755        NaN  11.198829  13.0\n",
       "2013-01-07   9.847112        NaN  10.154722  14.0\n",
       "2013-01-08  10.820451        NaN  11.377084  15.0\n",
       "2013-01-09   8.993152  10.506592  11.840697  16.0\n",
       "2013-01-10   9.734637        NaN  10.382608   NaN\n",
       "2013-01-11   9.696248        NaN  10.287324   NaN\n",
       "2013-01-12   9.356606  10.974534   8.992604   NaN\n",
       "2013-01-13  12.903643        NaN   9.798476   NaN\n",
       "2013-01-14   9.776556        NaN   9.930588   NaN\n",
       "2013-01-15   9.654201        NaN   9.604055   NaN\n",
       "2013-01-16   9.723814  10.548309  10.536616   NaN\n",
       "2013-01-17   9.101150  10.277332   8.979944   NaN\n",
       "2013-01-18  10.289806        NaN  10.040680   NaN\n",
       "2013-01-19  10.140836        NaN   9.287668   NaN\n",
       "2013-01-20  11.103890        NaN   9.674200   NaN"
      ]
     },
     "execution_count": 75,
     "metadata": {},
     "output_type": "execute_result"
    }
   ],
   "source": [
    "# Applying functions to the data \n",
    "\n",
    "def add_ten(x):\n",
    "    return x + 10\n",
    "\n",
    "df.transform(add_ten)"
   ]
  },
  {
   "cell_type": "code",
   "execution_count": 76,
   "metadata": {},
   "outputs": [
    {
     "data": {
      "text/html": [
       "<div>\n",
       "<style scoped>\n",
       "    .dataframe tbody tr th:only-of-type {\n",
       "        vertical-align: middle;\n",
       "    }\n",
       "\n",
       "    .dataframe tbody tr th {\n",
       "        vertical-align: top;\n",
       "    }\n",
       "\n",
       "    .dataframe thead th {\n",
       "        text-align: right;\n",
       "    }\n",
       "</style>\n",
       "<table border=\"1\" class=\"dataframe\">\n",
       "  <thead>\n",
       "    <tr style=\"text-align: right;\">\n",
       "      <th></th>\n",
       "      <th>A</th>\n",
       "      <th>B</th>\n",
       "      <th>C</th>\n",
       "      <th>D</th>\n",
       "    </tr>\n",
       "  </thead>\n",
       "  <tbody>\n",
       "    <tr>\n",
       "      <th>2013-01-01</th>\n",
       "      <td>21.135519</td>\n",
       "      <td>20.328451</td>\n",
       "      <td>19.303859</td>\n",
       "      <td>NaN</td>\n",
       "    </tr>\n",
       "    <tr>\n",
       "      <th>2013-01-02</th>\n",
       "      <td>20.390509</td>\n",
       "      <td>20.431525</td>\n",
       "      <td>21.422329</td>\n",
       "      <td>NaN</td>\n",
       "    </tr>\n",
       "    <tr>\n",
       "      <th>2013-01-03</th>\n",
       "      <td>20.364503</td>\n",
       "      <td>NaN</td>\n",
       "      <td>19.839679</td>\n",
       "      <td>NaN</td>\n",
       "    </tr>\n",
       "    <tr>\n",
       "      <th>2013-01-04</th>\n",
       "      <td>21.600947</td>\n",
       "      <td>NaN</td>\n",
       "      <td>18.345479</td>\n",
       "      <td>21.0</td>\n",
       "    </tr>\n",
       "    <tr>\n",
       "      <th>2013-01-05</th>\n",
       "      <td>20.252277</td>\n",
       "      <td>NaN</td>\n",
       "      <td>20.927588</td>\n",
       "      <td>22.0</td>\n",
       "    </tr>\n",
       "    <tr>\n",
       "      <th>2013-01-06</th>\n",
       "      <td>18.556755</td>\n",
       "      <td>NaN</td>\n",
       "      <td>21.198829</td>\n",
       "      <td>23.0</td>\n",
       "    </tr>\n",
       "    <tr>\n",
       "      <th>2013-01-07</th>\n",
       "      <td>19.847112</td>\n",
       "      <td>NaN</td>\n",
       "      <td>20.154722</td>\n",
       "      <td>24.0</td>\n",
       "    </tr>\n",
       "    <tr>\n",
       "      <th>2013-01-08</th>\n",
       "      <td>20.820451</td>\n",
       "      <td>NaN</td>\n",
       "      <td>21.377084</td>\n",
       "      <td>25.0</td>\n",
       "    </tr>\n",
       "    <tr>\n",
       "      <th>2013-01-09</th>\n",
       "      <td>18.993152</td>\n",
       "      <td>20.506592</td>\n",
       "      <td>21.840697</td>\n",
       "      <td>26.0</td>\n",
       "    </tr>\n",
       "    <tr>\n",
       "      <th>2013-01-10</th>\n",
       "      <td>19.734637</td>\n",
       "      <td>NaN</td>\n",
       "      <td>20.382608</td>\n",
       "      <td>NaN</td>\n",
       "    </tr>\n",
       "    <tr>\n",
       "      <th>2013-01-11</th>\n",
       "      <td>19.696248</td>\n",
       "      <td>NaN</td>\n",
       "      <td>20.287324</td>\n",
       "      <td>NaN</td>\n",
       "    </tr>\n",
       "    <tr>\n",
       "      <th>2013-01-12</th>\n",
       "      <td>19.356606</td>\n",
       "      <td>20.974534</td>\n",
       "      <td>18.992604</td>\n",
       "      <td>NaN</td>\n",
       "    </tr>\n",
       "    <tr>\n",
       "      <th>2013-01-13</th>\n",
       "      <td>22.903643</td>\n",
       "      <td>NaN</td>\n",
       "      <td>19.798476</td>\n",
       "      <td>NaN</td>\n",
       "    </tr>\n",
       "    <tr>\n",
       "      <th>2013-01-14</th>\n",
       "      <td>19.776556</td>\n",
       "      <td>NaN</td>\n",
       "      <td>19.930588</td>\n",
       "      <td>NaN</td>\n",
       "    </tr>\n",
       "    <tr>\n",
       "      <th>2013-01-15</th>\n",
       "      <td>19.654201</td>\n",
       "      <td>NaN</td>\n",
       "      <td>19.604055</td>\n",
       "      <td>NaN</td>\n",
       "    </tr>\n",
       "    <tr>\n",
       "      <th>2013-01-16</th>\n",
       "      <td>19.723814</td>\n",
       "      <td>20.548309</td>\n",
       "      <td>20.536616</td>\n",
       "      <td>NaN</td>\n",
       "    </tr>\n",
       "    <tr>\n",
       "      <th>2013-01-17</th>\n",
       "      <td>19.101150</td>\n",
       "      <td>20.277332</td>\n",
       "      <td>18.979944</td>\n",
       "      <td>NaN</td>\n",
       "    </tr>\n",
       "    <tr>\n",
       "      <th>2013-01-18</th>\n",
       "      <td>20.289806</td>\n",
       "      <td>NaN</td>\n",
       "      <td>20.040680</td>\n",
       "      <td>NaN</td>\n",
       "    </tr>\n",
       "    <tr>\n",
       "      <th>2013-01-19</th>\n",
       "      <td>20.140836</td>\n",
       "      <td>NaN</td>\n",
       "      <td>19.287668</td>\n",
       "      <td>NaN</td>\n",
       "    </tr>\n",
       "    <tr>\n",
       "      <th>2013-01-20</th>\n",
       "      <td>21.103890</td>\n",
       "      <td>NaN</td>\n",
       "      <td>19.674200</td>\n",
       "      <td>NaN</td>\n",
       "    </tr>\n",
       "  </tbody>\n",
       "</table>\n",
       "</div>"
      ],
      "text/plain": [
       "                    A          B          C     D\n",
       "2013-01-01  21.135519  20.328451  19.303859   NaN\n",
       "2013-01-02  20.390509  20.431525  21.422329   NaN\n",
       "2013-01-03  20.364503        NaN  19.839679   NaN\n",
       "2013-01-04  21.600947        NaN  18.345479  21.0\n",
       "2013-01-05  20.252277        NaN  20.927588  22.0\n",
       "2013-01-06  18.556755        NaN  21.198829  23.0\n",
       "2013-01-07  19.847112        NaN  20.154722  24.0\n",
       "2013-01-08  20.820451        NaN  21.377084  25.0\n",
       "2013-01-09  18.993152  20.506592  21.840697  26.0\n",
       "2013-01-10  19.734637        NaN  20.382608   NaN\n",
       "2013-01-11  19.696248        NaN  20.287324   NaN\n",
       "2013-01-12  19.356606  20.974534  18.992604   NaN\n",
       "2013-01-13  22.903643        NaN  19.798476   NaN\n",
       "2013-01-14  19.776556        NaN  19.930588   NaN\n",
       "2013-01-15  19.654201        NaN  19.604055   NaN\n",
       "2013-01-16  19.723814  20.548309  20.536616   NaN\n",
       "2013-01-17  19.101150  20.277332  18.979944   NaN\n",
       "2013-01-18  20.289806        NaN  20.040680   NaN\n",
       "2013-01-19  20.140836        NaN  19.287668   NaN\n",
       "2013-01-20  21.103890        NaN  19.674200   NaN"
      ]
     },
     "execution_count": 76,
     "metadata": {},
     "output_type": "execute_result"
    }
   ],
   "source": [
    "df.transform(lambda x: x+20)"
   ]
  },
  {
   "cell_type": "code",
   "execution_count": 77,
   "metadata": {},
   "outputs": [
    {
     "data": {
      "text/html": [
       "<div>\n",
       "<style scoped>\n",
       "    .dataframe tbody tr th:only-of-type {\n",
       "        vertical-align: middle;\n",
       "    }\n",
       "\n",
       "    .dataframe tbody tr th {\n",
       "        vertical-align: top;\n",
       "    }\n",
       "\n",
       "    .dataframe thead th {\n",
       "        text-align: right;\n",
       "    }\n",
       "</style>\n",
       "<table border=\"1\" class=\"dataframe\">\n",
       "  <thead>\n",
       "    <tr style=\"text-align: right;\">\n",
       "      <th></th>\n",
       "      <th>A</th>\n",
       "      <th>B</th>\n",
       "      <th>C</th>\n",
       "      <th>D</th>\n",
       "      <th>E</th>\n",
       "      <th>F</th>\n",
       "      <th>labels</th>\n",
       "    </tr>\n",
       "  </thead>\n",
       "  <tbody>\n",
       "    <tr>\n",
       "      <th>2013-01-01</th>\n",
       "      <td>1.135519</td>\n",
       "      <td>0.328451</td>\n",
       "      <td>-0.696141</td>\n",
       "      <td>NaN</td>\n",
       "      <td>0.571127</td>\n",
       "      <td>1.068011</td>\n",
       "      <td>NaN</td>\n",
       "    </tr>\n",
       "    <tr>\n",
       "      <th>2013-01-02</th>\n",
       "      <td>0.390509</td>\n",
       "      <td>0.431525</td>\n",
       "      <td>1.422329</td>\n",
       "      <td>NaN</td>\n",
       "      <td>-1.523524</td>\n",
       "      <td>-1.568872</td>\n",
       "      <td>NaN</td>\n",
       "    </tr>\n",
       "    <tr>\n",
       "      <th>2013-01-03</th>\n",
       "      <td>0.364503</td>\n",
       "      <td>NaN</td>\n",
       "      <td>-0.160321</td>\n",
       "      <td>NaN</td>\n",
       "      <td>0.662748</td>\n",
       "      <td>1.396690</td>\n",
       "      <td>NaN</td>\n",
       "    </tr>\n",
       "    <tr>\n",
       "      <th>2013-01-04</th>\n",
       "      <td>1.600947</td>\n",
       "      <td>NaN</td>\n",
       "      <td>-1.654521</td>\n",
       "      <td>1.0</td>\n",
       "      <td>-1.714288</td>\n",
       "      <td>-0.738511</td>\n",
       "      <td>one</td>\n",
       "    </tr>\n",
       "    <tr>\n",
       "      <th>2013-01-05</th>\n",
       "      <td>0.252277</td>\n",
       "      <td>NaN</td>\n",
       "      <td>0.927588</td>\n",
       "      <td>2.0</td>\n",
       "      <td>1.430839</td>\n",
       "      <td>0.595426</td>\n",
       "      <td>one</td>\n",
       "    </tr>\n",
       "    <tr>\n",
       "      <th>2013-01-06</th>\n",
       "      <td>-1.443245</td>\n",
       "      <td>NaN</td>\n",
       "      <td>1.198829</td>\n",
       "      <td>3.0</td>\n",
       "      <td>-1.481637</td>\n",
       "      <td>-0.246600</td>\n",
       "      <td>two</td>\n",
       "    </tr>\n",
       "    <tr>\n",
       "      <th>2013-01-07</th>\n",
       "      <td>-0.152888</td>\n",
       "      <td>NaN</td>\n",
       "      <td>0.154722</td>\n",
       "      <td>4.0</td>\n",
       "      <td>-1.110857</td>\n",
       "      <td>0.966701</td>\n",
       "      <td>three</td>\n",
       "    </tr>\n",
       "    <tr>\n",
       "      <th>2013-01-08</th>\n",
       "      <td>0.820451</td>\n",
       "      <td>NaN</td>\n",
       "      <td>1.377084</td>\n",
       "      <td>5.0</td>\n",
       "      <td>0.526855</td>\n",
       "      <td>0.972619</td>\n",
       "      <td>four</td>\n",
       "    </tr>\n",
       "    <tr>\n",
       "      <th>2013-01-09</th>\n",
       "      <td>-1.006848</td>\n",
       "      <td>0.506592</td>\n",
       "      <td>1.840697</td>\n",
       "      <td>6.0</td>\n",
       "      <td>2.541419</td>\n",
       "      <td>-1.325393</td>\n",
       "      <td>two</td>\n",
       "    </tr>\n",
       "    <tr>\n",
       "      <th>2013-01-10</th>\n",
       "      <td>-0.265363</td>\n",
       "      <td>NaN</td>\n",
       "      <td>0.382608</td>\n",
       "      <td>NaN</td>\n",
       "      <td>0.415542</td>\n",
       "      <td>-1.004100</td>\n",
       "      <td>one</td>\n",
       "    </tr>\n",
       "    <tr>\n",
       "      <th>2013-01-11</th>\n",
       "      <td>-0.303752</td>\n",
       "      <td>NaN</td>\n",
       "      <td>0.287324</td>\n",
       "      <td>NaN</td>\n",
       "      <td>-0.413296</td>\n",
       "      <td>-1.205300</td>\n",
       "      <td>three</td>\n",
       "    </tr>\n",
       "    <tr>\n",
       "      <th>2013-01-12</th>\n",
       "      <td>-0.643394</td>\n",
       "      <td>0.974534</td>\n",
       "      <td>-1.007396</td>\n",
       "      <td>NaN</td>\n",
       "      <td>-1.999683</td>\n",
       "      <td>-0.692649</td>\n",
       "      <td>NaN</td>\n",
       "    </tr>\n",
       "    <tr>\n",
       "      <th>2013-01-13</th>\n",
       "      <td>2.903643</td>\n",
       "      <td>NaN</td>\n",
       "      <td>-0.201524</td>\n",
       "      <td>NaN</td>\n",
       "      <td>-0.055410</td>\n",
       "      <td>-0.949024</td>\n",
       "      <td>NaN</td>\n",
       "    </tr>\n",
       "    <tr>\n",
       "      <th>2013-01-14</th>\n",
       "      <td>-0.223444</td>\n",
       "      <td>NaN</td>\n",
       "      <td>-0.069412</td>\n",
       "      <td>NaN</td>\n",
       "      <td>-0.694650</td>\n",
       "      <td>0.975774</td>\n",
       "      <td>NaN</td>\n",
       "    </tr>\n",
       "    <tr>\n",
       "      <th>2013-01-15</th>\n",
       "      <td>-0.345799</td>\n",
       "      <td>NaN</td>\n",
       "      <td>-0.395945</td>\n",
       "      <td>NaN</td>\n",
       "      <td>-0.116313</td>\n",
       "      <td>-0.653463</td>\n",
       "      <td>NaN</td>\n",
       "    </tr>\n",
       "    <tr>\n",
       "      <th>2013-01-16</th>\n",
       "      <td>-0.276186</td>\n",
       "      <td>0.548309</td>\n",
       "      <td>0.536616</td>\n",
       "      <td>NaN</td>\n",
       "      <td>-0.950949</td>\n",
       "      <td>-0.754732</td>\n",
       "      <td>NaN</td>\n",
       "    </tr>\n",
       "    <tr>\n",
       "      <th>2013-01-17</th>\n",
       "      <td>-0.898850</td>\n",
       "      <td>0.277332</td>\n",
       "      <td>-1.020056</td>\n",
       "      <td>NaN</td>\n",
       "      <td>-0.115303</td>\n",
       "      <td>0.189328</td>\n",
       "      <td>NaN</td>\n",
       "    </tr>\n",
       "    <tr>\n",
       "      <th>2013-01-18</th>\n",
       "      <td>0.289806</td>\n",
       "      <td>NaN</td>\n",
       "      <td>0.040680</td>\n",
       "      <td>NaN</td>\n",
       "      <td>-0.124924</td>\n",
       "      <td>-1.581505</td>\n",
       "      <td>NaN</td>\n",
       "    </tr>\n",
       "    <tr>\n",
       "      <th>2013-01-19</th>\n",
       "      <td>0.140836</td>\n",
       "      <td>NaN</td>\n",
       "      <td>-0.712332</td>\n",
       "      <td>NaN</td>\n",
       "      <td>0.457447</td>\n",
       "      <td>-0.394367</td>\n",
       "      <td>NaN</td>\n",
       "    </tr>\n",
       "    <tr>\n",
       "      <th>2013-01-20</th>\n",
       "      <td>1.103890</td>\n",
       "      <td>NaN</td>\n",
       "      <td>-0.325800</td>\n",
       "      <td>NaN</td>\n",
       "      <td>0.814690</td>\n",
       "      <td>-0.612523</td>\n",
       "      <td>NaN</td>\n",
       "    </tr>\n",
       "  </tbody>\n",
       "</table>\n",
       "</div>"
      ],
      "text/plain": [
       "                   A         B         C    D         E         F labels\n",
       "2013-01-01  1.135519  0.328451 -0.696141  NaN  0.571127  1.068011    NaN\n",
       "2013-01-02  0.390509  0.431525  1.422329  NaN -1.523524 -1.568872    NaN\n",
       "2013-01-03  0.364503       NaN -0.160321  NaN  0.662748  1.396690    NaN\n",
       "2013-01-04  1.600947       NaN -1.654521  1.0 -1.714288 -0.738511    one\n",
       "2013-01-05  0.252277       NaN  0.927588  2.0  1.430839  0.595426    one\n",
       "2013-01-06 -1.443245       NaN  1.198829  3.0 -1.481637 -0.246600    two\n",
       "2013-01-07 -0.152888       NaN  0.154722  4.0 -1.110857  0.966701  three\n",
       "2013-01-08  0.820451       NaN  1.377084  5.0  0.526855  0.972619   four\n",
       "2013-01-09 -1.006848  0.506592  1.840697  6.0  2.541419 -1.325393    two\n",
       "2013-01-10 -0.265363       NaN  0.382608  NaN  0.415542 -1.004100    one\n",
       "2013-01-11 -0.303752       NaN  0.287324  NaN -0.413296 -1.205300  three\n",
       "2013-01-12 -0.643394  0.974534 -1.007396  NaN -1.999683 -0.692649    NaN\n",
       "2013-01-13  2.903643       NaN -0.201524  NaN -0.055410 -0.949024    NaN\n",
       "2013-01-14 -0.223444       NaN -0.069412  NaN -0.694650  0.975774    NaN\n",
       "2013-01-15 -0.345799       NaN -0.395945  NaN -0.116313 -0.653463    NaN\n",
       "2013-01-16 -0.276186  0.548309  0.536616  NaN -0.950949 -0.754732    NaN\n",
       "2013-01-17 -0.898850  0.277332 -1.020056  NaN -0.115303  0.189328    NaN\n",
       "2013-01-18  0.289806       NaN  0.040680  NaN -0.124924 -1.581505    NaN\n",
       "2013-01-19  0.140836       NaN -0.712332  NaN  0.457447 -0.394367    NaN\n",
       "2013-01-20  1.103890       NaN -0.325800  NaN  0.814690 -0.612523    NaN"
      ]
     },
     "execution_count": 77,
     "metadata": {},
     "output_type": "execute_result"
    }
   ],
   "source": [
    "# Merging together dataframes\n",
    "\n",
    "new_df = pd.DataFrame(np.random.randn(20, 2), index=dates, columns=list(\"EF\"))\n",
    "new_df[\"labels\"] = pd.Series([\"one\", \"one\", \"two\", \"three\", \"four\", \"two\", \"one\", \"three\"], index=pd.date_range(\"20130104\", periods=8))\n",
    "\n",
    "merged_df = pd.concat([df,new_df], axis=1)\n",
    "merged_df"
   ]
  },
  {
   "cell_type": "code",
   "execution_count": 83,
   "metadata": {
    "scrolled": true
   },
   "outputs": [
    {
     "data": {
      "text/html": [
       "<div>\n",
       "<style scoped>\n",
       "    .dataframe tbody tr th:only-of-type {\n",
       "        vertical-align: middle;\n",
       "    }\n",
       "\n",
       "    .dataframe tbody tr th {\n",
       "        vertical-align: top;\n",
       "    }\n",
       "\n",
       "    .dataframe thead th {\n",
       "        text-align: right;\n",
       "    }\n",
       "</style>\n",
       "<table border=\"1\" class=\"dataframe\">\n",
       "  <thead>\n",
       "    <tr style=\"text-align: right;\">\n",
       "      <th></th>\n",
       "      <th>A</th>\n",
       "      <th>B</th>\n",
       "      <th>C</th>\n",
       "      <th>D</th>\n",
       "      <th>E</th>\n",
       "      <th>F</th>\n",
       "    </tr>\n",
       "    <tr>\n",
       "      <th>labels</th>\n",
       "      <th></th>\n",
       "      <th></th>\n",
       "      <th></th>\n",
       "      <th></th>\n",
       "      <th></th>\n",
       "      <th></th>\n",
       "    </tr>\n",
       "  </thead>\n",
       "  <tbody>\n",
       "    <tr>\n",
       "      <th>four</th>\n",
       "      <td>0.820451</td>\n",
       "      <td>0.000000</td>\n",
       "      <td>1.377084</td>\n",
       "      <td>5.0</td>\n",
       "      <td>0.526855</td>\n",
       "      <td>0.972619</td>\n",
       "    </tr>\n",
       "    <tr>\n",
       "      <th>one</th>\n",
       "      <td>1.587861</td>\n",
       "      <td>0.000000</td>\n",
       "      <td>-0.344325</td>\n",
       "      <td>3.0</td>\n",
       "      <td>0.132093</td>\n",
       "      <td>-1.147185</td>\n",
       "    </tr>\n",
       "    <tr>\n",
       "      <th>three</th>\n",
       "      <td>-0.456640</td>\n",
       "      <td>0.000000</td>\n",
       "      <td>0.442046</td>\n",
       "      <td>4.0</td>\n",
       "      <td>-1.524154</td>\n",
       "      <td>-0.238598</td>\n",
       "    </tr>\n",
       "    <tr>\n",
       "      <th>two</th>\n",
       "      <td>-2.450093</td>\n",
       "      <td>0.506592</td>\n",
       "      <td>3.039526</td>\n",
       "      <td>9.0</td>\n",
       "      <td>1.059782</td>\n",
       "      <td>-1.571993</td>\n",
       "    </tr>\n",
       "  </tbody>\n",
       "</table>\n",
       "</div>"
      ],
      "text/plain": [
       "               A         B         C    D         E         F\n",
       "labels                                                       \n",
       "four    0.820451  0.000000  1.377084  5.0  0.526855  0.972619\n",
       "one     1.587861  0.000000 -0.344325  3.0  0.132093 -1.147185\n",
       "three  -0.456640  0.000000  0.442046  4.0 -1.524154 -0.238598\n",
       "two    -2.450093  0.506592  3.039526  9.0  1.059782 -1.571993"
      ]
     },
     "execution_count": 83,
     "metadata": {},
     "output_type": "execute_result"
    }
   ],
   "source": [
    "merged_df.groupby('labels').sum()"
   ]
  },
  {
   "cell_type": "markdown",
   "metadata": {},
   "source": [
    "# Plotting basics"
   ]
  },
  {
   "cell_type": "code",
   "execution_count": 88,
   "metadata": {},
   "outputs": [],
   "source": [
    "# The most common plotting library is probably matplotlib.\n",
    "import matplotlib.pyplot as plt"
   ]
  },
  {
   "cell_type": "code",
   "execution_count": 89,
   "metadata": {},
   "outputs": [
    {
     "data": {
      "text/plain": [
       "<Axes: >"
      ]
     },
     "execution_count": 89,
     "metadata": {},
     "output_type": "execute_result"
    },
    {
     "data": {
      "image/png": "[encoded data removed]",
      "text/plain": [
       "<Figure size 640x480 with 1 Axes>"
      ]
     },
     "metadata": {},
     "output_type": "display_data"
    }
   ],
   "source": [
    "ts = pd.Series(np.random.randn(1000), index=pd.date_range(\"1/1/2000\", periods=1000))\n",
    "\n",
    "ts = ts.cumsum()\n",
    "\n",
    "ts.plot()"
   ]
  },
  {
   "cell_type": "code",
   "execution_count": 90,
   "metadata": {},
   "outputs": [
    {
     "data": {
      "text/plain": [
       "Text(0, 0.5, 'entry b')"
      ]
     },
     "execution_count": 90,
     "metadata": {},
     "output_type": "execute_result"
    },
    {
     "data": {
      "image/png": "[encoded data removed]",
      "text/plain": [
       "<Figure size 500x270 with 1 Axes>"
      ]
     },
     "metadata": {},
     "output_type": "display_data"
    }
   ],
   "source": [
    "np.random.seed(19680801)  # seed the random number generator.\n",
    "data = {'a': np.arange(50),\n",
    "        'c': np.random.randint(0, 50, 50),\n",
    "        'd': np.random.randn(50)}\n",
    "data['b'] = data['a'] + 10 * np.random.randn(50)\n",
    "data['d'] = np.abs(data['d']) * 100\n",
    "\n",
    "fig, ax = plt.subplots(figsize=(5, 2.7), layout='constrained')\n",
    "ax.scatter('a', 'b', c='c', s='d', data=data)\n",
    "ax.set_xlabel('entry a')\n",
    "ax.set_ylabel('entry b')\n"
   ]
  },
  {
   "cell_type": "code",
   "execution_count": 91,
   "metadata": {},
   "outputs": [
    {
     "data": {
      "text/plain": [
       "<matplotlib.legend.Legend at 0x14897b190>"
      ]
     },
     "execution_count": 91,
     "metadata": {},
     "output_type": "execute_result"
    },
    {
     "data": {
      "image/png": "[encoded data removed]",
      "text/plain": [
       "<Figure size 500x270 with 1 Axes>"
      ]
     },
     "metadata": {},
     "output_type": "display_data"
    }
   ],
   "source": [
    "x = np.linspace(0, 2, 100)  # Sample data.\n",
    "\n",
    "plt.figure(figsize=(5, 2.7), layout='constrained')\n",
    "plt.plot(x, x, label='linear')  # Plot some data on the (implicit) Axes.\n",
    "plt.plot(x, x**2, label='quadratic')  # etc.\n",
    "plt.plot(x, x**3, label='cubic')\n",
    "plt.xlabel('x label')\n",
    "plt.ylabel('y label')\n",
    "plt.title(\"Simple Plot\")\n",
    "plt.legend()"
   ]
  },
  {
   "cell_type": "markdown",
   "metadata": {
    "id": "APgs2sU9APLE"
   },
   "source": [
    "# Sources"
   ]
  },
  {
   "cell_type": "markdown",
   "metadata": {
    "id": "YCj0wRvI1PV2"
   },
   "source": [
    "https://pandas.pydata.org/pandas-docs/stable/user_guide/10min.html\n",
    "\n",
    "http://openbookproject.net/thinkcs/python/english2e/index.html\n",
    "\n",
    "https://matplotlib.org/stable/users/explain/quick_start.html#quick-start"
   ]
  },
  {
   "cell_type": "code",
   "execution_count": null,
   "metadata": {},
   "outputs": [],
   "source": []
  }
 ],
 "metadata": {
  "colab": {
   "collapsed_sections": [
    "FGts7vqfaEaS",
    "Gdy4Ws97aSb8",
    "kNrh1g-FadxZ",
    "wmT91apTaT65",
    "T9NwpGwcaqNy",
    "3gLuxzDNe2z5",
    "aawaKOAm-OGQ",
    "cNt1BzQy-Pn1",
    "5MSLMEVI-WPo",
    "_-Smct1S-tOw",
    "5_gGOxyebxfZ",
    "Wioio5YbbxZ-",
    "W_9VfZZdBRq_",
    "jTDu3gVJAw0r",
    "7xp5IEg7CdSz"
   ],
   "provenance": [],
   "toc_visible": true
  },
  "kernelspec": {
   "display_name": "Python 3 (ipykernel)",
   "language": "python",
   "name": "python3"
  },
  "language_info": {
   "codemirror_mode": {
    "name": "ipython",
    "version": 3
   },
   "file_extension": ".py",
   "mimetype": "text/x-python",
   "name": "python",
   "nbconvert_exporter": "python",
   "pygments_lexer": "ipython3",
   "version": "3.11.7"
  }
 },
 "nbformat": 4,
 "nbformat_minor": 4
}
